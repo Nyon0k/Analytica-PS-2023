{
  "nbformat": 4,
  "nbformat_minor": 0,
  "metadata": {
    "colab": {
      "provenance": [],
      "collapsed_sections": [
        "X1Kk5USByhyf",
        "VDBzhDwnza9Y",
        "ApAC81SB1SMD",
        "KBBondUnIJ8Z",
        "Tp1RdaFoRNBT",
        "U-c7OprKMtMP",
        "cPOwiOfZ6iV_"
      ],
      "authorship_tag": "ABX9TyNWd9o105yLJLU83NqRIM/O",
      "include_colab_link": true
    },
    "kernelspec": {
      "name": "python3",
      "display_name": "Python 3"
    },
    "language_info": {
      "name": "python"
    }
  },
  "cells": [
    {
      "cell_type": "markdown",
      "metadata": {
        "id": "view-in-github",
        "colab_type": "text"
      },
      "source": [
        "<a href=\"https://colab.research.google.com/github/Nyon0k/Analytica-PS-2023/blob/main/AnaliseOrganizada.ipynb\" target=\"_parent\"><img src=\"https://colab.research.google.com/assets/colab-badge.svg\" alt=\"Open In Colab\"/></a>"
      ]
    },
    {
      "cell_type": "code",
      "execution_count": 1,
      "metadata": {
        "id": "vWajs2wLxKIX"
      },
      "outputs": [],
      "source": [
        "import pandas as pd\n",
        "import numpy as np\n",
        "import matplotlib.pyplot as plt"
      ]
    },
    {
      "cell_type": "markdown",
      "source": [
        "##Dataframes base tratados"
      ],
      "metadata": {
        "id": "X1Kk5USByhyf"
      }
    },
    {
      "cell_type": "code",
      "source": [
        "uf_pib_limpo = pd.read_csv('uf_pib_limpo.csv')\n",
        "uf_pib_limpo"
      ],
      "metadata": {
        "colab": {
          "base_uri": "https://localhost:8080/",
          "height": 0
        },
        "id": "IjVEia4uzCVi",
        "outputId": "0bbe3bc1-1fcf-463f-f17e-45e1a6537b3a"
      },
      "execution_count": 2,
      "outputs": [
        {
          "output_type": "execute_result",
          "data": {
            "text/plain": [
              "      ano  id_uf sigla_uf           pib  impostos_liquidos            va  \\\n",
              "0    2002     11       RO    7467629886          839731192    6627898698   \n",
              "1    2003     11       RO    9425010486         1108434936    8316575548   \n",
              "2    2004     11       RO   11004641436         1288806654    9715834778   \n",
              "3    2005     11       RO   12511821181         1476144194   11035676990   \n",
              "4    2006     11       RO   13054713344         1613809974   11440903374   \n",
              "..    ...    ...      ...           ...                ...           ...   \n",
              "508  2016     53       DF  235540044811        29145619376  206394425435   \n",
              "509  2017     53       DF  244722249337        29120461647  215601787690   \n",
              "510  2018     53       DF  254817204692        28692287369  226124917323   \n",
              "511  2019     53       DF  273613711477        30686607647  242927103829   \n",
              "512  2020     53       DF  265847334003        25466227775  240381106228   \n",
              "\n",
              "     va_agropecuaria  va_industria   va_servicos    va_adespss  \n",
              "0          715526872    1191090432    2484579193    2236702207  \n",
              "1         1278658831    1216605061    3376727040    2444584625  \n",
              "2         1288515348    1674933817    3986529419    2765856199  \n",
              "3         1342222120    1887932121    4603783904    3201738843  \n",
              "4         1238006193    2210692147    4320526746    3671678293  \n",
              "..               ...           ...           ...           ...  \n",
              "508        820754661    9662357225  103859865830   92051447720  \n",
              "509        828313642    8448768236  108322119432   98002586380  \n",
              "510       1022690641    9541298290  113768086938  101792841454  \n",
              "511        992393584    9453608031  125261853488  107219248727  \n",
              "512       1623976909   10942472569  116547655370  111267001381  \n",
              "\n",
              "[513 rows x 10 columns]"
            ],
            "text/html": [
              "\n",
              "  <div id=\"df-38d610b9-5991-437d-ab81-176e3589a9a8\">\n",
              "    <div class=\"colab-df-container\">\n",
              "      <div>\n",
              "<style scoped>\n",
              "    .dataframe tbody tr th:only-of-type {\n",
              "        vertical-align: middle;\n",
              "    }\n",
              "\n",
              "    .dataframe tbody tr th {\n",
              "        vertical-align: top;\n",
              "    }\n",
              "\n",
              "    .dataframe thead th {\n",
              "        text-align: right;\n",
              "    }\n",
              "</style>\n",
              "<table border=\"1\" class=\"dataframe\">\n",
              "  <thead>\n",
              "    <tr style=\"text-align: right;\">\n",
              "      <th></th>\n",
              "      <th>ano</th>\n",
              "      <th>id_uf</th>\n",
              "      <th>sigla_uf</th>\n",
              "      <th>pib</th>\n",
              "      <th>impostos_liquidos</th>\n",
              "      <th>va</th>\n",
              "      <th>va_agropecuaria</th>\n",
              "      <th>va_industria</th>\n",
              "      <th>va_servicos</th>\n",
              "      <th>va_adespss</th>\n",
              "    </tr>\n",
              "  </thead>\n",
              "  <tbody>\n",
              "    <tr>\n",
              "      <th>0</th>\n",
              "      <td>2002</td>\n",
              "      <td>11</td>\n",
              "      <td>RO</td>\n",
              "      <td>7467629886</td>\n",
              "      <td>839731192</td>\n",
              "      <td>6627898698</td>\n",
              "      <td>715526872</td>\n",
              "      <td>1191090432</td>\n",
              "      <td>2484579193</td>\n",
              "      <td>2236702207</td>\n",
              "    </tr>\n",
              "    <tr>\n",
              "      <th>1</th>\n",
              "      <td>2003</td>\n",
              "      <td>11</td>\n",
              "      <td>RO</td>\n",
              "      <td>9425010486</td>\n",
              "      <td>1108434936</td>\n",
              "      <td>8316575548</td>\n",
              "      <td>1278658831</td>\n",
              "      <td>1216605061</td>\n",
              "      <td>3376727040</td>\n",
              "      <td>2444584625</td>\n",
              "    </tr>\n",
              "    <tr>\n",
              "      <th>2</th>\n",
              "      <td>2004</td>\n",
              "      <td>11</td>\n",
              "      <td>RO</td>\n",
              "      <td>11004641436</td>\n",
              "      <td>1288806654</td>\n",
              "      <td>9715834778</td>\n",
              "      <td>1288515348</td>\n",
              "      <td>1674933817</td>\n",
              "      <td>3986529419</td>\n",
              "      <td>2765856199</td>\n",
              "    </tr>\n",
              "    <tr>\n",
              "      <th>3</th>\n",
              "      <td>2005</td>\n",
              "      <td>11</td>\n",
              "      <td>RO</td>\n",
              "      <td>12511821181</td>\n",
              "      <td>1476144194</td>\n",
              "      <td>11035676990</td>\n",
              "      <td>1342222120</td>\n",
              "      <td>1887932121</td>\n",
              "      <td>4603783904</td>\n",
              "      <td>3201738843</td>\n",
              "    </tr>\n",
              "    <tr>\n",
              "      <th>4</th>\n",
              "      <td>2006</td>\n",
              "      <td>11</td>\n",
              "      <td>RO</td>\n",
              "      <td>13054713344</td>\n",
              "      <td>1613809974</td>\n",
              "      <td>11440903374</td>\n",
              "      <td>1238006193</td>\n",
              "      <td>2210692147</td>\n",
              "      <td>4320526746</td>\n",
              "      <td>3671678293</td>\n",
              "    </tr>\n",
              "    <tr>\n",
              "      <th>...</th>\n",
              "      <td>...</td>\n",
              "      <td>...</td>\n",
              "      <td>...</td>\n",
              "      <td>...</td>\n",
              "      <td>...</td>\n",
              "      <td>...</td>\n",
              "      <td>...</td>\n",
              "      <td>...</td>\n",
              "      <td>...</td>\n",
              "      <td>...</td>\n",
              "    </tr>\n",
              "    <tr>\n",
              "      <th>508</th>\n",
              "      <td>2016</td>\n",
              "      <td>53</td>\n",
              "      <td>DF</td>\n",
              "      <td>235540044811</td>\n",
              "      <td>29145619376</td>\n",
              "      <td>206394425435</td>\n",
              "      <td>820754661</td>\n",
              "      <td>9662357225</td>\n",
              "      <td>103859865830</td>\n",
              "      <td>92051447720</td>\n",
              "    </tr>\n",
              "    <tr>\n",
              "      <th>509</th>\n",
              "      <td>2017</td>\n",
              "      <td>53</td>\n",
              "      <td>DF</td>\n",
              "      <td>244722249337</td>\n",
              "      <td>29120461647</td>\n",
              "      <td>215601787690</td>\n",
              "      <td>828313642</td>\n",
              "      <td>8448768236</td>\n",
              "      <td>108322119432</td>\n",
              "      <td>98002586380</td>\n",
              "    </tr>\n",
              "    <tr>\n",
              "      <th>510</th>\n",
              "      <td>2018</td>\n",
              "      <td>53</td>\n",
              "      <td>DF</td>\n",
              "      <td>254817204692</td>\n",
              "      <td>28692287369</td>\n",
              "      <td>226124917323</td>\n",
              "      <td>1022690641</td>\n",
              "      <td>9541298290</td>\n",
              "      <td>113768086938</td>\n",
              "      <td>101792841454</td>\n",
              "    </tr>\n",
              "    <tr>\n",
              "      <th>511</th>\n",
              "      <td>2019</td>\n",
              "      <td>53</td>\n",
              "      <td>DF</td>\n",
              "      <td>273613711477</td>\n",
              "      <td>30686607647</td>\n",
              "      <td>242927103829</td>\n",
              "      <td>992393584</td>\n",
              "      <td>9453608031</td>\n",
              "      <td>125261853488</td>\n",
              "      <td>107219248727</td>\n",
              "    </tr>\n",
              "    <tr>\n",
              "      <th>512</th>\n",
              "      <td>2020</td>\n",
              "      <td>53</td>\n",
              "      <td>DF</td>\n",
              "      <td>265847334003</td>\n",
              "      <td>25466227775</td>\n",
              "      <td>240381106228</td>\n",
              "      <td>1623976909</td>\n",
              "      <td>10942472569</td>\n",
              "      <td>116547655370</td>\n",
              "      <td>111267001381</td>\n",
              "    </tr>\n",
              "  </tbody>\n",
              "</table>\n",
              "<p>513 rows × 10 columns</p>\n",
              "</div>\n",
              "      <button class=\"colab-df-convert\" onclick=\"convertToInteractive('df-38d610b9-5991-437d-ab81-176e3589a9a8')\"\n",
              "              title=\"Convert this dataframe to an interactive table.\"\n",
              "              style=\"display:none;\">\n",
              "        \n",
              "  <svg xmlns=\"http://www.w3.org/2000/svg\" height=\"24px\"viewBox=\"0 0 24 24\"\n",
              "       width=\"24px\">\n",
              "    <path d=\"M0 0h24v24H0V0z\" fill=\"none\"/>\n",
              "    <path d=\"M18.56 5.44l.94 2.06.94-2.06 2.06-.94-2.06-.94-.94-2.06-.94 2.06-2.06.94zm-11 1L8.5 8.5l.94-2.06 2.06-.94-2.06-.94L8.5 2.5l-.94 2.06-2.06.94zm10 10l.94 2.06.94-2.06 2.06-.94-2.06-.94-.94-2.06-.94 2.06-2.06.94z\"/><path d=\"M17.41 7.96l-1.37-1.37c-.4-.4-.92-.59-1.43-.59-.52 0-1.04.2-1.43.59L10.3 9.45l-7.72 7.72c-.78.78-.78 2.05 0 2.83L4 21.41c.39.39.9.59 1.41.59.51 0 1.02-.2 1.41-.59l7.78-7.78 2.81-2.81c.8-.78.8-2.07 0-2.86zM5.41 20L4 18.59l7.72-7.72 1.47 1.35L5.41 20z\"/>\n",
              "  </svg>\n",
              "      </button>\n",
              "      \n",
              "  <style>\n",
              "    .colab-df-container {\n",
              "      display:flex;\n",
              "      flex-wrap:wrap;\n",
              "      gap: 12px;\n",
              "    }\n",
              "\n",
              "    .colab-df-convert {\n",
              "      background-color: #E8F0FE;\n",
              "      border: none;\n",
              "      border-radius: 50%;\n",
              "      cursor: pointer;\n",
              "      display: none;\n",
              "      fill: #1967D2;\n",
              "      height: 32px;\n",
              "      padding: 0 0 0 0;\n",
              "      width: 32px;\n",
              "    }\n",
              "\n",
              "    .colab-df-convert:hover {\n",
              "      background-color: #E2EBFA;\n",
              "      box-shadow: 0px 1px 2px rgba(60, 64, 67, 0.3), 0px 1px 3px 1px rgba(60, 64, 67, 0.15);\n",
              "      fill: #174EA6;\n",
              "    }\n",
              "\n",
              "    [theme=dark] .colab-df-convert {\n",
              "      background-color: #3B4455;\n",
              "      fill: #D2E3FC;\n",
              "    }\n",
              "\n",
              "    [theme=dark] .colab-df-convert:hover {\n",
              "      background-color: #434B5C;\n",
              "      box-shadow: 0px 1px 3px 1px rgba(0, 0, 0, 0.15);\n",
              "      filter: drop-shadow(0px 1px 2px rgba(0, 0, 0, 0.3));\n",
              "      fill: #FFFFFF;\n",
              "    }\n",
              "  </style>\n",
              "\n",
              "      <script>\n",
              "        const buttonEl =\n",
              "          document.querySelector('#df-38d610b9-5991-437d-ab81-176e3589a9a8 button.colab-df-convert');\n",
              "        buttonEl.style.display =\n",
              "          google.colab.kernel.accessAllowed ? 'block' : 'none';\n",
              "\n",
              "        async function convertToInteractive(key) {\n",
              "          const element = document.querySelector('#df-38d610b9-5991-437d-ab81-176e3589a9a8');\n",
              "          const dataTable =\n",
              "            await google.colab.kernel.invokeFunction('convertToInteractive',\n",
              "                                                     [key], {});\n",
              "          if (!dataTable) return;\n",
              "\n",
              "          const docLinkHtml = 'Like what you see? Visit the ' +\n",
              "            '<a target=\"_blank\" href=https://colab.research.google.com/notebooks/data_table.ipynb>data table notebook</a>'\n",
              "            + ' to learn more about interactive tables.';\n",
              "          element.innerHTML = '';\n",
              "          dataTable['output_type'] = 'display_data';\n",
              "          await google.colab.output.renderOutput(dataTable, element);\n",
              "          const docLink = document.createElement('div');\n",
              "          docLink.innerHTML = docLinkHtml;\n",
              "          element.appendChild(docLink);\n",
              "        }\n",
              "      </script>\n",
              "    </div>\n",
              "  </div>\n",
              "  "
            ]
          },
          "metadata": {},
          "execution_count": 2
        }
      ]
    },
    {
      "cell_type": "code",
      "source": [
        "uf_educacao_limpo = pd.read_csv('uf_educacao_limpo.csv')\n",
        "uf_educacao_limpo"
      ],
      "metadata": {
        "colab": {
          "base_uri": "https://localhost:8080/",
          "height": 0
        },
        "id": "dCOd3PK7yhUp",
        "outputId": "c7569847-9e4d-47f1-e60e-658175c0fb7f"
      },
      "execution_count": 3,
      "outputs": [
        {
          "output_type": "execute_result",
          "data": {
            "text/plain": [
              "      ano sigla_uf localizacao     rede  atu_ei  atu_ei_creche  \\\n",
              "0    2013       AL       total  publica    19.9           21.2   \n",
              "1    2013       AL       total    total    18.2           18.8   \n",
              "2    2013       AL      urbana  publica    21.0           21.7   \n",
              "3    2013       AL      urbana    total    18.2           18.5   \n",
              "4    2013       CE       total  publica    18.2           17.9   \n",
              "..    ...      ...         ...      ...     ...            ...   \n",
              "682  2019       SP      urbana    total    15.7           13.1   \n",
              "683  2019       TO       rural  publica    13.2           13.4   \n",
              "684  2019       TO       rural    total    13.2           13.4   \n",
              "685  2019       TO       total  publica    19.1           18.3   \n",
              "686  2019       TO       total    total    18.2           17.1   \n",
              "\n",
              "     atu_ei_pre_escola  atu_ef  atu_ef_anos_iniciais  atu_ef_anos_finais  ...  \\\n",
              "0                 19.5    27.3                  24.5                33.7  ...   \n",
              "1                 18.0    26.0                  22.9                32.5  ...   \n",
              "2                 20.7    29.9                  25.8                35.1  ...   \n",
              "3                 18.0    27.5                  23.4                33.3  ...   \n",
              "4                 18.4    22.5                  21.2                26.0  ...   \n",
              "..                 ...     ...                   ...                 ...  ...   \n",
              "682               19.7    25.5                  23.8                28.1  ...   \n",
              "683               12.3    14.4                  15.0                15.9  ...   \n",
              "684               12.3    14.6                  15.2                16.2  ...   \n",
              "685               19.8    22.7                  22.3                25.2  ...   \n",
              "686               18.9    22.2                  21.6                24.9  ...   \n",
              "\n",
              "     ied_em_nivel_3  ied_em_nivel_4  ied_em_nivel_5  ied_em_nivel_6  \\\n",
              "0              22.9            37.7            19.7            15.6   \n",
              "1              24.7            38.1            17.8            13.4   \n",
              "2              23.2            37.1            19.6            15.8   \n",
              "3              25.0            37.6            17.7            13.5   \n",
              "4              34.1            34.8            13.8             4.9   \n",
              "..              ...             ...             ...             ...   \n",
              "682            23.0            47.7            14.4             7.3   \n",
              "683            31.5            45.8            10.5             0.8   \n",
              "684            32.8            44.9            10.3             0.8   \n",
              "685            20.9            51.1            13.7             2.8   \n",
              "686            22.8            50.0            13.1             2.7   \n",
              "\n",
              "     icg_nivel_1  icg_nivel_2  icg_nivel_3  icg_nivel_4  icg_nivel_5  \\\n",
              "0           18.8         24.0          8.3         14.8         27.1   \n",
              "1           18.2         25.8         11.0         16.0         23.0   \n",
              "2            7.4         27.2          9.3         17.1         28.3   \n",
              "3            9.3         29.4         14.5         18.9         20.0   \n",
              "4           13.2         25.8         24.8         10.5         20.4   \n",
              "..           ...          ...          ...          ...          ...   \n",
              "682         30.2         33.2         13.6         16.1          5.1   \n",
              "683         37.9         25.9         19.9         11.0          5.0   \n",
              "684         37.9         25.8         20.2         11.0          5.0   \n",
              "685         18.9         35.6         22.9         12.1          9.3   \n",
              "686         18.2         36.1         23.3         13.0          8.3   \n",
              "\n",
              "     icg_nivel_6  \n",
              "0            7.0  \n",
              "1            6.0  \n",
              "2           10.7  \n",
              "3            7.9  \n",
              "4            5.3  \n",
              "..           ...  \n",
              "682          1.8  \n",
              "683          0.3  \n",
              "684          0.1  \n",
              "685          1.2  \n",
              "686          1.1  \n",
              "\n",
              "[687 rows x 215 columns]"
            ],
            "text/html": [
              "\n",
              "  <div id=\"df-63d947c6-8228-4905-9ced-d396893dbefd\">\n",
              "    <div class=\"colab-df-container\">\n",
              "      <div>\n",
              "<style scoped>\n",
              "    .dataframe tbody tr th:only-of-type {\n",
              "        vertical-align: middle;\n",
              "    }\n",
              "\n",
              "    .dataframe tbody tr th {\n",
              "        vertical-align: top;\n",
              "    }\n",
              "\n",
              "    .dataframe thead th {\n",
              "        text-align: right;\n",
              "    }\n",
              "</style>\n",
              "<table border=\"1\" class=\"dataframe\">\n",
              "  <thead>\n",
              "    <tr style=\"text-align: right;\">\n",
              "      <th></th>\n",
              "      <th>ano</th>\n",
              "      <th>sigla_uf</th>\n",
              "      <th>localizacao</th>\n",
              "      <th>rede</th>\n",
              "      <th>atu_ei</th>\n",
              "      <th>atu_ei_creche</th>\n",
              "      <th>atu_ei_pre_escola</th>\n",
              "      <th>atu_ef</th>\n",
              "      <th>atu_ef_anos_iniciais</th>\n",
              "      <th>atu_ef_anos_finais</th>\n",
              "      <th>...</th>\n",
              "      <th>ied_em_nivel_3</th>\n",
              "      <th>ied_em_nivel_4</th>\n",
              "      <th>ied_em_nivel_5</th>\n",
              "      <th>ied_em_nivel_6</th>\n",
              "      <th>icg_nivel_1</th>\n",
              "      <th>icg_nivel_2</th>\n",
              "      <th>icg_nivel_3</th>\n",
              "      <th>icg_nivel_4</th>\n",
              "      <th>icg_nivel_5</th>\n",
              "      <th>icg_nivel_6</th>\n",
              "    </tr>\n",
              "  </thead>\n",
              "  <tbody>\n",
              "    <tr>\n",
              "      <th>0</th>\n",
              "      <td>2013</td>\n",
              "      <td>AL</td>\n",
              "      <td>total</td>\n",
              "      <td>publica</td>\n",
              "      <td>19.9</td>\n",
              "      <td>21.2</td>\n",
              "      <td>19.5</td>\n",
              "      <td>27.3</td>\n",
              "      <td>24.5</td>\n",
              "      <td>33.7</td>\n",
              "      <td>...</td>\n",
              "      <td>22.9</td>\n",
              "      <td>37.7</td>\n",
              "      <td>19.7</td>\n",
              "      <td>15.6</td>\n",
              "      <td>18.8</td>\n",
              "      <td>24.0</td>\n",
              "      <td>8.3</td>\n",
              "      <td>14.8</td>\n",
              "      <td>27.1</td>\n",
              "      <td>7.0</td>\n",
              "    </tr>\n",
              "    <tr>\n",
              "      <th>1</th>\n",
              "      <td>2013</td>\n",
              "      <td>AL</td>\n",
              "      <td>total</td>\n",
              "      <td>total</td>\n",
              "      <td>18.2</td>\n",
              "      <td>18.8</td>\n",
              "      <td>18.0</td>\n",
              "      <td>26.0</td>\n",
              "      <td>22.9</td>\n",
              "      <td>32.5</td>\n",
              "      <td>...</td>\n",
              "      <td>24.7</td>\n",
              "      <td>38.1</td>\n",
              "      <td>17.8</td>\n",
              "      <td>13.4</td>\n",
              "      <td>18.2</td>\n",
              "      <td>25.8</td>\n",
              "      <td>11.0</td>\n",
              "      <td>16.0</td>\n",
              "      <td>23.0</td>\n",
              "      <td>6.0</td>\n",
              "    </tr>\n",
              "    <tr>\n",
              "      <th>2</th>\n",
              "      <td>2013</td>\n",
              "      <td>AL</td>\n",
              "      <td>urbana</td>\n",
              "      <td>publica</td>\n",
              "      <td>21.0</td>\n",
              "      <td>21.7</td>\n",
              "      <td>20.7</td>\n",
              "      <td>29.9</td>\n",
              "      <td>25.8</td>\n",
              "      <td>35.1</td>\n",
              "      <td>...</td>\n",
              "      <td>23.2</td>\n",
              "      <td>37.1</td>\n",
              "      <td>19.6</td>\n",
              "      <td>15.8</td>\n",
              "      <td>7.4</td>\n",
              "      <td>27.2</td>\n",
              "      <td>9.3</td>\n",
              "      <td>17.1</td>\n",
              "      <td>28.3</td>\n",
              "      <td>10.7</td>\n",
              "    </tr>\n",
              "    <tr>\n",
              "      <th>3</th>\n",
              "      <td>2013</td>\n",
              "      <td>AL</td>\n",
              "      <td>urbana</td>\n",
              "      <td>total</td>\n",
              "      <td>18.2</td>\n",
              "      <td>18.5</td>\n",
              "      <td>18.0</td>\n",
              "      <td>27.5</td>\n",
              "      <td>23.4</td>\n",
              "      <td>33.3</td>\n",
              "      <td>...</td>\n",
              "      <td>25.0</td>\n",
              "      <td>37.6</td>\n",
              "      <td>17.7</td>\n",
              "      <td>13.5</td>\n",
              "      <td>9.3</td>\n",
              "      <td>29.4</td>\n",
              "      <td>14.5</td>\n",
              "      <td>18.9</td>\n",
              "      <td>20.0</td>\n",
              "      <td>7.9</td>\n",
              "    </tr>\n",
              "    <tr>\n",
              "      <th>4</th>\n",
              "      <td>2013</td>\n",
              "      <td>CE</td>\n",
              "      <td>total</td>\n",
              "      <td>publica</td>\n",
              "      <td>18.2</td>\n",
              "      <td>17.9</td>\n",
              "      <td>18.4</td>\n",
              "      <td>22.5</td>\n",
              "      <td>21.2</td>\n",
              "      <td>26.0</td>\n",
              "      <td>...</td>\n",
              "      <td>34.1</td>\n",
              "      <td>34.8</td>\n",
              "      <td>13.8</td>\n",
              "      <td>4.9</td>\n",
              "      <td>13.2</td>\n",
              "      <td>25.8</td>\n",
              "      <td>24.8</td>\n",
              "      <td>10.5</td>\n",
              "      <td>20.4</td>\n",
              "      <td>5.3</td>\n",
              "    </tr>\n",
              "    <tr>\n",
              "      <th>...</th>\n",
              "      <td>...</td>\n",
              "      <td>...</td>\n",
              "      <td>...</td>\n",
              "      <td>...</td>\n",
              "      <td>...</td>\n",
              "      <td>...</td>\n",
              "      <td>...</td>\n",
              "      <td>...</td>\n",
              "      <td>...</td>\n",
              "      <td>...</td>\n",
              "      <td>...</td>\n",
              "      <td>...</td>\n",
              "      <td>...</td>\n",
              "      <td>...</td>\n",
              "      <td>...</td>\n",
              "      <td>...</td>\n",
              "      <td>...</td>\n",
              "      <td>...</td>\n",
              "      <td>...</td>\n",
              "      <td>...</td>\n",
              "      <td>...</td>\n",
              "    </tr>\n",
              "    <tr>\n",
              "      <th>682</th>\n",
              "      <td>2019</td>\n",
              "      <td>SP</td>\n",
              "      <td>urbana</td>\n",
              "      <td>total</td>\n",
              "      <td>15.7</td>\n",
              "      <td>13.1</td>\n",
              "      <td>19.7</td>\n",
              "      <td>25.5</td>\n",
              "      <td>23.8</td>\n",
              "      <td>28.1</td>\n",
              "      <td>...</td>\n",
              "      <td>23.0</td>\n",
              "      <td>47.7</td>\n",
              "      <td>14.4</td>\n",
              "      <td>7.3</td>\n",
              "      <td>30.2</td>\n",
              "      <td>33.2</td>\n",
              "      <td>13.6</td>\n",
              "      <td>16.1</td>\n",
              "      <td>5.1</td>\n",
              "      <td>1.8</td>\n",
              "    </tr>\n",
              "    <tr>\n",
              "      <th>683</th>\n",
              "      <td>2019</td>\n",
              "      <td>TO</td>\n",
              "      <td>rural</td>\n",
              "      <td>publica</td>\n",
              "      <td>13.2</td>\n",
              "      <td>13.4</td>\n",
              "      <td>12.3</td>\n",
              "      <td>14.4</td>\n",
              "      <td>15.0</td>\n",
              "      <td>15.9</td>\n",
              "      <td>...</td>\n",
              "      <td>31.5</td>\n",
              "      <td>45.8</td>\n",
              "      <td>10.5</td>\n",
              "      <td>0.8</td>\n",
              "      <td>37.9</td>\n",
              "      <td>25.9</td>\n",
              "      <td>19.9</td>\n",
              "      <td>11.0</td>\n",
              "      <td>5.0</td>\n",
              "      <td>0.3</td>\n",
              "    </tr>\n",
              "    <tr>\n",
              "      <th>684</th>\n",
              "      <td>2019</td>\n",
              "      <td>TO</td>\n",
              "      <td>rural</td>\n",
              "      <td>total</td>\n",
              "      <td>13.2</td>\n",
              "      <td>13.4</td>\n",
              "      <td>12.3</td>\n",
              "      <td>14.6</td>\n",
              "      <td>15.2</td>\n",
              "      <td>16.2</td>\n",
              "      <td>...</td>\n",
              "      <td>32.8</td>\n",
              "      <td>44.9</td>\n",
              "      <td>10.3</td>\n",
              "      <td>0.8</td>\n",
              "      <td>37.9</td>\n",
              "      <td>25.8</td>\n",
              "      <td>20.2</td>\n",
              "      <td>11.0</td>\n",
              "      <td>5.0</td>\n",
              "      <td>0.1</td>\n",
              "    </tr>\n",
              "    <tr>\n",
              "      <th>685</th>\n",
              "      <td>2019</td>\n",
              "      <td>TO</td>\n",
              "      <td>total</td>\n",
              "      <td>publica</td>\n",
              "      <td>19.1</td>\n",
              "      <td>18.3</td>\n",
              "      <td>19.8</td>\n",
              "      <td>22.7</td>\n",
              "      <td>22.3</td>\n",
              "      <td>25.2</td>\n",
              "      <td>...</td>\n",
              "      <td>20.9</td>\n",
              "      <td>51.1</td>\n",
              "      <td>13.7</td>\n",
              "      <td>2.8</td>\n",
              "      <td>18.9</td>\n",
              "      <td>35.6</td>\n",
              "      <td>22.9</td>\n",
              "      <td>12.1</td>\n",
              "      <td>9.3</td>\n",
              "      <td>1.2</td>\n",
              "    </tr>\n",
              "    <tr>\n",
              "      <th>686</th>\n",
              "      <td>2019</td>\n",
              "      <td>TO</td>\n",
              "      <td>total</td>\n",
              "      <td>total</td>\n",
              "      <td>18.2</td>\n",
              "      <td>17.1</td>\n",
              "      <td>18.9</td>\n",
              "      <td>22.2</td>\n",
              "      <td>21.6</td>\n",
              "      <td>24.9</td>\n",
              "      <td>...</td>\n",
              "      <td>22.8</td>\n",
              "      <td>50.0</td>\n",
              "      <td>13.1</td>\n",
              "      <td>2.7</td>\n",
              "      <td>18.2</td>\n",
              "      <td>36.1</td>\n",
              "      <td>23.3</td>\n",
              "      <td>13.0</td>\n",
              "      <td>8.3</td>\n",
              "      <td>1.1</td>\n",
              "    </tr>\n",
              "  </tbody>\n",
              "</table>\n",
              "<p>687 rows × 215 columns</p>\n",
              "</div>\n",
              "      <button class=\"colab-df-convert\" onclick=\"convertToInteractive('df-63d947c6-8228-4905-9ced-d396893dbefd')\"\n",
              "              title=\"Convert this dataframe to an interactive table.\"\n",
              "              style=\"display:none;\">\n",
              "        \n",
              "  <svg xmlns=\"http://www.w3.org/2000/svg\" height=\"24px\"viewBox=\"0 0 24 24\"\n",
              "       width=\"24px\">\n",
              "    <path d=\"M0 0h24v24H0V0z\" fill=\"none\"/>\n",
              "    <path d=\"M18.56 5.44l.94 2.06.94-2.06 2.06-.94-2.06-.94-.94-2.06-.94 2.06-2.06.94zm-11 1L8.5 8.5l.94-2.06 2.06-.94-2.06-.94L8.5 2.5l-.94 2.06-2.06.94zm10 10l.94 2.06.94-2.06 2.06-.94-2.06-.94-.94-2.06-.94 2.06-2.06.94z\"/><path d=\"M17.41 7.96l-1.37-1.37c-.4-.4-.92-.59-1.43-.59-.52 0-1.04.2-1.43.59L10.3 9.45l-7.72 7.72c-.78.78-.78 2.05 0 2.83L4 21.41c.39.39.9.59 1.41.59.51 0 1.02-.2 1.41-.59l7.78-7.78 2.81-2.81c.8-.78.8-2.07 0-2.86zM5.41 20L4 18.59l7.72-7.72 1.47 1.35L5.41 20z\"/>\n",
              "  </svg>\n",
              "      </button>\n",
              "      \n",
              "  <style>\n",
              "    .colab-df-container {\n",
              "      display:flex;\n",
              "      flex-wrap:wrap;\n",
              "      gap: 12px;\n",
              "    }\n",
              "\n",
              "    .colab-df-convert {\n",
              "      background-color: #E8F0FE;\n",
              "      border: none;\n",
              "      border-radius: 50%;\n",
              "      cursor: pointer;\n",
              "      display: none;\n",
              "      fill: #1967D2;\n",
              "      height: 32px;\n",
              "      padding: 0 0 0 0;\n",
              "      width: 32px;\n",
              "    }\n",
              "\n",
              "    .colab-df-convert:hover {\n",
              "      background-color: #E2EBFA;\n",
              "      box-shadow: 0px 1px 2px rgba(60, 64, 67, 0.3), 0px 1px 3px 1px rgba(60, 64, 67, 0.15);\n",
              "      fill: #174EA6;\n",
              "    }\n",
              "\n",
              "    [theme=dark] .colab-df-convert {\n",
              "      background-color: #3B4455;\n",
              "      fill: #D2E3FC;\n",
              "    }\n",
              "\n",
              "    [theme=dark] .colab-df-convert:hover {\n",
              "      background-color: #434B5C;\n",
              "      box-shadow: 0px 1px 3px 1px rgba(0, 0, 0, 0.15);\n",
              "      filter: drop-shadow(0px 1px 2px rgba(0, 0, 0, 0.3));\n",
              "      fill: #FFFFFF;\n",
              "    }\n",
              "  </style>\n",
              "\n",
              "      <script>\n",
              "        const buttonEl =\n",
              "          document.querySelector('#df-63d947c6-8228-4905-9ced-d396893dbefd button.colab-df-convert');\n",
              "        buttonEl.style.display =\n",
              "          google.colab.kernel.accessAllowed ? 'block' : 'none';\n",
              "\n",
              "        async function convertToInteractive(key) {\n",
              "          const element = document.querySelector('#df-63d947c6-8228-4905-9ced-d396893dbefd');\n",
              "          const dataTable =\n",
              "            await google.colab.kernel.invokeFunction('convertToInteractive',\n",
              "                                                     [key], {});\n",
              "          if (!dataTable) return;\n",
              "\n",
              "          const docLinkHtml = 'Like what you see? Visit the ' +\n",
              "            '<a target=\"_blank\" href=https://colab.research.google.com/notebooks/data_table.ipynb>data table notebook</a>'\n",
              "            + ' to learn more about interactive tables.';\n",
              "          element.innerHTML = '';\n",
              "          dataTable['output_type'] = 'display_data';\n",
              "          await google.colab.output.renderOutput(dataTable, element);\n",
              "          const docLink = document.createElement('div');\n",
              "          docLink.innerHTML = docLinkHtml;\n",
              "          element.appendChild(docLink);\n",
              "        }\n",
              "      </script>\n",
              "    </div>\n",
              "  </div>\n",
              "  "
            ]
          },
          "metadata": {},
          "execution_count": 3
        }
      ]
    },
    {
      "cell_type": "markdown",
      "source": [
        "##Dataframes ufs validos"
      ],
      "metadata": {
        "id": "VDBzhDwnza9Y"
      }
    },
    {
      "cell_type": "code",
      "source": [
        "estados_validos = ['RS', 'PE', 'PR', 'RJ', 'CE', 'SC', 'MS', 'AL', 'PA', 'MA', 'PI', 'SP', 'MG', 'ES', 'MT']\n",
        "estados_invalidos = ['AC', 'AP', 'AM', 'BA', 'DF', 'GO', 'PB', 'RN', 'RO', 'RR', 'SE', 'TO']"
      ],
      "metadata": {
        "id": "rAkCoNLzzIOt"
      },
      "execution_count": 4,
      "outputs": []
    },
    {
      "cell_type": "code",
      "source": [
        "# Criando dataframes com apenas dados dos estados acima\n",
        "\n",
        "# ----- PIB -----\n",
        "\n",
        "pibs_ufs_validos = uf_pib_limpo\n",
        "# display(pibs_ufs_validos)\n",
        "\n",
        "for sigla in estados_invalidos:\n",
        "  pibs_ufs_validos = pibs_ufs_validos.drop(pibs_ufs_validos[pibs_ufs_validos['sigla_uf'] == sigla].index)\n",
        "\n",
        "print('----- PIBs UFs Válidos -----')\n",
        "display(pibs_ufs_validos)\n",
        "\n",
        "# ----- Educacao -----\n",
        "\n",
        "educacao_ufs_validos = uf_educacao_limpo\n",
        "# display(educacao_ufs_validos)\n",
        "\n",
        "for sigla in estados_invalidos:\n",
        "  educacao_ufs_validos = educacao_ufs_validos.drop(educacao_ufs_validos[educacao_ufs_validos['sigla_uf'] == sigla].index)\n",
        "\n",
        "print('----- Educação UFs Válidos -----')\n",
        "display(educacao_ufs_validos)"
      ],
      "metadata": {
        "colab": {
          "base_uri": "https://localhost:8080/",
          "height": 0
        },
        "id": "qo-wD3sczlsQ",
        "outputId": "d31b729f-ec16-4d4a-be88-ab4f3344b68d"
      },
      "execution_count": 5,
      "outputs": [
        {
          "output_type": "stream",
          "name": "stdout",
          "text": [
            "----- PIBs UFs Válidos -----\n"
          ]
        },
        {
          "output_type": "display_data",
          "data": {
            "text/plain": [
              "      ano  id_uf sigla_uf           pib  impostos_liquidos            va  \\\n",
              "76   2002     15       PA   26482158871         2568294792   23913864078   \n",
              "77   2003     15       PA   30270151871         3079543210   27190608658   \n",
              "78   2004     15       PA   37272725891         3348291626   33924434262   \n",
              "79   2005     15       PA   40522893486         3991798341   36531095140   \n",
              "80   2006     15       PA   45983026806         4705277210   41277749601   \n",
              "..    ...    ...      ...           ...                ...           ...   \n",
              "470  2016     51       MT  123880295558        11965235742  111915059813   \n",
              "471  2017     51       MT  126845897787        14528034054  112317863735   \n",
              "472  2018     51       MT  137442852834        14748701417  122694151423   \n",
              "473  2019     51       MT  142122027969        15503622934  126618405033   \n",
              "474  2020     51       MT  178649563700        19040711886  159608851818   \n",
              "\n",
              "     va_agropecuaria  va_industria  va_servicos   va_adespss  \n",
              "76        3465780342    6127765556   9281332265   5038985927  \n",
              "77        4032022848    6919947291  10425928911   5812709602  \n",
              "78        4231384692    9696801550  13559101289   6437146733  \n",
              "79        4621698125   10102356759  14568849663   7238190590  \n",
              "80        5094226462   11373927848  16921686954   7887908331  \n",
              "..               ...           ...          ...          ...  \n",
              "470      25083183867   18327662678  49629725275  18874487993  \n",
              "471      22529143287   17045048654  52831420277  19912251528  \n",
              "472      25684098881   19398439739  56343006152  21268606648  \n",
              "473      27051018424   20585079174  56980389866  22001917567  \n",
              "474      46004316712   27663774472  62253821963  23686938663  \n",
              "\n",
              "[285 rows x 10 columns]"
            ],
            "text/html": [
              "\n",
              "  <div id=\"df-b5f5f1e8-8dfe-4949-a2b1-a52bf39c26dc\">\n",
              "    <div class=\"colab-df-container\">\n",
              "      <div>\n",
              "<style scoped>\n",
              "    .dataframe tbody tr th:only-of-type {\n",
              "        vertical-align: middle;\n",
              "    }\n",
              "\n",
              "    .dataframe tbody tr th {\n",
              "        vertical-align: top;\n",
              "    }\n",
              "\n",
              "    .dataframe thead th {\n",
              "        text-align: right;\n",
              "    }\n",
              "</style>\n",
              "<table border=\"1\" class=\"dataframe\">\n",
              "  <thead>\n",
              "    <tr style=\"text-align: right;\">\n",
              "      <th></th>\n",
              "      <th>ano</th>\n",
              "      <th>id_uf</th>\n",
              "      <th>sigla_uf</th>\n",
              "      <th>pib</th>\n",
              "      <th>impostos_liquidos</th>\n",
              "      <th>va</th>\n",
              "      <th>va_agropecuaria</th>\n",
              "      <th>va_industria</th>\n",
              "      <th>va_servicos</th>\n",
              "      <th>va_adespss</th>\n",
              "    </tr>\n",
              "  </thead>\n",
              "  <tbody>\n",
              "    <tr>\n",
              "      <th>76</th>\n",
              "      <td>2002</td>\n",
              "      <td>15</td>\n",
              "      <td>PA</td>\n",
              "      <td>26482158871</td>\n",
              "      <td>2568294792</td>\n",
              "      <td>23913864078</td>\n",
              "      <td>3465780342</td>\n",
              "      <td>6127765556</td>\n",
              "      <td>9281332265</td>\n",
              "      <td>5038985927</td>\n",
              "    </tr>\n",
              "    <tr>\n",
              "      <th>77</th>\n",
              "      <td>2003</td>\n",
              "      <td>15</td>\n",
              "      <td>PA</td>\n",
              "      <td>30270151871</td>\n",
              "      <td>3079543210</td>\n",
              "      <td>27190608658</td>\n",
              "      <td>4032022848</td>\n",
              "      <td>6919947291</td>\n",
              "      <td>10425928911</td>\n",
              "      <td>5812709602</td>\n",
              "    </tr>\n",
              "    <tr>\n",
              "      <th>78</th>\n",
              "      <td>2004</td>\n",
              "      <td>15</td>\n",
              "      <td>PA</td>\n",
              "      <td>37272725891</td>\n",
              "      <td>3348291626</td>\n",
              "      <td>33924434262</td>\n",
              "      <td>4231384692</td>\n",
              "      <td>9696801550</td>\n",
              "      <td>13559101289</td>\n",
              "      <td>6437146733</td>\n",
              "    </tr>\n",
              "    <tr>\n",
              "      <th>79</th>\n",
              "      <td>2005</td>\n",
              "      <td>15</td>\n",
              "      <td>PA</td>\n",
              "      <td>40522893486</td>\n",
              "      <td>3991798341</td>\n",
              "      <td>36531095140</td>\n",
              "      <td>4621698125</td>\n",
              "      <td>10102356759</td>\n",
              "      <td>14568849663</td>\n",
              "      <td>7238190590</td>\n",
              "    </tr>\n",
              "    <tr>\n",
              "      <th>80</th>\n",
              "      <td>2006</td>\n",
              "      <td>15</td>\n",
              "      <td>PA</td>\n",
              "      <td>45983026806</td>\n",
              "      <td>4705277210</td>\n",
              "      <td>41277749601</td>\n",
              "      <td>5094226462</td>\n",
              "      <td>11373927848</td>\n",
              "      <td>16921686954</td>\n",
              "      <td>7887908331</td>\n",
              "    </tr>\n",
              "    <tr>\n",
              "      <th>...</th>\n",
              "      <td>...</td>\n",
              "      <td>...</td>\n",
              "      <td>...</td>\n",
              "      <td>...</td>\n",
              "      <td>...</td>\n",
              "      <td>...</td>\n",
              "      <td>...</td>\n",
              "      <td>...</td>\n",
              "      <td>...</td>\n",
              "      <td>...</td>\n",
              "    </tr>\n",
              "    <tr>\n",
              "      <th>470</th>\n",
              "      <td>2016</td>\n",
              "      <td>51</td>\n",
              "      <td>MT</td>\n",
              "      <td>123880295558</td>\n",
              "      <td>11965235742</td>\n",
              "      <td>111915059813</td>\n",
              "      <td>25083183867</td>\n",
              "      <td>18327662678</td>\n",
              "      <td>49629725275</td>\n",
              "      <td>18874487993</td>\n",
              "    </tr>\n",
              "    <tr>\n",
              "      <th>471</th>\n",
              "      <td>2017</td>\n",
              "      <td>51</td>\n",
              "      <td>MT</td>\n",
              "      <td>126845897787</td>\n",
              "      <td>14528034054</td>\n",
              "      <td>112317863735</td>\n",
              "      <td>22529143287</td>\n",
              "      <td>17045048654</td>\n",
              "      <td>52831420277</td>\n",
              "      <td>19912251528</td>\n",
              "    </tr>\n",
              "    <tr>\n",
              "      <th>472</th>\n",
              "      <td>2018</td>\n",
              "      <td>51</td>\n",
              "      <td>MT</td>\n",
              "      <td>137442852834</td>\n",
              "      <td>14748701417</td>\n",
              "      <td>122694151423</td>\n",
              "      <td>25684098881</td>\n",
              "      <td>19398439739</td>\n",
              "      <td>56343006152</td>\n",
              "      <td>21268606648</td>\n",
              "    </tr>\n",
              "    <tr>\n",
              "      <th>473</th>\n",
              "      <td>2019</td>\n",
              "      <td>51</td>\n",
              "      <td>MT</td>\n",
              "      <td>142122027969</td>\n",
              "      <td>15503622934</td>\n",
              "      <td>126618405033</td>\n",
              "      <td>27051018424</td>\n",
              "      <td>20585079174</td>\n",
              "      <td>56980389866</td>\n",
              "      <td>22001917567</td>\n",
              "    </tr>\n",
              "    <tr>\n",
              "      <th>474</th>\n",
              "      <td>2020</td>\n",
              "      <td>51</td>\n",
              "      <td>MT</td>\n",
              "      <td>178649563700</td>\n",
              "      <td>19040711886</td>\n",
              "      <td>159608851818</td>\n",
              "      <td>46004316712</td>\n",
              "      <td>27663774472</td>\n",
              "      <td>62253821963</td>\n",
              "      <td>23686938663</td>\n",
              "    </tr>\n",
              "  </tbody>\n",
              "</table>\n",
              "<p>285 rows × 10 columns</p>\n",
              "</div>\n",
              "      <button class=\"colab-df-convert\" onclick=\"convertToInteractive('df-b5f5f1e8-8dfe-4949-a2b1-a52bf39c26dc')\"\n",
              "              title=\"Convert this dataframe to an interactive table.\"\n",
              "              style=\"display:none;\">\n",
              "        \n",
              "  <svg xmlns=\"http://www.w3.org/2000/svg\" height=\"24px\"viewBox=\"0 0 24 24\"\n",
              "       width=\"24px\">\n",
              "    <path d=\"M0 0h24v24H0V0z\" fill=\"none\"/>\n",
              "    <path d=\"M18.56 5.44l.94 2.06.94-2.06 2.06-.94-2.06-.94-.94-2.06-.94 2.06-2.06.94zm-11 1L8.5 8.5l.94-2.06 2.06-.94-2.06-.94L8.5 2.5l-.94 2.06-2.06.94zm10 10l.94 2.06.94-2.06 2.06-.94-2.06-.94-.94-2.06-.94 2.06-2.06.94z\"/><path d=\"M17.41 7.96l-1.37-1.37c-.4-.4-.92-.59-1.43-.59-.52 0-1.04.2-1.43.59L10.3 9.45l-7.72 7.72c-.78.78-.78 2.05 0 2.83L4 21.41c.39.39.9.59 1.41.59.51 0 1.02-.2 1.41-.59l7.78-7.78 2.81-2.81c.8-.78.8-2.07 0-2.86zM5.41 20L4 18.59l7.72-7.72 1.47 1.35L5.41 20z\"/>\n",
              "  </svg>\n",
              "      </button>\n",
              "      \n",
              "  <style>\n",
              "    .colab-df-container {\n",
              "      display:flex;\n",
              "      flex-wrap:wrap;\n",
              "      gap: 12px;\n",
              "    }\n",
              "\n",
              "    .colab-df-convert {\n",
              "      background-color: #E8F0FE;\n",
              "      border: none;\n",
              "      border-radius: 50%;\n",
              "      cursor: pointer;\n",
              "      display: none;\n",
              "      fill: #1967D2;\n",
              "      height: 32px;\n",
              "      padding: 0 0 0 0;\n",
              "      width: 32px;\n",
              "    }\n",
              "\n",
              "    .colab-df-convert:hover {\n",
              "      background-color: #E2EBFA;\n",
              "      box-shadow: 0px 1px 2px rgba(60, 64, 67, 0.3), 0px 1px 3px 1px rgba(60, 64, 67, 0.15);\n",
              "      fill: #174EA6;\n",
              "    }\n",
              "\n",
              "    [theme=dark] .colab-df-convert {\n",
              "      background-color: #3B4455;\n",
              "      fill: #D2E3FC;\n",
              "    }\n",
              "\n",
              "    [theme=dark] .colab-df-convert:hover {\n",
              "      background-color: #434B5C;\n",
              "      box-shadow: 0px 1px 3px 1px rgba(0, 0, 0, 0.15);\n",
              "      filter: drop-shadow(0px 1px 2px rgba(0, 0, 0, 0.3));\n",
              "      fill: #FFFFFF;\n",
              "    }\n",
              "  </style>\n",
              "\n",
              "      <script>\n",
              "        const buttonEl =\n",
              "          document.querySelector('#df-b5f5f1e8-8dfe-4949-a2b1-a52bf39c26dc button.colab-df-convert');\n",
              "        buttonEl.style.display =\n",
              "          google.colab.kernel.accessAllowed ? 'block' : 'none';\n",
              "\n",
              "        async function convertToInteractive(key) {\n",
              "          const element = document.querySelector('#df-b5f5f1e8-8dfe-4949-a2b1-a52bf39c26dc');\n",
              "          const dataTable =\n",
              "            await google.colab.kernel.invokeFunction('convertToInteractive',\n",
              "                                                     [key], {});\n",
              "          if (!dataTable) return;\n",
              "\n",
              "          const docLinkHtml = 'Like what you see? Visit the ' +\n",
              "            '<a target=\"_blank\" href=https://colab.research.google.com/notebooks/data_table.ipynb>data table notebook</a>'\n",
              "            + ' to learn more about interactive tables.';\n",
              "          element.innerHTML = '';\n",
              "          dataTable['output_type'] = 'display_data';\n",
              "          await google.colab.output.renderOutput(dataTable, element);\n",
              "          const docLink = document.createElement('div');\n",
              "          docLink.innerHTML = docLinkHtml;\n",
              "          element.appendChild(docLink);\n",
              "        }\n",
              "      </script>\n",
              "    </div>\n",
              "  </div>\n",
              "  "
            ]
          },
          "metadata": {}
        },
        {
          "output_type": "stream",
          "name": "stdout",
          "text": [
            "----- Educação UFs Válidos -----\n"
          ]
        },
        {
          "output_type": "display_data",
          "data": {
            "text/plain": [
              "      ano sigla_uf localizacao     rede  atu_ei  atu_ei_creche  \\\n",
              "0    2013       AL       total  publica    19.9           21.2   \n",
              "1    2013       AL       total    total    18.2           18.8   \n",
              "2    2013       AL      urbana  publica    21.0           21.7   \n",
              "3    2013       AL      urbana    total    18.2           18.5   \n",
              "4    2013       CE       total  publica    18.2           17.9   \n",
              "..    ...      ...         ...      ...     ...            ...   \n",
              "678  2019       SP       total  publica    19.5           15.7   \n",
              "679  2019       SP       total    total    15.7           13.1   \n",
              "680  2019       SP      urbana  privada    11.6           11.1   \n",
              "681  2019       SP      urbana  publica    19.5           15.7   \n",
              "682  2019       SP      urbana    total    15.7           13.1   \n",
              "\n",
              "     atu_ei_pre_escola  atu_ef  atu_ef_anos_iniciais  atu_ef_anos_finais  ...  \\\n",
              "0                 19.5    27.3                  24.5                33.7  ...   \n",
              "1                 18.0    26.0                  22.9                32.5  ...   \n",
              "2                 20.7    29.9                  25.8                35.1  ...   \n",
              "3                 18.0    27.5                  23.4                33.3  ...   \n",
              "4                 18.4    22.5                  21.2                26.0  ...   \n",
              "..                 ...     ...                   ...                 ...  ...   \n",
              "678               22.9    27.2                  25.7                29.6  ...   \n",
              "679               19.6    25.4                  23.7                28.0  ...   \n",
              "680               12.7    20.0                  18.2                23.1  ...   \n",
              "681               23.1    27.4                  25.9                29.8  ...   \n",
              "682               19.7    25.5                  23.8                28.1  ...   \n",
              "\n",
              "     ied_em_nivel_3  ied_em_nivel_4  ied_em_nivel_5  ied_em_nivel_6  \\\n",
              "0              22.9            37.7            19.7            15.6   \n",
              "1              24.7            38.1            17.8            13.4   \n",
              "2              23.2            37.1            19.6            15.8   \n",
              "3              25.0            37.6            17.7            13.5   \n",
              "4              34.1            34.8            13.8             4.9   \n",
              "..              ...             ...             ...             ...   \n",
              "678            18.4            50.3            16.7             8.9   \n",
              "679            23.0            47.8            14.4             7.3   \n",
              "680            34.4            39.3             9.8             4.7   \n",
              "681            18.4            50.2            16.8             9.0   \n",
              "682            23.0            47.7            14.4             7.3   \n",
              "\n",
              "     icg_nivel_1  icg_nivel_2  icg_nivel_3  icg_nivel_4  icg_nivel_5  \\\n",
              "0           18.8         24.0          8.3         14.8         27.1   \n",
              "1           18.2         25.8         11.0         16.0         23.0   \n",
              "2            7.4         27.2          9.3         17.1         28.3   \n",
              "3            9.3         29.4         14.5         18.9         20.0   \n",
              "4           13.2         25.8         24.8         10.5         20.4   \n",
              "..           ...          ...          ...          ...          ...   \n",
              "678         20.9         39.9         14.7         14.1          7.7   \n",
              "679         30.5         33.1         13.8         15.7          5.0   \n",
              "680         46.5         21.9         12.4         18.5          0.6   \n",
              "681         19.9         40.3         14.4         14.5          8.1   \n",
              "682         30.2         33.2         13.6         16.1          5.1   \n",
              "\n",
              "     icg_nivel_6  \n",
              "0            7.0  \n",
              "1            6.0  \n",
              "2           10.7  \n",
              "3            7.9  \n",
              "4            5.3  \n",
              "..           ...  \n",
              "678          2.7  \n",
              "679          1.9  \n",
              "680          0.1  \n",
              "681          2.8  \n",
              "682          1.8  \n",
              "\n",
              "[530 rows x 215 columns]"
            ],
            "text/html": [
              "\n",
              "  <div id=\"df-69224f0a-705e-4af3-a67a-82493269c854\">\n",
              "    <div class=\"colab-df-container\">\n",
              "      <div>\n",
              "<style scoped>\n",
              "    .dataframe tbody tr th:only-of-type {\n",
              "        vertical-align: middle;\n",
              "    }\n",
              "\n",
              "    .dataframe tbody tr th {\n",
              "        vertical-align: top;\n",
              "    }\n",
              "\n",
              "    .dataframe thead th {\n",
              "        text-align: right;\n",
              "    }\n",
              "</style>\n",
              "<table border=\"1\" class=\"dataframe\">\n",
              "  <thead>\n",
              "    <tr style=\"text-align: right;\">\n",
              "      <th></th>\n",
              "      <th>ano</th>\n",
              "      <th>sigla_uf</th>\n",
              "      <th>localizacao</th>\n",
              "      <th>rede</th>\n",
              "      <th>atu_ei</th>\n",
              "      <th>atu_ei_creche</th>\n",
              "      <th>atu_ei_pre_escola</th>\n",
              "      <th>atu_ef</th>\n",
              "      <th>atu_ef_anos_iniciais</th>\n",
              "      <th>atu_ef_anos_finais</th>\n",
              "      <th>...</th>\n",
              "      <th>ied_em_nivel_3</th>\n",
              "      <th>ied_em_nivel_4</th>\n",
              "      <th>ied_em_nivel_5</th>\n",
              "      <th>ied_em_nivel_6</th>\n",
              "      <th>icg_nivel_1</th>\n",
              "      <th>icg_nivel_2</th>\n",
              "      <th>icg_nivel_3</th>\n",
              "      <th>icg_nivel_4</th>\n",
              "      <th>icg_nivel_5</th>\n",
              "      <th>icg_nivel_6</th>\n",
              "    </tr>\n",
              "  </thead>\n",
              "  <tbody>\n",
              "    <tr>\n",
              "      <th>0</th>\n",
              "      <td>2013</td>\n",
              "      <td>AL</td>\n",
              "      <td>total</td>\n",
              "      <td>publica</td>\n",
              "      <td>19.9</td>\n",
              "      <td>21.2</td>\n",
              "      <td>19.5</td>\n",
              "      <td>27.3</td>\n",
              "      <td>24.5</td>\n",
              "      <td>33.7</td>\n",
              "      <td>...</td>\n",
              "      <td>22.9</td>\n",
              "      <td>37.7</td>\n",
              "      <td>19.7</td>\n",
              "      <td>15.6</td>\n",
              "      <td>18.8</td>\n",
              "      <td>24.0</td>\n",
              "      <td>8.3</td>\n",
              "      <td>14.8</td>\n",
              "      <td>27.1</td>\n",
              "      <td>7.0</td>\n",
              "    </tr>\n",
              "    <tr>\n",
              "      <th>1</th>\n",
              "      <td>2013</td>\n",
              "      <td>AL</td>\n",
              "      <td>total</td>\n",
              "      <td>total</td>\n",
              "      <td>18.2</td>\n",
              "      <td>18.8</td>\n",
              "      <td>18.0</td>\n",
              "      <td>26.0</td>\n",
              "      <td>22.9</td>\n",
              "      <td>32.5</td>\n",
              "      <td>...</td>\n",
              "      <td>24.7</td>\n",
              "      <td>38.1</td>\n",
              "      <td>17.8</td>\n",
              "      <td>13.4</td>\n",
              "      <td>18.2</td>\n",
              "      <td>25.8</td>\n",
              "      <td>11.0</td>\n",
              "      <td>16.0</td>\n",
              "      <td>23.0</td>\n",
              "      <td>6.0</td>\n",
              "    </tr>\n",
              "    <tr>\n",
              "      <th>2</th>\n",
              "      <td>2013</td>\n",
              "      <td>AL</td>\n",
              "      <td>urbana</td>\n",
              "      <td>publica</td>\n",
              "      <td>21.0</td>\n",
              "      <td>21.7</td>\n",
              "      <td>20.7</td>\n",
              "      <td>29.9</td>\n",
              "      <td>25.8</td>\n",
              "      <td>35.1</td>\n",
              "      <td>...</td>\n",
              "      <td>23.2</td>\n",
              "      <td>37.1</td>\n",
              "      <td>19.6</td>\n",
              "      <td>15.8</td>\n",
              "      <td>7.4</td>\n",
              "      <td>27.2</td>\n",
              "      <td>9.3</td>\n",
              "      <td>17.1</td>\n",
              "      <td>28.3</td>\n",
              "      <td>10.7</td>\n",
              "    </tr>\n",
              "    <tr>\n",
              "      <th>3</th>\n",
              "      <td>2013</td>\n",
              "      <td>AL</td>\n",
              "      <td>urbana</td>\n",
              "      <td>total</td>\n",
              "      <td>18.2</td>\n",
              "      <td>18.5</td>\n",
              "      <td>18.0</td>\n",
              "      <td>27.5</td>\n",
              "      <td>23.4</td>\n",
              "      <td>33.3</td>\n",
              "      <td>...</td>\n",
              "      <td>25.0</td>\n",
              "      <td>37.6</td>\n",
              "      <td>17.7</td>\n",
              "      <td>13.5</td>\n",
              "      <td>9.3</td>\n",
              "      <td>29.4</td>\n",
              "      <td>14.5</td>\n",
              "      <td>18.9</td>\n",
              "      <td>20.0</td>\n",
              "      <td>7.9</td>\n",
              "    </tr>\n",
              "    <tr>\n",
              "      <th>4</th>\n",
              "      <td>2013</td>\n",
              "      <td>CE</td>\n",
              "      <td>total</td>\n",
              "      <td>publica</td>\n",
              "      <td>18.2</td>\n",
              "      <td>17.9</td>\n",
              "      <td>18.4</td>\n",
              "      <td>22.5</td>\n",
              "      <td>21.2</td>\n",
              "      <td>26.0</td>\n",
              "      <td>...</td>\n",
              "      <td>34.1</td>\n",
              "      <td>34.8</td>\n",
              "      <td>13.8</td>\n",
              "      <td>4.9</td>\n",
              "      <td>13.2</td>\n",
              "      <td>25.8</td>\n",
              "      <td>24.8</td>\n",
              "      <td>10.5</td>\n",
              "      <td>20.4</td>\n",
              "      <td>5.3</td>\n",
              "    </tr>\n",
              "    <tr>\n",
              "      <th>...</th>\n",
              "      <td>...</td>\n",
              "      <td>...</td>\n",
              "      <td>...</td>\n",
              "      <td>...</td>\n",
              "      <td>...</td>\n",
              "      <td>...</td>\n",
              "      <td>...</td>\n",
              "      <td>...</td>\n",
              "      <td>...</td>\n",
              "      <td>...</td>\n",
              "      <td>...</td>\n",
              "      <td>...</td>\n",
              "      <td>...</td>\n",
              "      <td>...</td>\n",
              "      <td>...</td>\n",
              "      <td>...</td>\n",
              "      <td>...</td>\n",
              "      <td>...</td>\n",
              "      <td>...</td>\n",
              "      <td>...</td>\n",
              "      <td>...</td>\n",
              "    </tr>\n",
              "    <tr>\n",
              "      <th>678</th>\n",
              "      <td>2019</td>\n",
              "      <td>SP</td>\n",
              "      <td>total</td>\n",
              "      <td>publica</td>\n",
              "      <td>19.5</td>\n",
              "      <td>15.7</td>\n",
              "      <td>22.9</td>\n",
              "      <td>27.2</td>\n",
              "      <td>25.7</td>\n",
              "      <td>29.6</td>\n",
              "      <td>...</td>\n",
              "      <td>18.4</td>\n",
              "      <td>50.3</td>\n",
              "      <td>16.7</td>\n",
              "      <td>8.9</td>\n",
              "      <td>20.9</td>\n",
              "      <td>39.9</td>\n",
              "      <td>14.7</td>\n",
              "      <td>14.1</td>\n",
              "      <td>7.7</td>\n",
              "      <td>2.7</td>\n",
              "    </tr>\n",
              "    <tr>\n",
              "      <th>679</th>\n",
              "      <td>2019</td>\n",
              "      <td>SP</td>\n",
              "      <td>total</td>\n",
              "      <td>total</td>\n",
              "      <td>15.7</td>\n",
              "      <td>13.1</td>\n",
              "      <td>19.6</td>\n",
              "      <td>25.4</td>\n",
              "      <td>23.7</td>\n",
              "      <td>28.0</td>\n",
              "      <td>...</td>\n",
              "      <td>23.0</td>\n",
              "      <td>47.8</td>\n",
              "      <td>14.4</td>\n",
              "      <td>7.3</td>\n",
              "      <td>30.5</td>\n",
              "      <td>33.1</td>\n",
              "      <td>13.8</td>\n",
              "      <td>15.7</td>\n",
              "      <td>5.0</td>\n",
              "      <td>1.9</td>\n",
              "    </tr>\n",
              "    <tr>\n",
              "      <th>680</th>\n",
              "      <td>2019</td>\n",
              "      <td>SP</td>\n",
              "      <td>urbana</td>\n",
              "      <td>privada</td>\n",
              "      <td>11.6</td>\n",
              "      <td>11.1</td>\n",
              "      <td>12.7</td>\n",
              "      <td>20.0</td>\n",
              "      <td>18.2</td>\n",
              "      <td>23.1</td>\n",
              "      <td>...</td>\n",
              "      <td>34.4</td>\n",
              "      <td>39.3</td>\n",
              "      <td>9.8</td>\n",
              "      <td>4.7</td>\n",
              "      <td>46.5</td>\n",
              "      <td>21.9</td>\n",
              "      <td>12.4</td>\n",
              "      <td>18.5</td>\n",
              "      <td>0.6</td>\n",
              "      <td>0.1</td>\n",
              "    </tr>\n",
              "    <tr>\n",
              "      <th>681</th>\n",
              "      <td>2019</td>\n",
              "      <td>SP</td>\n",
              "      <td>urbana</td>\n",
              "      <td>publica</td>\n",
              "      <td>19.5</td>\n",
              "      <td>15.7</td>\n",
              "      <td>23.1</td>\n",
              "      <td>27.4</td>\n",
              "      <td>25.9</td>\n",
              "      <td>29.8</td>\n",
              "      <td>...</td>\n",
              "      <td>18.4</td>\n",
              "      <td>50.2</td>\n",
              "      <td>16.8</td>\n",
              "      <td>9.0</td>\n",
              "      <td>19.9</td>\n",
              "      <td>40.3</td>\n",
              "      <td>14.4</td>\n",
              "      <td>14.5</td>\n",
              "      <td>8.1</td>\n",
              "      <td>2.8</td>\n",
              "    </tr>\n",
              "    <tr>\n",
              "      <th>682</th>\n",
              "      <td>2019</td>\n",
              "      <td>SP</td>\n",
              "      <td>urbana</td>\n",
              "      <td>total</td>\n",
              "      <td>15.7</td>\n",
              "      <td>13.1</td>\n",
              "      <td>19.7</td>\n",
              "      <td>25.5</td>\n",
              "      <td>23.8</td>\n",
              "      <td>28.1</td>\n",
              "      <td>...</td>\n",
              "      <td>23.0</td>\n",
              "      <td>47.7</td>\n",
              "      <td>14.4</td>\n",
              "      <td>7.3</td>\n",
              "      <td>30.2</td>\n",
              "      <td>33.2</td>\n",
              "      <td>13.6</td>\n",
              "      <td>16.1</td>\n",
              "      <td>5.1</td>\n",
              "      <td>1.8</td>\n",
              "    </tr>\n",
              "  </tbody>\n",
              "</table>\n",
              "<p>530 rows × 215 columns</p>\n",
              "</div>\n",
              "      <button class=\"colab-df-convert\" onclick=\"convertToInteractive('df-69224f0a-705e-4af3-a67a-82493269c854')\"\n",
              "              title=\"Convert this dataframe to an interactive table.\"\n",
              "              style=\"display:none;\">\n",
              "        \n",
              "  <svg xmlns=\"http://www.w3.org/2000/svg\" height=\"24px\"viewBox=\"0 0 24 24\"\n",
              "       width=\"24px\">\n",
              "    <path d=\"M0 0h24v24H0V0z\" fill=\"none\"/>\n",
              "    <path d=\"M18.56 5.44l.94 2.06.94-2.06 2.06-.94-2.06-.94-.94-2.06-.94 2.06-2.06.94zm-11 1L8.5 8.5l.94-2.06 2.06-.94-2.06-.94L8.5 2.5l-.94 2.06-2.06.94zm10 10l.94 2.06.94-2.06 2.06-.94-2.06-.94-.94-2.06-.94 2.06-2.06.94z\"/><path d=\"M17.41 7.96l-1.37-1.37c-.4-.4-.92-.59-1.43-.59-.52 0-1.04.2-1.43.59L10.3 9.45l-7.72 7.72c-.78.78-.78 2.05 0 2.83L4 21.41c.39.39.9.59 1.41.59.51 0 1.02-.2 1.41-.59l7.78-7.78 2.81-2.81c.8-.78.8-2.07 0-2.86zM5.41 20L4 18.59l7.72-7.72 1.47 1.35L5.41 20z\"/>\n",
              "  </svg>\n",
              "      </button>\n",
              "      \n",
              "  <style>\n",
              "    .colab-df-container {\n",
              "      display:flex;\n",
              "      flex-wrap:wrap;\n",
              "      gap: 12px;\n",
              "    }\n",
              "\n",
              "    .colab-df-convert {\n",
              "      background-color: #E8F0FE;\n",
              "      border: none;\n",
              "      border-radius: 50%;\n",
              "      cursor: pointer;\n",
              "      display: none;\n",
              "      fill: #1967D2;\n",
              "      height: 32px;\n",
              "      padding: 0 0 0 0;\n",
              "      width: 32px;\n",
              "    }\n",
              "\n",
              "    .colab-df-convert:hover {\n",
              "      background-color: #E2EBFA;\n",
              "      box-shadow: 0px 1px 2px rgba(60, 64, 67, 0.3), 0px 1px 3px 1px rgba(60, 64, 67, 0.15);\n",
              "      fill: #174EA6;\n",
              "    }\n",
              "\n",
              "    [theme=dark] .colab-df-convert {\n",
              "      background-color: #3B4455;\n",
              "      fill: #D2E3FC;\n",
              "    }\n",
              "\n",
              "    [theme=dark] .colab-df-convert:hover {\n",
              "      background-color: #434B5C;\n",
              "      box-shadow: 0px 1px 3px 1px rgba(0, 0, 0, 0.15);\n",
              "      filter: drop-shadow(0px 1px 2px rgba(0, 0, 0, 0.3));\n",
              "      fill: #FFFFFF;\n",
              "    }\n",
              "  </style>\n",
              "\n",
              "      <script>\n",
              "        const buttonEl =\n",
              "          document.querySelector('#df-69224f0a-705e-4af3-a67a-82493269c854 button.colab-df-convert');\n",
              "        buttonEl.style.display =\n",
              "          google.colab.kernel.accessAllowed ? 'block' : 'none';\n",
              "\n",
              "        async function convertToInteractive(key) {\n",
              "          const element = document.querySelector('#df-69224f0a-705e-4af3-a67a-82493269c854');\n",
              "          const dataTable =\n",
              "            await google.colab.kernel.invokeFunction('convertToInteractive',\n",
              "                                                     [key], {});\n",
              "          if (!dataTable) return;\n",
              "\n",
              "          const docLinkHtml = 'Like what you see? Visit the ' +\n",
              "            '<a target=\"_blank\" href=https://colab.research.google.com/notebooks/data_table.ipynb>data table notebook</a>'\n",
              "            + ' to learn more about interactive tables.';\n",
              "          element.innerHTML = '';\n",
              "          dataTable['output_type'] = 'display_data';\n",
              "          await google.colab.output.renderOutput(dataTable, element);\n",
              "          const docLink = document.createElement('div');\n",
              "          docLink.innerHTML = docLinkHtml;\n",
              "          element.appendChild(docLink);\n",
              "        }\n",
              "      </script>\n",
              "    </div>\n",
              "  </div>\n",
              "  "
            ]
          },
          "metadata": {}
        }
      ]
    },
    {
      "cell_type": "markdown",
      "source": [
        "##Dataframes ufs validos dos anos 2013, 2016 e 2019"
      ],
      "metadata": {
        "id": "ApAC81SB1SMD"
      }
    },
    {
      "cell_type": "code",
      "source": [
        "pibs_ufs_validos_2013 = pibs_ufs_validos.loc[pibs_ufs_validos['ano'] == 2013]\n",
        "pibs_ufs_validos_2016 = pibs_ufs_validos.loc[pibs_ufs_validos['ano'] == 2016]\n",
        "pibs_ufs_validos_2019 = pibs_ufs_validos.loc[pibs_ufs_validos['ano'] == 2019]\n",
        "\n",
        "# display(pibs_ufs_validos_2013)\n",
        "# display(pibs_ufs_validos_2016)\n",
        "# display(pibs_ufs_validos_2019)"
      ],
      "metadata": {
        "id": "da17Zjqj0-Qr"
      },
      "execution_count": 6,
      "outputs": []
    },
    {
      "cell_type": "code",
      "source": [
        "educacao_ufs_validos_2013 = educacao_ufs_validos.loc[educacao_ufs_validos['ano'] == 2013]\n",
        "educacao_ufs_validos_2016 = educacao_ufs_validos.loc[educacao_ufs_validos['ano'] == 2016]\n",
        "educacao_ufs_validos_2019 = educacao_ufs_validos.loc[educacao_ufs_validos['ano'] == 2019]\n",
        "\n",
        "educacao_ufs_validos_2013 = educacao_ufs_validos_2013.loc[(educacao_ufs_validos_2013['localizacao'] == 'total') & (educacao_ufs_validos_2013['rede'] == 'total')]\n",
        "educacao_ufs_validos_2016 = educacao_ufs_validos_2016.loc[(educacao_ufs_validos_2016['localizacao'] == 'total') & (educacao_ufs_validos_2016['rede'] == 'total')]\n",
        "educacao_ufs_validos_2019 = educacao_ufs_validos_2019.loc[(educacao_ufs_validos_2019['localizacao'] == 'total') & (educacao_ufs_validos_2019['rede'] == 'total')]\n",
        "\n",
        "# display(educacao_ufs_validos_2013)\n",
        "# display(educacao_ufs_validos_2016)\n",
        "# display(educacao_ufs_validos_2019)"
      ],
      "metadata": {
        "id": "Xm6Cr5wI2K44"
      },
      "execution_count": 7,
      "outputs": []
    },
    {
      "cell_type": "markdown",
      "source": [
        "##Dataframe População por UF"
      ],
      "metadata": {
        "id": "KBBondUnIJ8Z"
      }
    },
    {
      "cell_type": "code",
      "source": [
        "uf_populacao = pd.read_csv('/content/populacao_uf.csv.gz')\n",
        "uf_populacao"
      ],
      "metadata": {
        "colab": {
          "base_uri": "https://localhost:8080/",
          "height": 0
        },
        "id": "n3bm-MGfIJOG",
        "outputId": "4111d7fc-1503-46a6-fff2-37b7b64be12c"
      },
      "execution_count": 8,
      "outputs": [
        {
          "output_type": "execute_result",
          "data": {
            "text/plain": [
              "    sigla_uf   ano  populacao  populacao_economicamente_ativa\n",
              "0         AC  1991     417102                             NaN\n",
              "1         AL  1991    2512658                             NaN\n",
              "2         AM  1991    2102766                             NaN\n",
              "3         AP  1991     289035                             NaN\n",
              "4         BA  1991   11867336                             NaN\n",
              "..       ...   ...        ...                             ...\n",
              "832       RS  2021   11466630                          9533.0\n",
              "833       SC  2021    7338473                          5947.0\n",
              "834       SE  2021    2338474                          1873.0\n",
              "835       SP  2021   46649132                         38573.0\n",
              "836       TO  2021    1607363                          1258.0\n",
              "\n",
              "[837 rows x 4 columns]"
            ],
            "text/html": [
              "\n",
              "  <div id=\"df-958605ac-5982-4271-9a3e-47045372c14f\">\n",
              "    <div class=\"colab-df-container\">\n",
              "      <div>\n",
              "<style scoped>\n",
              "    .dataframe tbody tr th:only-of-type {\n",
              "        vertical-align: middle;\n",
              "    }\n",
              "\n",
              "    .dataframe tbody tr th {\n",
              "        vertical-align: top;\n",
              "    }\n",
              "\n",
              "    .dataframe thead th {\n",
              "        text-align: right;\n",
              "    }\n",
              "</style>\n",
              "<table border=\"1\" class=\"dataframe\">\n",
              "  <thead>\n",
              "    <tr style=\"text-align: right;\">\n",
              "      <th></th>\n",
              "      <th>sigla_uf</th>\n",
              "      <th>ano</th>\n",
              "      <th>populacao</th>\n",
              "      <th>populacao_economicamente_ativa</th>\n",
              "    </tr>\n",
              "  </thead>\n",
              "  <tbody>\n",
              "    <tr>\n",
              "      <th>0</th>\n",
              "      <td>AC</td>\n",
              "      <td>1991</td>\n",
              "      <td>417102</td>\n",
              "      <td>NaN</td>\n",
              "    </tr>\n",
              "    <tr>\n",
              "      <th>1</th>\n",
              "      <td>AL</td>\n",
              "      <td>1991</td>\n",
              "      <td>2512658</td>\n",
              "      <td>NaN</td>\n",
              "    </tr>\n",
              "    <tr>\n",
              "      <th>2</th>\n",
              "      <td>AM</td>\n",
              "      <td>1991</td>\n",
              "      <td>2102766</td>\n",
              "      <td>NaN</td>\n",
              "    </tr>\n",
              "    <tr>\n",
              "      <th>3</th>\n",
              "      <td>AP</td>\n",
              "      <td>1991</td>\n",
              "      <td>289035</td>\n",
              "      <td>NaN</td>\n",
              "    </tr>\n",
              "    <tr>\n",
              "      <th>4</th>\n",
              "      <td>BA</td>\n",
              "      <td>1991</td>\n",
              "      <td>11867336</td>\n",
              "      <td>NaN</td>\n",
              "    </tr>\n",
              "    <tr>\n",
              "      <th>...</th>\n",
              "      <td>...</td>\n",
              "      <td>...</td>\n",
              "      <td>...</td>\n",
              "      <td>...</td>\n",
              "    </tr>\n",
              "    <tr>\n",
              "      <th>832</th>\n",
              "      <td>RS</td>\n",
              "      <td>2021</td>\n",
              "      <td>11466630</td>\n",
              "      <td>9533.0</td>\n",
              "    </tr>\n",
              "    <tr>\n",
              "      <th>833</th>\n",
              "      <td>SC</td>\n",
              "      <td>2021</td>\n",
              "      <td>7338473</td>\n",
              "      <td>5947.0</td>\n",
              "    </tr>\n",
              "    <tr>\n",
              "      <th>834</th>\n",
              "      <td>SE</td>\n",
              "      <td>2021</td>\n",
              "      <td>2338474</td>\n",
              "      <td>1873.0</td>\n",
              "    </tr>\n",
              "    <tr>\n",
              "      <th>835</th>\n",
              "      <td>SP</td>\n",
              "      <td>2021</td>\n",
              "      <td>46649132</td>\n",
              "      <td>38573.0</td>\n",
              "    </tr>\n",
              "    <tr>\n",
              "      <th>836</th>\n",
              "      <td>TO</td>\n",
              "      <td>2021</td>\n",
              "      <td>1607363</td>\n",
              "      <td>1258.0</td>\n",
              "    </tr>\n",
              "  </tbody>\n",
              "</table>\n",
              "<p>837 rows × 4 columns</p>\n",
              "</div>\n",
              "      <button class=\"colab-df-convert\" onclick=\"convertToInteractive('df-958605ac-5982-4271-9a3e-47045372c14f')\"\n",
              "              title=\"Convert this dataframe to an interactive table.\"\n",
              "              style=\"display:none;\">\n",
              "        \n",
              "  <svg xmlns=\"http://www.w3.org/2000/svg\" height=\"24px\"viewBox=\"0 0 24 24\"\n",
              "       width=\"24px\">\n",
              "    <path d=\"M0 0h24v24H0V0z\" fill=\"none\"/>\n",
              "    <path d=\"M18.56 5.44l.94 2.06.94-2.06 2.06-.94-2.06-.94-.94-2.06-.94 2.06-2.06.94zm-11 1L8.5 8.5l.94-2.06 2.06-.94-2.06-.94L8.5 2.5l-.94 2.06-2.06.94zm10 10l.94 2.06.94-2.06 2.06-.94-2.06-.94-.94-2.06-.94 2.06-2.06.94z\"/><path d=\"M17.41 7.96l-1.37-1.37c-.4-.4-.92-.59-1.43-.59-.52 0-1.04.2-1.43.59L10.3 9.45l-7.72 7.72c-.78.78-.78 2.05 0 2.83L4 21.41c.39.39.9.59 1.41.59.51 0 1.02-.2 1.41-.59l7.78-7.78 2.81-2.81c.8-.78.8-2.07 0-2.86zM5.41 20L4 18.59l7.72-7.72 1.47 1.35L5.41 20z\"/>\n",
              "  </svg>\n",
              "      </button>\n",
              "      \n",
              "  <style>\n",
              "    .colab-df-container {\n",
              "      display:flex;\n",
              "      flex-wrap:wrap;\n",
              "      gap: 12px;\n",
              "    }\n",
              "\n",
              "    .colab-df-convert {\n",
              "      background-color: #E8F0FE;\n",
              "      border: none;\n",
              "      border-radius: 50%;\n",
              "      cursor: pointer;\n",
              "      display: none;\n",
              "      fill: #1967D2;\n",
              "      height: 32px;\n",
              "      padding: 0 0 0 0;\n",
              "      width: 32px;\n",
              "    }\n",
              "\n",
              "    .colab-df-convert:hover {\n",
              "      background-color: #E2EBFA;\n",
              "      box-shadow: 0px 1px 2px rgba(60, 64, 67, 0.3), 0px 1px 3px 1px rgba(60, 64, 67, 0.15);\n",
              "      fill: #174EA6;\n",
              "    }\n",
              "\n",
              "    [theme=dark] .colab-df-convert {\n",
              "      background-color: #3B4455;\n",
              "      fill: #D2E3FC;\n",
              "    }\n",
              "\n",
              "    [theme=dark] .colab-df-convert:hover {\n",
              "      background-color: #434B5C;\n",
              "      box-shadow: 0px 1px 3px 1px rgba(0, 0, 0, 0.15);\n",
              "      filter: drop-shadow(0px 1px 2px rgba(0, 0, 0, 0.3));\n",
              "      fill: #FFFFFF;\n",
              "    }\n",
              "  </style>\n",
              "\n",
              "      <script>\n",
              "        const buttonEl =\n",
              "          document.querySelector('#df-958605ac-5982-4271-9a3e-47045372c14f button.colab-df-convert');\n",
              "        buttonEl.style.display =\n",
              "          google.colab.kernel.accessAllowed ? 'block' : 'none';\n",
              "\n",
              "        async function convertToInteractive(key) {\n",
              "          const element = document.querySelector('#df-958605ac-5982-4271-9a3e-47045372c14f');\n",
              "          const dataTable =\n",
              "            await google.colab.kernel.invokeFunction('convertToInteractive',\n",
              "                                                     [key], {});\n",
              "          if (!dataTable) return;\n",
              "\n",
              "          const docLinkHtml = 'Like what you see? Visit the ' +\n",
              "            '<a target=\"_blank\" href=https://colab.research.google.com/notebooks/data_table.ipynb>data table notebook</a>'\n",
              "            + ' to learn more about interactive tables.';\n",
              "          element.innerHTML = '';\n",
              "          dataTable['output_type'] = 'display_data';\n",
              "          await google.colab.output.renderOutput(dataTable, element);\n",
              "          const docLink = document.createElement('div');\n",
              "          docLink.innerHTML = docLinkHtml;\n",
              "          element.appendChild(docLink);\n",
              "        }\n",
              "      </script>\n",
              "    </div>\n",
              "  </div>\n",
              "  "
            ]
          },
          "metadata": {},
          "execution_count": 8
        }
      ]
    },
    {
      "cell_type": "code",
      "source": [
        "uf_populacao.isnull().sum()"
      ],
      "metadata": {
        "colab": {
          "base_uri": "https://localhost:8080/"
        },
        "id": "zUWul9reMeeq",
        "outputId": "3921b73b-87ed-4c76-a56d-03665bd53194"
      },
      "execution_count": 9,
      "outputs": [
        {
          "output_type": "execute_result",
          "data": {
            "text/plain": [
              "sigla_uf                            0\n",
              "ano                                 0\n",
              "populacao                           0\n",
              "populacao_economicamente_ativa    567\n",
              "dtype: int64"
            ]
          },
          "metadata": {},
          "execution_count": 9
        }
      ]
    },
    {
      "cell_type": "markdown",
      "source": [
        "##Dataframe População UFs válidos"
      ],
      "metadata": {
        "id": "Tp1RdaFoRNBT"
      }
    },
    {
      "cell_type": "code",
      "source": [
        "populacao_ufs_validos = uf_populacao\n",
        "# display(populacao_ufs_validos)\n",
        "\n",
        "for sigla in estados_invalidos:\n",
        "  populacao_ufs_validos = populacao_ufs_validos.drop(populacao_ufs_validos[populacao_ufs_validos['sigla_uf'] == sigla].index)\n",
        "\n",
        "print('----- Populacao UFs Válidos -----')\n",
        "display(populacao_ufs_validos['sigla_uf'].unique())"
      ],
      "metadata": {
        "colab": {
          "base_uri": "https://localhost:8080/",
          "height": 0
        },
        "id": "CnMPOr3gRLdR",
        "outputId": "c22e2c41-d9bc-4359-f7e9-15876ff2afd4"
      },
      "execution_count": 10,
      "outputs": [
        {
          "output_type": "stream",
          "name": "stdout",
          "text": [
            "----- Populacao UFs Válidos -----\n"
          ]
        },
        {
          "output_type": "display_data",
          "data": {
            "text/plain": [
              "array(['AL', 'CE', 'ES', 'MA', 'MG', 'MS', 'MT', 'PA', 'PE', 'PI', 'PR',\n",
              "       'RJ', 'RS', 'SC', 'SP'], dtype=object)"
            ]
          },
          "metadata": {}
        }
      ]
    },
    {
      "cell_type": "markdown",
      "source": [
        "##Dataframe População nos anos 2013, 2016 e 2019"
      ],
      "metadata": {
        "id": "U-c7OprKMtMP"
      }
    },
    {
      "cell_type": "code",
      "source": [
        "populacao_ufs_validos_2013 = populacao_ufs_validos.loc[populacao_ufs_validos['ano'] == 2013]\n",
        "populacao_ufs_validos_2016 = populacao_ufs_validos.loc[populacao_ufs_validos['ano'] == 2016]\n",
        "populacao_ufs_validos_2019 = populacao_ufs_validos.loc[populacao_ufs_validos['ano'] == 2019]\n",
        "\n",
        "# display(populacao_ufs_validos_2013)\n",
        "# display(populacao_ufs_validos_2016)\n",
        "# display(populacao_ufs_validos_2019)"
      ],
      "metadata": {
        "id": "1Y87Yq3fMhYb"
      },
      "execution_count": 11,
      "outputs": []
    },
    {
      "cell_type": "markdown",
      "source": [
        "##Funções"
      ],
      "metadata": {
        "id": "cPOwiOfZ6iV_"
      }
    },
    {
      "cell_type": "code",
      "source": [
        "def plot_grafico_barras_normal(x, y, x_name, y_name, graph_name):\n",
        "  plt.bar(x, y)\n",
        "  plt.title(graph_name)\n",
        "  plt.xlabel(x_name)\n",
        "  plt.ylabel(y_name)\n",
        "  plt.show()"
      ],
      "metadata": {
        "id": "eHDUVlF4r727"
      },
      "execution_count": 12,
      "outputs": []
    },
    {
      "cell_type": "code",
      "source": [
        "def plotar_barras_grupos(dados, grupo, variaveis):\n",
        "  dados_grupos = dados.groupby(grupo)[variaveis].sum()\n",
        "  dados_grupos.plot(kind='bar', figsize=(10, 6))\n",
        "  plt.xlabel(grupo)\n",
        "  plt.ylabel('Valor agregado')\n",
        "  plt.title('VAs por estados')\n",
        "  plt.legend(variaveis)\n",
        "  plt.show()"
      ],
      "metadata": {
        "id": "A-3LVY6sKNIT"
      },
      "execution_count": 13,
      "outputs": []
    },
    {
      "cell_type": "code",
      "source": [
        "def plotar_barras_grupos_generico(dados, grupo, variaveis, y_name, graph_title):\n",
        "  dados_grupos = dados.groupby(grupo)[variaveis].sum()\n",
        "  dados_grupos.plot(kind='bar', figsize=(10, 6))\n",
        "  plt.xlabel(grupo)\n",
        "  plt.ylabel(y_name)\n",
        "  plt.title(graph_title)\n",
        "  plt.legend(variaveis)\n",
        "  plt.show()"
      ],
      "metadata": {
        "id": "wIEzM-NNpmzJ"
      },
      "execution_count": 14,
      "outputs": []
    },
    {
      "cell_type": "code",
      "source": [
        "def plotar_barras_grupos_generico(dados, grupo, variaveis, y_name, graph_title):\n",
        "  dados_grupos = dados.groupby(grupo)[variaveis].sum()\n",
        "  dados_grupos.plot(kind='bar', figsize=(10, 6))\n",
        "  plt.xlabel(grupo)\n",
        "  plt.ylabel(y_name)\n",
        "  plt.title(graph_title)\n",
        "  plt.legend(variaveis)\n",
        "  plt.show()"
      ],
      "metadata": {
        "id": "D-eCbkBz1uFr"
      },
      "execution_count": 15,
      "outputs": []
    },
    {
      "cell_type": "code",
      "source": [
        "from sklearn.preprocessing import MinMaxScaler\n",
        "\n",
        "def normalize_data(df, columns):\n",
        "    # Select columns to normalize\n",
        "    X = df[columns]\n",
        "    \n",
        "    # Create scaler and normalize data\n",
        "    scaler = MinMaxScaler()\n",
        "    X_norm = scaler.fit_transform(X)\n",
        "    \n",
        "    # Create new dataframe with normalized data and original index\n",
        "    df_norm = pd.DataFrame(X_norm, index=df.index, columns=columns)\n",
        "    \n",
        "    # Add any remaining columns from the original dataframe\n",
        "    remaining_columns = df.columns.difference(columns)\n",
        "    for column in remaining_columns:\n",
        "        df_norm[column] = df[column]\n",
        "    \n",
        "    return df_norm"
      ],
      "metadata": {
        "id": "uWRYtJmsHYnW"
      },
      "execution_count": 16,
      "outputs": []
    },
    {
      "cell_type": "code",
      "source": [
        "def plot_pib_anos(sigla_uf):\n",
        "  d2013 = pibs_ufs_validos_2013.loc[pibs_ufs_validos_2013['sigla_uf'] == str(sigla_uf)]\n",
        "  d2016 = pibs_ufs_validos_2016.loc[pibs_ufs_validos_2016['sigla_uf'] == str(sigla_uf)]\n",
        "  d2019 = pibs_ufs_validos_2019.loc[pibs_ufs_validos_2019['sigla_uf'] == str(sigla_uf)]\n",
        "\n",
        "  uf_pibs = pd.DataFrame(d2013)\n",
        "  uf_pibs = uf_pibs.append(d2016)\n",
        "  uf_pibs = uf_pibs.append(d2019)\n",
        "  display(uf_pibs)\n",
        "\n",
        "  cols = ['ano', 'pib','impostos_liquidos', 'va']\n",
        "  plotar_barras_grupos(uf_pibs[cols], 'ano', ['pib', 'impostos_liquidos', 'va'])"
      ],
      "metadata": {
        "id": "OXxAL_g7hwvG"
      },
      "execution_count": 17,
      "outputs": []
    },
    {
      "cell_type": "code",
      "source": [
        "def plot_educacao_anos(sigla_uf, all_cols, analise_cols, y_name, graph_title):\n",
        "  d2013 = educacao_ufs_validos_2013.loc[educacao_ufs_validos_2013['sigla_uf'] == str(sigla_uf)]\n",
        "  d2016 = educacao_ufs_validos_2016.loc[educacao_ufs_validos_2016['sigla_uf'] == str(sigla_uf)]\n",
        "  d2019 = educacao_ufs_validos_2019.loc[educacao_ufs_validos_2019['sigla_uf'] == str(sigla_uf)]\n",
        "\n",
        "  uf_pibs = pd.DataFrame(d2013)\n",
        "  uf_pibs = uf_pibs.append(d2016)\n",
        "  uf_pibs = uf_pibs.append(d2019)\n",
        "  # display(uf_pibs)\n",
        "\n",
        "  plotar_barras_grupos_generico(uf_pibs[all_cols], str(all_cols[0]), analise_cols, y_name, graph_title)"
      ],
      "metadata": {
        "id": "NcyRbrtv14Pb"
      },
      "execution_count": 18,
      "outputs": []
    },
    {
      "cell_type": "code",
      "source": [
        "def plot_populacao_anos(sigla_uf, all_cols, analise_cols, y_name, graph_title):\n",
        "  d2013 = populacao_ufs_validos_2013.loc[populacao_ufs_validos_2013['sigla_uf'] == str(sigla_uf)]\n",
        "  d2016 = populacao_ufs_validos_2016.loc[populacao_ufs_validos_2016['sigla_uf'] == str(sigla_uf)]\n",
        "  d2019 = populacao_ufs_validos_2019.loc[populacao_ufs_validos_2019['sigla_uf'] == str(sigla_uf)]\n",
        "\n",
        "  uf_pibs = pd.DataFrame(d2013)\n",
        "  uf_pibs = uf_pibs.append(d2016)\n",
        "  uf_pibs = uf_pibs.append(d2019)\n",
        "  # display(uf_pibs)\n",
        "\n",
        "  plotar_barras_grupos_generico(uf_pibs[all_cols], str(all_cols[0]), analise_cols, y_name, graph_title)"
      ],
      "metadata": {
        "id": "3nZ_1P4oe14E"
      },
      "execution_count": 19,
      "outputs": []
    },
    {
      "cell_type": "code",
      "source": [
        "def porcentagem_imposto_pib(sigla_uf):\n",
        "  d2013 = pibs_ufs_validos_2013.loc[pibs_ufs_validos_2013['sigla_uf'] == str(sigla_uf)]\n",
        "  d2016 = pibs_ufs_validos_2016.loc[pibs_ufs_validos_2016['sigla_uf'] == str(sigla_uf)]\n",
        "  d2019 = pibs_ufs_validos_2019.loc[pibs_ufs_validos_2019['sigla_uf'] == str(sigla_uf)]\n",
        "\n",
        "  uf_pibs = pd.DataFrame(d2013)\n",
        "  uf_pibs = uf_pibs.append(d2016)\n",
        "  uf_pibs = uf_pibs.append(d2019)\n",
        "  \n",
        "  print('Porcentagem de relação entre Impostos e PIB: ' + str((uf_pibs['impostos_liquidos']/uf_pibs['pib']*100).mean()) + '%')"
      ],
      "metadata": {
        "id": "wpCY4Mkth1t6"
      },
      "execution_count": 20,
      "outputs": []
    },
    {
      "cell_type": "code",
      "source": [
        "def porcentagem_abandono_pib(sigla_uf):\n",
        "  d2013 = educacao_ufs_validos_2013.loc[educacao_ufs_validos_2013['sigla_uf'] == str(sigla_uf)]\n",
        "  d2016 = educacao_ufs_validos_2016.loc[educacao_ufs_validos_2016['sigla_uf'] == str(sigla_uf)]\n",
        "  d2019 = educacao_ufs_validos_2019.loc[educacao_ufs_validos_2019['sigla_uf'] == str(sigla_uf)]\n",
        "\n",
        "  uf_pibs = pd.DataFrame(d2013)\n",
        "  uf_pibs = uf_pibs.append(d2016)\n",
        "  uf_pibs = uf_pibs.append(d2019)"
      ],
      "metadata": {
        "id": "NEqxJ3qM0V05"
      },
      "execution_count": 21,
      "outputs": []
    },
    {
      "cell_type": "markdown",
      "source": [
        "##Análises "
      ],
      "metadata": {
        "id": "w3KY1AQv6mMU"
      }
    },
    {
      "cell_type": "markdown",
      "source": [
        "###PIB, VA, Impostos"
      ],
      "metadata": {
        "id": "ZVqMhL12RU9D"
      }
    },
    {
      "cell_type": "code",
      "source": [
        "# normalized_data_2013 = normalize_data(pibs_ufs_validos_2013, ['pib', 'impostos_liquidos', 'va'])\n",
        "# display(normalized_data)\n",
        "cols = ['sigla_uf', 'pib', 'impostos_liquidos', 'va']\n",
        "plotar_barras_grupos(pibs_ufs_validos_2013[cols], 'sigla_uf', ['pib', 'impostos_liquidos', 'va'])"
      ],
      "metadata": {
        "colab": {
          "base_uri": "https://localhost:8080/",
          "height": 411
        },
        "id": "m9LWg2PdLi6v",
        "outputId": "f8fbfb3c-fb25-4c52-e4c9-2d446357f69a"
      },
      "execution_count": 22,
      "outputs": [
        {
          "output_type": "display_data",
          "data": {
            "text/plain": [
              "<Figure size 720x432 with 1 Axes>"
            ],
            "image/png": "[encoded data removed]"
          },
          "metadata": {
            "needs_background": "light"
          }
        }
      ]
    },
    {
      "cell_type": "code",
      "source": [
        "# normalized_data_2016 = normalize_data(pibs_ufs_validos_2016, ['pib', 'impostos_liquidos', 'va'])\n",
        "# display(normalized_data)\n",
        "cols = ['sigla_uf', 'pib', 'impostos_liquidos', 'va']\n",
        "plotar_barras_grupos(pibs_ufs_validos_2016[cols], 'sigla_uf', ['pib', 'impostos_liquidos', 'va'])"
      ],
      "metadata": {
        "colab": {
          "base_uri": "https://localhost:8080/",
          "height": 411
        },
        "id": "NU44NYxyMAN6",
        "outputId": "5c0cddf3-890a-4619-9a41-f8f06546557d"
      },
      "execution_count": 23,
      "outputs": [
        {
          "output_type": "display_data",
          "data": {
            "text/plain": [
              "<Figure size 720x432 with 1 Axes>"
            ],
            "image/png": "[encoded data removed]"
          },
          "metadata": {
            "needs_background": "light"
          }
        }
      ]
    },
    {
      "cell_type": "code",
      "source": [
        "# normalized_data_2019 = normalize_data(pibs_ufs_validos_2019, ['pib', 'impostos_liquidos', 'va'])\n",
        "# display(normalized_data)\n",
        "cols = ['sigla_uf', 'pib', 'impostos_liquidos', 'va']\n",
        "plotar_barras_grupos(pibs_ufs_validos_2019[cols], 'sigla_uf', ['pib', 'impostos_liquidos', 'va'])"
      ],
      "metadata": {
        "colab": {
          "base_uri": "https://localhost:8080/",
          "height": 411
        },
        "id": "EQVJPEwbMQ5b",
        "outputId": "09b023b3-d4cc-4ce9-def7-b3e2cf713f2e"
      },
      "execution_count": 24,
      "outputs": [
        {
          "output_type": "display_data",
          "data": {
            "text/plain": [
              "<Figure size 720x432 with 1 Axes>"
            ],
            "image/png": "[encoded data removed]"
          },
          "metadata": {
            "needs_background": "light"
          }
        }
      ]
    },
    {
      "cell_type": "code",
      "source": [
        "# Crescimento PIB entre os anos geral\n",
        "print('--- Geral ---')\n",
        "sum_pib_2013 = pibs_ufs_validos_2013['pib'].sum()\n",
        "sum_pib_2016 = pibs_ufs_validos_2016['pib'].sum()\n",
        "sum_pib_2019 = pibs_ufs_validos_2019['pib'].sum()\n",
        "\n",
        "# print(sum_pib_2013)\n",
        "print(f'Crescimento PIB entre 2013 e 2016: {sum_pib_2016/sum_pib_2013*100-100}%')\n",
        "print(f'Crescimento PIB entre 2016 e 2019: {sum_pib_2019/sum_pib_2016*100-100}%')\n",
        "\n",
        "# Crescimento PIB entre os anos SP (maior)\n",
        "print('--- SP ---')\n",
        "sum_sp_2013 = float(pibs_ufs_validos_2013.loc[pibs_ufs_validos_2013['sigla_uf'] == 'SP']['pib'])\n",
        "sum_sp_2016 = float(pibs_ufs_validos_2016.loc[pibs_ufs_validos_2016['sigla_uf'] == 'SP']['pib'])\n",
        "sum_sp_2019 = float(pibs_ufs_validos_2019.loc[pibs_ufs_validos_2019['sigla_uf'] == 'SP']['pib'])\n",
        "\n",
        "print(f'Crescimento PIB SP entre 2013 e 2016: {sum_sp_2016/sum_sp_2013*100-100}%')\n",
        "print(f'Crescimento PIB SP entre 2016 e 2019: {sum_sp_2019/sum_sp_2016*100-100}%')\n",
        "\n",
        "# Crescimento PIB entre os anos PI (menor)\n",
        "print('--- PI ---')\n",
        "sum_pi_2013 = float(pibs_ufs_validos_2013.loc[pibs_ufs_validos_2013['sigla_uf'] == 'PI']['pib'])\n",
        "sum_pi_2016 = float(pibs_ufs_validos_2016.loc[pibs_ufs_validos_2016['sigla_uf'] == 'PI']['pib'])\n",
        "sum_pi_2019 = float(pibs_ufs_validos_2019.loc[pibs_ufs_validos_2019['sigla_uf'] == 'PI']['pib'])\n",
        "\n",
        "print(f'Crescimento PIB PI entre 2013 e 2016: {sum_pi_2016/sum_pi_2013*100-100}%')\n",
        "print(f'Crescimento PIB PI entre 2016 e 2019: {sum_pi_2019/sum_pi_2016*100-100}%')"
      ],
      "metadata": {
        "colab": {
          "base_uri": "https://localhost:8080/"
        },
        "id": "kZ2Dh5NrR-zQ",
        "outputId": "108e2a27-db46-44a9-e9a3-8a322332a756"
      },
      "execution_count": 25,
      "outputs": [
        {
          "output_type": "stream",
          "name": "stdout",
          "text": [
            "--- Geral ---\n",
            "Crescimento PIB entre 2013 e 2016: 16.491591717755142%\n",
            "Crescimento PIB entre 2016 e 2019: 18.16330085913576%\n",
            "--- SP ---\n",
            "Crescimento PIB SP entre 2013 e 2016: 18.8614575058144%\n",
            "Crescimento PIB SP entre 2016 e 2019: 15.184769970642037%\n",
            "--- PI ---\n",
            "Crescimento PIB PI entre 2013 e 2016: 32.3918793753823%\n",
            "Crescimento PIB PI entre 2016 e 2019: 27.4376833419242%\n"
          ]
        }
      ]
    },
    {
      "cell_type": "markdown",
      "source": [
        "###Análise de trajetória dos 2 maiores e menores PIBs"
      ],
      "metadata": {
        "id": "FyrGfaRPRc7y"
      }
    },
    {
      "cell_type": "code",
      "source": [
        "plot_pib_anos('SP')\n",
        "porcentagem_imposto_pib('SP')"
      ],
      "metadata": {
        "colab": {
          "base_uri": "https://localhost:8080/",
          "height": 0
        },
        "id": "GDmPUmO6YJiR",
        "outputId": "3b565b9d-5df8-4fca-a20b-4e8fd7f8aea4"
      },
      "execution_count": 26,
      "outputs": [
        {
          "output_type": "display_data",
          "data": {
            "text/plain": [
              "      ano  id_uf sigla_uf            pib  impostos_liquidos             va  \\\n",
              "372  2013     35       SP  1715238416566       295812194267  1419426222285   \n",
              "375  2016     35       SP  2038757381630       313449931906  1725307449733   \n",
              "378  2019     35       SP  2348338000290       373027516062  1975310484236   \n",
              "\n",
              "     va_agropecuaria  va_industria    va_servicos    va_adespss  \n",
              "372      26457535094  323072407694   927683721804  142212557694  \n",
              "375      35827656845  369476372921  1153330169822  166673250143  \n",
              "378      33074726102  400871794192  1354778258158  186585705779  "
            ],
            "text/html": [
              "\n",
              "  <div id=\"df-b8915eb2-3375-4a68-a902-c3cc34bf7194\">\n",
              "    <div class=\"colab-df-container\">\n",
              "      <div>\n",
              "<style scoped>\n",
              "    .dataframe tbody tr th:only-of-type {\n",
              "        vertical-align: middle;\n",
              "    }\n",
              "\n",
              "    .dataframe tbody tr th {\n",
              "        vertical-align: top;\n",
              "    }\n",
              "\n",
              "    .dataframe thead th {\n",
              "        text-align: right;\n",
              "    }\n",
              "</style>\n",
              "<table border=\"1\" class=\"dataframe\">\n",
              "  <thead>\n",
              "    <tr style=\"text-align: right;\">\n",
              "      <th></th>\n",
              "      <th>ano</th>\n",
              "      <th>id_uf</th>\n",
              "      <th>sigla_uf</th>\n",
              "      <th>pib</th>\n",
              "      <th>impostos_liquidos</th>\n",
              "      <th>va</th>\n",
              "      <th>va_agropecuaria</th>\n",
              "      <th>va_industria</th>\n",
              "      <th>va_servicos</th>\n",
              "      <th>va_adespss</th>\n",
              "    </tr>\n",
              "  </thead>\n",
              "  <tbody>\n",
              "    <tr>\n",
              "      <th>372</th>\n",
              "      <td>2013</td>\n",
              "      <td>35</td>\n",
              "      <td>SP</td>\n",
              "      <td>1715238416566</td>\n",
              "      <td>295812194267</td>\n",
              "      <td>1419426222285</td>\n",
              "      <td>26457535094</td>\n",
              "      <td>323072407694</td>\n",
              "      <td>927683721804</td>\n",
              "      <td>142212557694</td>\n",
              "    </tr>\n",
              "    <tr>\n",
              "      <th>375</th>\n",
              "      <td>2016</td>\n",
              "      <td>35</td>\n",
              "      <td>SP</td>\n",
              "      <td>2038757381630</td>\n",
              "      <td>313449931906</td>\n",
              "      <td>1725307449733</td>\n",
              "      <td>35827656845</td>\n",
              "      <td>369476372921</td>\n",
              "      <td>1153330169822</td>\n",
              "      <td>166673250143</td>\n",
              "    </tr>\n",
              "    <tr>\n",
              "      <th>378</th>\n",
              "      <td>2019</td>\n",
              "      <td>35</td>\n",
              "      <td>SP</td>\n",
              "      <td>2348338000290</td>\n",
              "      <td>373027516062</td>\n",
              "      <td>1975310484236</td>\n",
              "      <td>33074726102</td>\n",
              "      <td>400871794192</td>\n",
              "      <td>1354778258158</td>\n",
              "      <td>186585705779</td>\n",
              "    </tr>\n",
              "  </tbody>\n",
              "</table>\n",
              "</div>\n",
              "      <button class=\"colab-df-convert\" onclick=\"convertToInteractive('df-b8915eb2-3375-4a68-a902-c3cc34bf7194')\"\n",
              "              title=\"Convert this dataframe to an interactive table.\"\n",
              "              style=\"display:none;\">\n",
              "        \n",
              "  <svg xmlns=\"http://www.w3.org/2000/svg\" height=\"24px\"viewBox=\"0 0 24 24\"\n",
              "       width=\"24px\">\n",
              "    <path d=\"M0 0h24v24H0V0z\" fill=\"none\"/>\n",
              "    <path d=\"M18.56 5.44l.94 2.06.94-2.06 2.06-.94-2.06-.94-.94-2.06-.94 2.06-2.06.94zm-11 1L8.5 8.5l.94-2.06 2.06-.94-2.06-.94L8.5 2.5l-.94 2.06-2.06.94zm10 10l.94 2.06.94-2.06 2.06-.94-2.06-.94-.94-2.06-.94 2.06-2.06.94z\"/><path d=\"M17.41 7.96l-1.37-1.37c-.4-.4-.92-.59-1.43-.59-.52 0-1.04.2-1.43.59L10.3 9.45l-7.72 7.72c-.78.78-.78 2.05 0 2.83L4 21.41c.39.39.9.59 1.41.59.51 0 1.02-.2 1.41-.59l7.78-7.78 2.81-2.81c.8-.78.8-2.07 0-2.86zM5.41 20L4 18.59l7.72-7.72 1.47 1.35L5.41 20z\"/>\n",
              "  </svg>\n",
              "      </button>\n",
              "      \n",
              "  <style>\n",
              "    .colab-df-container {\n",
              "      display:flex;\n",
              "      flex-wrap:wrap;\n",
              "      gap: 12px;\n",
              "    }\n",
              "\n",
              "    .colab-df-convert {\n",
              "      background-color: #E8F0FE;\n",
              "      border: none;\n",
              "      border-radius: 50%;\n",
              "      cursor: pointer;\n",
              "      display: none;\n",
              "      fill: #1967D2;\n",
              "      height: 32px;\n",
              "      padding: 0 0 0 0;\n",
              "      width: 32px;\n",
              "    }\n",
              "\n",
              "    .colab-df-convert:hover {\n",
              "      background-color: #E2EBFA;\n",
              "      box-shadow: 0px 1px 2px rgba(60, 64, 67, 0.3), 0px 1px 3px 1px rgba(60, 64, 67, 0.15);\n",
              "      fill: #174EA6;\n",
              "    }\n",
              "\n",
              "    [theme=dark] .colab-df-convert {\n",
              "      background-color: #3B4455;\n",
              "      fill: #D2E3FC;\n",
              "    }\n",
              "\n",
              "    [theme=dark] .colab-df-convert:hover {\n",
              "      background-color: #434B5C;\n",
              "      box-shadow: 0px 1px 3px 1px rgba(0, 0, 0, 0.15);\n",
              "      filter: drop-shadow(0px 1px 2px rgba(0, 0, 0, 0.3));\n",
              "      fill: #FFFFFF;\n",
              "    }\n",
              "  </style>\n",
              "\n",
              "      <script>\n",
              "        const buttonEl =\n",
              "          document.querySelector('#df-b8915eb2-3375-4a68-a902-c3cc34bf7194 button.colab-df-convert');\n",
              "        buttonEl.style.display =\n",
              "          google.colab.kernel.accessAllowed ? 'block' : 'none';\n",
              "\n",
              "        async function convertToInteractive(key) {\n",
              "          const element = document.querySelector('#df-b8915eb2-3375-4a68-a902-c3cc34bf7194');\n",
              "          const dataTable =\n",
              "            await google.colab.kernel.invokeFunction('convertToInteractive',\n",
              "                                                     [key], {});\n",
              "          if (!dataTable) return;\n",
              "\n",
              "          const docLinkHtml = 'Like what you see? Visit the ' +\n",
              "            '<a target=\"_blank\" href=https://colab.research.google.com/notebooks/data_table.ipynb>data table notebook</a>'\n",
              "            + ' to learn more about interactive tables.';\n",
              "          element.innerHTML = '';\n",
              "          dataTable['output_type'] = 'display_data';\n",
              "          await google.colab.output.renderOutput(dataTable, element);\n",
              "          const docLink = document.createElement('div');\n",
              "          docLink.innerHTML = docLinkHtml;\n",
              "          element.appendChild(docLink);\n",
              "        }\n",
              "      </script>\n",
              "    </div>\n",
              "  </div>\n",
              "  "
            ]
          },
          "metadata": {}
        },
        {
          "output_type": "display_data",
          "data": {
            "text/plain": [
              "<Figure size 720x432 with 1 Axes>"
            ],
            "image/png": "[encoded data removed]"
          },
          "metadata": {
            "needs_background": "light"
          }
        },
        {
          "output_type": "stream",
          "name": "stdout",
          "text": [
            "Porcentagem de relação entre Impostos e PIB: 16.16847675467596%\n"
          ]
        }
      ]
    },
    {
      "cell_type": "code",
      "source": [
        "plot_pib_anos('RJ')\n",
        "porcentagem_imposto_pib('RJ')"
      ],
      "metadata": {
        "colab": {
          "base_uri": "https://localhost:8080/",
          "height": 0
        },
        "id": "j7bgilwMYM3w",
        "outputId": "7391e6b9-3e96-421d-97e7-7434c8c60e95"
      },
      "execution_count": 27,
      "outputs": [
        {
          "output_type": "display_data",
          "data": {
            "text/plain": [
              "      ano  id_uf sigla_uf           pib  impostos_liquidos            va  \\\n",
              "353  2013     33       RJ  628226069362        93265623518  534960445849   \n",
              "356  2016     33       RJ  640401206447        98268585581  542132620875   \n",
              "359  2019     33       RJ  779927917084       118873682437  661054234647   \n",
              "\n",
              "     va_agropecuaria  va_industria   va_servicos    va_adespss  \n",
              "353       2442473270  162747371267  274802728527   94967872787  \n",
              "356       3077081381   98798160628  321677730423  118579648441  \n",
              "359       3031269702  165781864369  358325288748  133915811826  "
            ],
            "text/html": [
              "\n",
              "  <div id=\"df-d03e0355-b342-492c-847c-c3326df89c52\">\n",
              "    <div class=\"colab-df-container\">\n",
              "      <div>\n",
              "<style scoped>\n",
              "    .dataframe tbody tr th:only-of-type {\n",
              "        vertical-align: middle;\n",
              "    }\n",
              "\n",
              "    .dataframe tbody tr th {\n",
              "        vertical-align: top;\n",
              "    }\n",
              "\n",
              "    .dataframe thead th {\n",
              "        text-align: right;\n",
              "    }\n",
              "</style>\n",
              "<table border=\"1\" class=\"dataframe\">\n",
              "  <thead>\n",
              "    <tr style=\"text-align: right;\">\n",
              "      <th></th>\n",
              "      <th>ano</th>\n",
              "      <th>id_uf</th>\n",
              "      <th>sigla_uf</th>\n",
              "      <th>pib</th>\n",
              "      <th>impostos_liquidos</th>\n",
              "      <th>va</th>\n",
              "      <th>va_agropecuaria</th>\n",
              "      <th>va_industria</th>\n",
              "      <th>va_servicos</th>\n",
              "      <th>va_adespss</th>\n",
              "    </tr>\n",
              "  </thead>\n",
              "  <tbody>\n",
              "    <tr>\n",
              "      <th>353</th>\n",
              "      <td>2013</td>\n",
              "      <td>33</td>\n",
              "      <td>RJ</td>\n",
              "      <td>628226069362</td>\n",
              "      <td>93265623518</td>\n",
              "      <td>534960445849</td>\n",
              "      <td>2442473270</td>\n",
              "      <td>162747371267</td>\n",
              "      <td>274802728527</td>\n",
              "      <td>94967872787</td>\n",
              "    </tr>\n",
              "    <tr>\n",
              "      <th>356</th>\n",
              "      <td>2016</td>\n",
              "      <td>33</td>\n",
              "      <td>RJ</td>\n",
              "      <td>640401206447</td>\n",
              "      <td>98268585581</td>\n",
              "      <td>542132620875</td>\n",
              "      <td>3077081381</td>\n",
              "      <td>98798160628</td>\n",
              "      <td>321677730423</td>\n",
              "      <td>118579648441</td>\n",
              "    </tr>\n",
              "    <tr>\n",
              "      <th>359</th>\n",
              "      <td>2019</td>\n",
              "      <td>33</td>\n",
              "      <td>RJ</td>\n",
              "      <td>779927917084</td>\n",
              "      <td>118873682437</td>\n",
              "      <td>661054234647</td>\n",
              "      <td>3031269702</td>\n",
              "      <td>165781864369</td>\n",
              "      <td>358325288748</td>\n",
              "      <td>133915811826</td>\n",
              "    </tr>\n",
              "  </tbody>\n",
              "</table>\n",
              "</div>\n",
              "      <button class=\"colab-df-convert\" onclick=\"convertToInteractive('df-d03e0355-b342-492c-847c-c3326df89c52')\"\n",
              "              title=\"Convert this dataframe to an interactive table.\"\n",
              "              style=\"display:none;\">\n",
              "        \n",
              "  <svg xmlns=\"http://www.w3.org/2000/svg\" height=\"24px\"viewBox=\"0 0 24 24\"\n",
              "       width=\"24px\">\n",
              "    <path d=\"M0 0h24v24H0V0z\" fill=\"none\"/>\n",
              "    <path d=\"M18.56 5.44l.94 2.06.94-2.06 2.06-.94-2.06-.94-.94-2.06-.94 2.06-2.06.94zm-11 1L8.5 8.5l.94-2.06 2.06-.94-2.06-.94L8.5 2.5l-.94 2.06-2.06.94zm10 10l.94 2.06.94-2.06 2.06-.94-2.06-.94-.94-2.06-.94 2.06-2.06.94z\"/><path d=\"M17.41 7.96l-1.37-1.37c-.4-.4-.92-.59-1.43-.59-.52 0-1.04.2-1.43.59L10.3 9.45l-7.72 7.72c-.78.78-.78 2.05 0 2.83L4 21.41c.39.39.9.59 1.41.59.51 0 1.02-.2 1.41-.59l7.78-7.78 2.81-2.81c.8-.78.8-2.07 0-2.86zM5.41 20L4 18.59l7.72-7.72 1.47 1.35L5.41 20z\"/>\n",
              "  </svg>\n",
              "      </button>\n",
              "      \n",
              "  <style>\n",
              "    .colab-df-container {\n",
              "      display:flex;\n",
              "      flex-wrap:wrap;\n",
              "      gap: 12px;\n",
              "    }\n",
              "\n",
              "    .colab-df-convert {\n",
              "      background-color: #E8F0FE;\n",
              "      border: none;\n",
              "      border-radius: 50%;\n",
              "      cursor: pointer;\n",
              "      display: none;\n",
              "      fill: #1967D2;\n",
              "      height: 32px;\n",
              "      padding: 0 0 0 0;\n",
              "      width: 32px;\n",
              "    }\n",
              "\n",
              "    .colab-df-convert:hover {\n",
              "      background-color: #E2EBFA;\n",
              "      box-shadow: 0px 1px 2px rgba(60, 64, 67, 0.3), 0px 1px 3px 1px rgba(60, 64, 67, 0.15);\n",
              "      fill: #174EA6;\n",
              "    }\n",
              "\n",
              "    [theme=dark] .colab-df-convert {\n",
              "      background-color: #3B4455;\n",
              "      fill: #D2E3FC;\n",
              "    }\n",
              "\n",
              "    [theme=dark] .colab-df-convert:hover {\n",
              "      background-color: #434B5C;\n",
              "      box-shadow: 0px 1px 3px 1px rgba(0, 0, 0, 0.15);\n",
              "      filter: drop-shadow(0px 1px 2px rgba(0, 0, 0, 0.3));\n",
              "      fill: #FFFFFF;\n",
              "    }\n",
              "  </style>\n",
              "\n",
              "      <script>\n",
              "        const buttonEl =\n",
              "          document.querySelector('#df-d03e0355-b342-492c-847c-c3326df89c52 button.colab-df-convert');\n",
              "        buttonEl.style.display =\n",
              "          google.colab.kernel.accessAllowed ? 'block' : 'none';\n",
              "\n",
              "        async function convertToInteractive(key) {\n",
              "          const element = document.querySelector('#df-d03e0355-b342-492c-847c-c3326df89c52');\n",
              "          const dataTable =\n",
              "            await google.colab.kernel.invokeFunction('convertToInteractive',\n",
              "                                                     [key], {});\n",
              "          if (!dataTable) return;\n",
              "\n",
              "          const docLinkHtml = 'Like what you see? Visit the ' +\n",
              "            '<a target=\"_blank\" href=https://colab.research.google.com/notebooks/data_table.ipynb>data table notebook</a>'\n",
              "            + ' to learn more about interactive tables.';\n",
              "          element.innerHTML = '';\n",
              "          dataTable['output_type'] = 'display_data';\n",
              "          await google.colab.output.renderOutput(dataTable, element);\n",
              "          const docLink = document.createElement('div');\n",
              "          docLink.innerHTML = docLinkHtml;\n",
              "          element.appendChild(docLink);\n",
              "        }\n",
              "      </script>\n",
              "    </div>\n",
              "  </div>\n",
              "  "
            ]
          },
          "metadata": {}
        },
        {
          "output_type": "display_data",
          "data": {
            "text/plain": [
              "<Figure size 720x432 with 1 Axes>"
            ],
            "image/png": "[encoded data removed]"
          },
          "metadata": {
            "needs_background": "light"
          }
        },
        {
          "output_type": "stream",
          "name": "stdout",
          "text": [
            "Porcentagem de relação entre Impostos e PIB: 15.144113650762677%\n"
          ]
        }
      ]
    },
    {
      "cell_type": "code",
      "source": [
        "plot_pib_anos('PI')\n",
        "porcentagem_imposto_pib('PI')"
      ],
      "metadata": {
        "colab": {
          "base_uri": "https://localhost:8080/",
          "height": 0
        },
        "id": "rHCrulDDYO1J",
        "outputId": "074bf734-0871-4234-9380-cddc6971e27b"
      },
      "execution_count": 28,
      "outputs": [
        {
          "output_type": "display_data",
          "data": {
            "text/plain": [
              "      ano  id_uf sigla_uf          pib  impostos_liquidos           va  \\\n",
              "163  2013     22       PI  31283593019         3435420593  27848172421   \n",
              "166  2016     22       PI  41416936734         4427867590  36989069135   \n",
              "169  2019     22       PI  52780784685         5648255450  47132529220   \n",
              "\n",
              "     va_agropecuaria  va_industria  va_servicos   va_adespss  \n",
              "163       1774815289    3432289131  13068201686   9572866309  \n",
              "166       1868311858    4694163220  17798890461  12627703608  \n",
              "169       3773393587    5778163095  21456017724  16124954829  "
            ],
            "text/html": [
              "\n",
              "  <div id=\"df-4e59ca88-ea74-4409-8306-b5932b77b437\">\n",
              "    <div class=\"colab-df-container\">\n",
              "      <div>\n",
              "<style scoped>\n",
              "    .dataframe tbody tr th:only-of-type {\n",
              "        vertical-align: middle;\n",
              "    }\n",
              "\n",
              "    .dataframe tbody tr th {\n",
              "        vertical-align: top;\n",
              "    }\n",
              "\n",
              "    .dataframe thead th {\n",
              "        text-align: right;\n",
              "    }\n",
              "</style>\n",
              "<table border=\"1\" class=\"dataframe\">\n",
              "  <thead>\n",
              "    <tr style=\"text-align: right;\">\n",
              "      <th></th>\n",
              "      <th>ano</th>\n",
              "      <th>id_uf</th>\n",
              "      <th>sigla_uf</th>\n",
              "      <th>pib</th>\n",
              "      <th>impostos_liquidos</th>\n",
              "      <th>va</th>\n",
              "      <th>va_agropecuaria</th>\n",
              "      <th>va_industria</th>\n",
              "      <th>va_servicos</th>\n",
              "      <th>va_adespss</th>\n",
              "    </tr>\n",
              "  </thead>\n",
              "  <tbody>\n",
              "    <tr>\n",
              "      <th>163</th>\n",
              "      <td>2013</td>\n",
              "      <td>22</td>\n",
              "      <td>PI</td>\n",
              "      <td>31283593019</td>\n",
              "      <td>3435420593</td>\n",
              "      <td>27848172421</td>\n",
              "      <td>1774815289</td>\n",
              "      <td>3432289131</td>\n",
              "      <td>13068201686</td>\n",
              "      <td>9572866309</td>\n",
              "    </tr>\n",
              "    <tr>\n",
              "      <th>166</th>\n",
              "      <td>2016</td>\n",
              "      <td>22</td>\n",
              "      <td>PI</td>\n",
              "      <td>41416936734</td>\n",
              "      <td>4427867590</td>\n",
              "      <td>36989069135</td>\n",
              "      <td>1868311858</td>\n",
              "      <td>4694163220</td>\n",
              "      <td>17798890461</td>\n",
              "      <td>12627703608</td>\n",
              "    </tr>\n",
              "    <tr>\n",
              "      <th>169</th>\n",
              "      <td>2019</td>\n",
              "      <td>22</td>\n",
              "      <td>PI</td>\n",
              "      <td>52780784685</td>\n",
              "      <td>5648255450</td>\n",
              "      <td>47132529220</td>\n",
              "      <td>3773393587</td>\n",
              "      <td>5778163095</td>\n",
              "      <td>21456017724</td>\n",
              "      <td>16124954829</td>\n",
              "    </tr>\n",
              "  </tbody>\n",
              "</table>\n",
              "</div>\n",
              "      <button class=\"colab-df-convert\" onclick=\"convertToInteractive('df-4e59ca88-ea74-4409-8306-b5932b77b437')\"\n",
              "              title=\"Convert this dataframe to an interactive table.\"\n",
              "              style=\"display:none;\">\n",
              "        \n",
              "  <svg xmlns=\"http://www.w3.org/2000/svg\" height=\"24px\"viewBox=\"0 0 24 24\"\n",
              "       width=\"24px\">\n",
              "    <path d=\"M0 0h24v24H0V0z\" fill=\"none\"/>\n",
              "    <path d=\"M18.56 5.44l.94 2.06.94-2.06 2.06-.94-2.06-.94-.94-2.06-.94 2.06-2.06.94zm-11 1L8.5 8.5l.94-2.06 2.06-.94-2.06-.94L8.5 2.5l-.94 2.06-2.06.94zm10 10l.94 2.06.94-2.06 2.06-.94-2.06-.94-.94-2.06-.94 2.06-2.06.94z\"/><path d=\"M17.41 7.96l-1.37-1.37c-.4-.4-.92-.59-1.43-.59-.52 0-1.04.2-1.43.59L10.3 9.45l-7.72 7.72c-.78.78-.78 2.05 0 2.83L4 21.41c.39.39.9.59 1.41.59.51 0 1.02-.2 1.41-.59l7.78-7.78 2.81-2.81c.8-.78.8-2.07 0-2.86zM5.41 20L4 18.59l7.72-7.72 1.47 1.35L5.41 20z\"/>\n",
              "  </svg>\n",
              "      </button>\n",
              "      \n",
              "  <style>\n",
              "    .colab-df-container {\n",
              "      display:flex;\n",
              "      flex-wrap:wrap;\n",
              "      gap: 12px;\n",
              "    }\n",
              "\n",
              "    .colab-df-convert {\n",
              "      background-color: #E8F0FE;\n",
              "      border: none;\n",
              "      border-radius: 50%;\n",
              "      cursor: pointer;\n",
              "      display: none;\n",
              "      fill: #1967D2;\n",
              "      height: 32px;\n",
              "      padding: 0 0 0 0;\n",
              "      width: 32px;\n",
              "    }\n",
              "\n",
              "    .colab-df-convert:hover {\n",
              "      background-color: #E2EBFA;\n",
              "      box-shadow: 0px 1px 2px rgba(60, 64, 67, 0.3), 0px 1px 3px 1px rgba(60, 64, 67, 0.15);\n",
              "      fill: #174EA6;\n",
              "    }\n",
              "\n",
              "    [theme=dark] .colab-df-convert {\n",
              "      background-color: #3B4455;\n",
              "      fill: #D2E3FC;\n",
              "    }\n",
              "\n",
              "    [theme=dark] .colab-df-convert:hover {\n",
              "      background-color: #434B5C;\n",
              "      box-shadow: 0px 1px 3px 1px rgba(0, 0, 0, 0.15);\n",
              "      filter: drop-shadow(0px 1px 2px rgba(0, 0, 0, 0.3));\n",
              "      fill: #FFFFFF;\n",
              "    }\n",
              "  </style>\n",
              "\n",
              "      <script>\n",
              "        const buttonEl =\n",
              "          document.querySelector('#df-4e59ca88-ea74-4409-8306-b5932b77b437 button.colab-df-convert');\n",
              "        buttonEl.style.display =\n",
              "          google.colab.kernel.accessAllowed ? 'block' : 'none';\n",
              "\n",
              "        async function convertToInteractive(key) {\n",
              "          const element = document.querySelector('#df-4e59ca88-ea74-4409-8306-b5932b77b437');\n",
              "          const dataTable =\n",
              "            await google.colab.kernel.invokeFunction('convertToInteractive',\n",
              "                                                     [key], {});\n",
              "          if (!dataTable) return;\n",
              "\n",
              "          const docLinkHtml = 'Like what you see? Visit the ' +\n",
              "            '<a target=\"_blank\" href=https://colab.research.google.com/notebooks/data_table.ipynb>data table notebook</a>'\n",
              "            + ' to learn more about interactive tables.';\n",
              "          element.innerHTML = '';\n",
              "          dataTable['output_type'] = 'display_data';\n",
              "          await google.colab.output.renderOutput(dataTable, element);\n",
              "          const docLink = document.createElement('div');\n",
              "          docLink.innerHTML = docLinkHtml;\n",
              "          element.appendChild(docLink);\n",
              "        }\n",
              "      </script>\n",
              "    </div>\n",
              "  </div>\n",
              "  "
            ]
          },
          "metadata": {}
        },
        {
          "output_type": "display_data",
          "data": {
            "text/plain": [
              "<Figure size 720x432 with 1 Axes>"
            ],
            "image/png": "[encoded data removed]"
          },
          "metadata": {
            "needs_background": "light"
          }
        },
        {
          "output_type": "stream",
          "name": "stdout",
          "text": [
            "Porcentagem de relação entre Impostos e PIB: 10.7912825594403%\n"
          ]
        }
      ]
    },
    {
      "cell_type": "code",
      "source": [
        "plot_pib_anos('AL')\n",
        "porcentagem_imposto_pib('AL')"
      ],
      "metadata": {
        "colab": {
          "base_uri": "https://localhost:8080/",
          "height": 0
        },
        "id": "gT6qJ8u9aZWW",
        "outputId": "8057d1a9-06ca-456a-97b7-bfda89a702ab"
      },
      "execution_count": 29,
      "outputs": [
        {
          "output_type": "display_data",
          "data": {
            "text/plain": [
              "      ano  id_uf sigla_uf          pib  impostos_liquidos           va  \\\n",
              "258  2013     27       AL  37282529122         3574439703  33708089428   \n",
              "261  2016     27       AL  49468740909         4714082950  44754657956   \n",
              "264  2019     27       AL  58963728728         5931434761  53032293962   \n",
              "\n",
              "     va_agropecuaria  va_industria  va_servicos   va_adespss  \n",
              "258       3494991651    5924941844  14931913960   9356241969  \n",
              "261       6752098441    5541012703  20560758051  11900788758  \n",
              "264       9459893055    6411652455  23729136025  13431612421  "
            ],
            "text/html": [
              "\n",
              "  <div id=\"df-fbf942b7-a52f-4895-aa31-91dfee069961\">\n",
              "    <div class=\"colab-df-container\">\n",
              "      <div>\n",
              "<style scoped>\n",
              "    .dataframe tbody tr th:only-of-type {\n",
              "        vertical-align: middle;\n",
              "    }\n",
              "\n",
              "    .dataframe tbody tr th {\n",
              "        vertical-align: top;\n",
              "    }\n",
              "\n",
              "    .dataframe thead th {\n",
              "        text-align: right;\n",
              "    }\n",
              "</style>\n",
              "<table border=\"1\" class=\"dataframe\">\n",
              "  <thead>\n",
              "    <tr style=\"text-align: right;\">\n",
              "      <th></th>\n",
              "      <th>ano</th>\n",
              "      <th>id_uf</th>\n",
              "      <th>sigla_uf</th>\n",
              "      <th>pib</th>\n",
              "      <th>impostos_liquidos</th>\n",
              "      <th>va</th>\n",
              "      <th>va_agropecuaria</th>\n",
              "      <th>va_industria</th>\n",
              "      <th>va_servicos</th>\n",
              "      <th>va_adespss</th>\n",
              "    </tr>\n",
              "  </thead>\n",
              "  <tbody>\n",
              "    <tr>\n",
              "      <th>258</th>\n",
              "      <td>2013</td>\n",
              "      <td>27</td>\n",
              "      <td>AL</td>\n",
              "      <td>37282529122</td>\n",
              "      <td>3574439703</td>\n",
              "      <td>33708089428</td>\n",
              "      <td>3494991651</td>\n",
              "      <td>5924941844</td>\n",
              "      <td>14931913960</td>\n",
              "      <td>9356241969</td>\n",
              "    </tr>\n",
              "    <tr>\n",
              "      <th>261</th>\n",
              "      <td>2016</td>\n",
              "      <td>27</td>\n",
              "      <td>AL</td>\n",
              "      <td>49468740909</td>\n",
              "      <td>4714082950</td>\n",
              "      <td>44754657956</td>\n",
              "      <td>6752098441</td>\n",
              "      <td>5541012703</td>\n",
              "      <td>20560758051</td>\n",
              "      <td>11900788758</td>\n",
              "    </tr>\n",
              "    <tr>\n",
              "      <th>264</th>\n",
              "      <td>2019</td>\n",
              "      <td>27</td>\n",
              "      <td>AL</td>\n",
              "      <td>58963728728</td>\n",
              "      <td>5931434761</td>\n",
              "      <td>53032293962</td>\n",
              "      <td>9459893055</td>\n",
              "      <td>6411652455</td>\n",
              "      <td>23729136025</td>\n",
              "      <td>13431612421</td>\n",
              "    </tr>\n",
              "  </tbody>\n",
              "</table>\n",
              "</div>\n",
              "      <button class=\"colab-df-convert\" onclick=\"convertToInteractive('df-fbf942b7-a52f-4895-aa31-91dfee069961')\"\n",
              "              title=\"Convert this dataframe to an interactive table.\"\n",
              "              style=\"display:none;\">\n",
              "        \n",
              "  <svg xmlns=\"http://www.w3.org/2000/svg\" height=\"24px\"viewBox=\"0 0 24 24\"\n",
              "       width=\"24px\">\n",
              "    <path d=\"M0 0h24v24H0V0z\" fill=\"none\"/>\n",
              "    <path d=\"M18.56 5.44l.94 2.06.94-2.06 2.06-.94-2.06-.94-.94-2.06-.94 2.06-2.06.94zm-11 1L8.5 8.5l.94-2.06 2.06-.94-2.06-.94L8.5 2.5l-.94 2.06-2.06.94zm10 10l.94 2.06.94-2.06 2.06-.94-2.06-.94-.94-2.06-.94 2.06-2.06.94z\"/><path d=\"M17.41 7.96l-1.37-1.37c-.4-.4-.92-.59-1.43-.59-.52 0-1.04.2-1.43.59L10.3 9.45l-7.72 7.72c-.78.78-.78 2.05 0 2.83L4 21.41c.39.39.9.59 1.41.59.51 0 1.02-.2 1.41-.59l7.78-7.78 2.81-2.81c.8-.78.8-2.07 0-2.86zM5.41 20L4 18.59l7.72-7.72 1.47 1.35L5.41 20z\"/>\n",
              "  </svg>\n",
              "      </button>\n",
              "      \n",
              "  <style>\n",
              "    .colab-df-container {\n",
              "      display:flex;\n",
              "      flex-wrap:wrap;\n",
              "      gap: 12px;\n",
              "    }\n",
              "\n",
              "    .colab-df-convert {\n",
              "      background-color: #E8F0FE;\n",
              "      border: none;\n",
              "      border-radius: 50%;\n",
              "      cursor: pointer;\n",
              "      display: none;\n",
              "      fill: #1967D2;\n",
              "      height: 32px;\n",
              "      padding: 0 0 0 0;\n",
              "      width: 32px;\n",
              "    }\n",
              "\n",
              "    .colab-df-convert:hover {\n",
              "      background-color: #E2EBFA;\n",
              "      box-shadow: 0px 1px 2px rgba(60, 64, 67, 0.3), 0px 1px 3px 1px rgba(60, 64, 67, 0.15);\n",
              "      fill: #174EA6;\n",
              "    }\n",
              "\n",
              "    [theme=dark] .colab-df-convert {\n",
              "      background-color: #3B4455;\n",
              "      fill: #D2E3FC;\n",
              "    }\n",
              "\n",
              "    [theme=dark] .colab-df-convert:hover {\n",
              "      background-color: #434B5C;\n",
              "      box-shadow: 0px 1px 3px 1px rgba(0, 0, 0, 0.15);\n",
              "      filter: drop-shadow(0px 1px 2px rgba(0, 0, 0, 0.3));\n",
              "      fill: #FFFFFF;\n",
              "    }\n",
              "  </style>\n",
              "\n",
              "      <script>\n",
              "        const buttonEl =\n",
              "          document.querySelector('#df-fbf942b7-a52f-4895-aa31-91dfee069961 button.colab-df-convert');\n",
              "        buttonEl.style.display =\n",
              "          google.colab.kernel.accessAllowed ? 'block' : 'none';\n",
              "\n",
              "        async function convertToInteractive(key) {\n",
              "          const element = document.querySelector('#df-fbf942b7-a52f-4895-aa31-91dfee069961');\n",
              "          const dataTable =\n",
              "            await google.colab.kernel.invokeFunction('convertToInteractive',\n",
              "                                                     [key], {});\n",
              "          if (!dataTable) return;\n",
              "\n",
              "          const docLinkHtml = 'Like what you see? Visit the ' +\n",
              "            '<a target=\"_blank\" href=https://colab.research.google.com/notebooks/data_table.ipynb>data table notebook</a>'\n",
              "            + ' to learn more about interactive tables.';\n",
              "          element.innerHTML = '';\n",
              "          dataTable['output_type'] = 'display_data';\n",
              "          await google.colab.output.renderOutput(dataTable, element);\n",
              "          const docLink = document.createElement('div');\n",
              "          docLink.innerHTML = docLinkHtml;\n",
              "          element.appendChild(docLink);\n",
              "        }\n",
              "      </script>\n",
              "    </div>\n",
              "  </div>\n",
              "  "
            ]
          },
          "metadata": {}
        },
        {
          "output_type": "display_data",
          "data": {
            "text/plain": [
              "<Figure size 720x432 with 1 Axes>"
            ],
            "image/png": "[encoded data removed]"
          },
          "metadata": {
            "needs_background": "light"
          }
        },
        {
          "output_type": "stream",
          "name": "stdout",
          "text": [
            "Porcentagem de relação entre Impostos e PIB: 9.72544002973518%\n"
          ]
        }
      ]
    },
    {
      "cell_type": "markdown",
      "source": [
        "###Média de Horas-Aula diária por UF"
      ],
      "metadata": {
        "id": "GxcSD5-bii59"
      }
    },
    {
      "cell_type": "code",
      "source": [
        "cols = ['sigla_uf', 'had_ei', 'had_ef', 'had_em']\n",
        "plotar_barras_grupos_generico(educacao_ufs_validos_2013[cols], 'sigla_uf', ['had_ei', 'had_ef', 'had_em'], 'Período de educação', 'Média de Horas-Aula diária por UF - 2013')"
      ],
      "metadata": {
        "colab": {
          "base_uri": "https://localhost:8080/",
          "height": 411
        },
        "id": "QYdr64CwpQzF",
        "outputId": "d3b23d8e-6a77-4446-eb87-c905aea44159"
      },
      "execution_count": 30,
      "outputs": [
        {
          "output_type": "display_data",
          "data": {
            "text/plain": [
              "<Figure size 720x432 with 1 Axes>"
            ],
            "image/png": "[encoded data removed]"
          },
          "metadata": {
            "needs_background": "light"
          }
        }
      ]
    },
    {
      "cell_type": "code",
      "source": [
        "cols = ['sigla_uf', 'had_ei', 'had_ef', 'had_em']\n",
        "plotar_barras_grupos_generico(educacao_ufs_validos_2016[cols], 'sigla_uf', ['had_ei', 'had_ef', 'had_em'], 'Período de educação', 'Média de Horas-Aula diária por UF - 2016')"
      ],
      "metadata": {
        "colab": {
          "base_uri": "https://localhost:8080/",
          "height": 411
        },
        "id": "hYjCekVsrxAu",
        "outputId": "bf2fc28f-15a9-4b5e-da7d-7aa1279e1954"
      },
      "execution_count": 31,
      "outputs": [
        {
          "output_type": "display_data",
          "data": {
            "text/plain": [
              "<Figure size 720x432 with 1 Axes>"
            ],
            "image/png": "[encoded data removed]"
          },
          "metadata": {
            "needs_background": "light"
          }
        }
      ]
    },
    {
      "cell_type": "code",
      "source": [
        "cols = ['sigla_uf', 'had_ei', 'had_ef', 'had_em']\n",
        "plotar_barras_grupos_generico(educacao_ufs_validos_2019[cols], 'sigla_uf', ['had_ei', 'had_ef', 'had_em'], 'Período de educação', 'Média de Horas-Aula diária por UF - 2019')"
      ],
      "metadata": {
        "colab": {
          "base_uri": "https://localhost:8080/",
          "height": 411
        },
        "id": "Qdyt-nmvsG-E",
        "outputId": "261f6b83-3599-428d-c0fc-957417035e16"
      },
      "execution_count": 32,
      "outputs": [
        {
          "output_type": "display_data",
          "data": {
            "text/plain": [
              "<Figure size 720x432 with 1 Axes>"
            ],
            "image/png": "[encoded data removed]"
          },
          "metadata": {
            "needs_background": "light"
          }
        }
      ]
    },
    {
      "cell_type": "code",
      "source": [
        "# Crescimento média horas-aula diária entre os anos geral\n",
        "print('--- Geral ---')\n",
        "sum_horas_2013 = educacao_ufs_validos_2013[['had_ei', 'had_ef', 'had_em']].sum().sum()\n",
        "sum_horas_2016 = educacao_ufs_validos_2016[['had_ei', 'had_ef', 'had_em']].sum().sum()\n",
        "sum_horas_2019 = educacao_ufs_validos_2019[['had_ei', 'had_ef', 'had_em']].sum().sum()\n",
        "\n",
        "print(sum_horas_2013)\n",
        "print(sum_horas_2016)\n",
        "print(sum_horas_2019)\n",
        "\n",
        "print(f'Crescimento média horas-aula diária entre 2013 e 2016: {sum_horas_2016/sum_horas_2013*100-100}%')\n",
        "print(f'Crescimento média horas-aula diária entre 2016 e 2019: {sum_horas_2019/sum_horas_2016*100-100}%')\n",
        "\n",
        "# Crescimento média horas-aula diária entre os anos SP (maior)\n",
        "print('--- SP ---')\n",
        "sum_sp_2013 = float(educacao_ufs_validos_2013.loc[educacao_ufs_validos_2013['sigla_uf'] == 'SP'][['had_ei', 'had_ef', 'had_em']].sum().sum())\n",
        "sum_sp_2016 = float(educacao_ufs_validos_2016.loc[educacao_ufs_validos_2016['sigla_uf'] == 'SP'][['had_ei', 'had_ef', 'had_em']].sum().sum())\n",
        "sum_sp_2019 = float(educacao_ufs_validos_2019.loc[educacao_ufs_validos_2019['sigla_uf'] == 'SP'][['had_ei', 'had_ef', 'had_em']].sum().sum())\n",
        "\n",
        "print(sum_sp_2013)\n",
        "print(sum_sp_2016)\n",
        "print(sum_sp_2019)\n",
        "\n",
        "print(f'Crescimento média horas-aula diária SP entre 2013 e 2016: {sum_sp_2016/sum_sp_2013*100-100}%')\n",
        "print(f'Crescimento média horas-aula diária SP entre 2016 e 2019: {sum_sp_2019/sum_sp_2016*100-100}%')\n",
        "\n",
        "# Crescimento média horas-aula diária entre os anos PI (menor)\n",
        "print('--- PI ---')\n",
        "sum_pi_2013 = float(educacao_ufs_validos_2013.loc[educacao_ufs_validos_2013['sigla_uf'] == 'PI'][['had_ei', 'had_ef', 'had_em']].sum().sum())\n",
        "sum_pi_2016 = float(educacao_ufs_validos_2016.loc[educacao_ufs_validos_2016['sigla_uf'] == 'PI'][['had_ei', 'had_ef', 'had_em']].sum().sum())\n",
        "sum_pi_2019 = float(educacao_ufs_validos_2019.loc[educacao_ufs_validos_2019['sigla_uf'] == 'PI'][['had_ei', 'had_ef', 'had_em']].sum().sum())\n",
        "\n",
        "print(sum_pi_2013)\n",
        "print(sum_pi_2016)\n",
        "print(sum_pi_2019)\n",
        "\n",
        "print(f'Crescimento média horas-aula diária PI entre 2013 e 2016: {sum_pi_2016/sum_pi_2013*100-100}%')\n",
        "print(f'Crescimento média horas-aula diária PI entre 2016 e 2019: {sum_pi_2019/sum_pi_2016*100-100}%')"
      ],
      "metadata": {
        "colab": {
          "base_uri": "https://localhost:8080/"
        },
        "id": "YT_KEqTil-75",
        "outputId": "07852c70-084c-45e3-bad2-9d56663f38a9"
      },
      "execution_count": 33,
      "outputs": [
        {
          "output_type": "stream",
          "name": "stdout",
          "text": [
            "--- Geral ---\n",
            "222.0\n",
            "225.39999999999998\n",
            "230.4\n",
            "Crescimento média horas-aula diária entre 2013 e 2016: 1.5315315315315132%\n",
            "Crescimento média horas-aula diária entre 2016 e 2019: 2.218278615794162%\n",
            "--- SP ---\n",
            "16.799999999999997\n",
            "17.2\n",
            "17.6\n",
            "Crescimento média horas-aula diária SP entre 2013 e 2016: 2.380952380952394%\n",
            "Crescimento média horas-aula diária SP entre 2016 e 2019: 2.3255813953488484%\n",
            "--- PI ---\n",
            "13.100000000000001\n",
            "14.0\n",
            "15.0\n",
            "Crescimento média horas-aula diária PI entre 2013 e 2016: 6.870229007633569%\n",
            "Crescimento média horas-aula diária PI entre 2016 e 2019: 7.142857142857139%\n"
          ]
        }
      ]
    },
    {
      "cell_type": "markdown",
      "source": [
        "###Taxa de abandono por UF"
      ],
      "metadata": {
        "id": "Gk4mpvnxuNfb"
      }
    },
    {
      "cell_type": "code",
      "source": [
        "cols = ['sigla_uf', 'taxa_abandono_ef', 'taxa_abandono_em']\n",
        "plotar_barras_grupos_generico(educacao_ufs_validos_2013[cols], 'sigla_uf', ['taxa_abandono_ef', 'taxa_abandono_em'], 'Taxa de abandono', 'Taxa de abandono por UF - 2013')"
      ],
      "metadata": {
        "id": "VP39ZvFSsIbI",
        "colab": {
          "base_uri": "https://localhost:8080/",
          "height": 411
        },
        "outputId": "ab845b1f-65ac-436b-812a-5598d0e36ba3"
      },
      "execution_count": 34,
      "outputs": [
        {
          "output_type": "display_data",
          "data": {
            "text/plain": [
              "<Figure size 720x432 with 1 Axes>"
            ],
            "image/png": "[encoded data removed]"
          },
          "metadata": {
            "needs_background": "light"
          }
        }
      ]
    },
    {
      "cell_type": "code",
      "source": [
        "cols = ['sigla_uf', 'taxa_abandono_ef', 'taxa_abandono_em']\n",
        "plotar_barras_grupos_generico(educacao_ufs_validos_2013[cols], 'sigla_uf', ['taxa_abandono_ef', 'taxa_abandono_em'], 'Taxa de abandono', 'Taxa de abandono por UF - 2013')"
      ],
      "metadata": {
        "colab": {
          "base_uri": "https://localhost:8080/",
          "height": 411
        },
        "id": "_ruwTfCfuCrT",
        "outputId": "15922b79-deb1-469a-e28c-b2c9d2d4e2a6"
      },
      "execution_count": 35,
      "outputs": [
        {
          "output_type": "display_data",
          "data": {
            "text/plain": [
              "<Figure size 720x432 with 1 Axes>"
            ],
            "image/png": "[encoded data removed]"
          },
          "metadata": {
            "needs_background": "light"
          }
        }
      ]
    },
    {
      "cell_type": "code",
      "source": [
        "cols = ['sigla_uf', 'taxa_abandono_ef', 'taxa_abandono_em']\n",
        "plotar_barras_grupos_generico(educacao_ufs_validos_2013[cols], 'sigla_uf', ['taxa_abandono_ef', 'taxa_abandono_em'], 'Taxa de abandono', 'Taxa de abandono por UF - 2013')"
      ],
      "metadata": {
        "colab": {
          "base_uri": "https://localhost:8080/",
          "height": 411
        },
        "id": "zXw_dGV9uEQU",
        "outputId": "c2b48012-d493-4604-93a3-3498dae1b1a8"
      },
      "execution_count": 36,
      "outputs": [
        {
          "output_type": "display_data",
          "data": {
            "text/plain": [
              "<Figure size 720x432 with 1 Axes>"
            ],
            "image/png": "[encoded data removed]"
          },
          "metadata": {
            "needs_background": "light"
          }
        }
      ]
    },
    {
      "cell_type": "code",
      "source": [
        "# Variação entre os anos geral\n",
        "print('--- Geral ---')\n",
        "sum_2013 = educacao_ufs_validos_2013[['taxa_abandono_ef', 'taxa_abandono_em']].sum().sum()\n",
        "sum_2016 = educacao_ufs_validos_2016[['taxa_abandono_ef', 'taxa_abandono_em']].sum().sum()\n",
        "sum_2019 = educacao_ufs_validos_2019[['taxa_abandono_ef', 'taxa_abandono_em']].sum().sum()\n",
        "\n",
        "print(sum_2013)\n",
        "print(sum_2016)\n",
        "print(sum_2019)\n",
        "\n",
        "print(f'Variação taxa abandono entre 2013 e 2016: {sum_2016/sum_2013*100-100}%')\n",
        "print(f'Variação taxa abandono entre 2016 e 2019: {sum_2019/sum_2016*100-100}%')\n",
        "\n",
        "# Variação entre os anos SP (maior)\n",
        "print('--- SP ---')\n",
        "sum_sp_2013 = float(educacao_ufs_validos_2013.loc[educacao_ufs_validos_2013['sigla_uf'] == 'SP'][['taxa_abandono_ef', 'taxa_abandono_em']].sum().sum())\n",
        "sum_sp_2016 = float(educacao_ufs_validos_2016.loc[educacao_ufs_validos_2016['sigla_uf'] == 'SP'][['taxa_abandono_ef', 'taxa_abandono_em']].sum().sum())\n",
        "sum_sp_2019 = float(educacao_ufs_validos_2019.loc[educacao_ufs_validos_2019['sigla_uf'] == 'SP'][['taxa_abandono_ef', 'taxa_abandono_em']].sum().sum())\n",
        "\n",
        "print(sum_sp_2013)\n",
        "print(sum_sp_2016)\n",
        "print(sum_sp_2019)\n",
        "\n",
        "print(f'Variação taxa abandono SP entre 2013 e 2016: {sum_sp_2016/sum_sp_2013*100-100}%')\n",
        "print(f'Variação taxa abandono SP entre 2016 e 2019: {sum_sp_2019/sum_sp_2016*100-100}%')\n",
        "\n",
        "# Variação entre os anos PI (menor)\n",
        "print('--- PI ---')\n",
        "sum_pi_2013 = float(educacao_ufs_validos_2013.loc[educacao_ufs_validos_2013['sigla_uf'] == 'PI'][['taxa_abandono_ef', 'taxa_abandono_em']].sum().sum())\n",
        "sum_pi_2016 = float(educacao_ufs_validos_2016.loc[educacao_ufs_validos_2016['sigla_uf'] == 'PI'][['taxa_abandono_ef', 'taxa_abandono_em']].sum().sum())\n",
        "sum_pi_2019 = float(educacao_ufs_validos_2019.loc[educacao_ufs_validos_2019['sigla_uf'] == 'PI'][['taxa_abandono_ef', 'taxa_abandono_em']].sum().sum())\n",
        "\n",
        "print(sum_pi_2013)\n",
        "print(sum_pi_2016)\n",
        "print(sum_pi_2019)\n",
        "\n",
        "print(f'Variação taxa abandono PI entre 2013 e 2016: {sum_pi_2016/sum_pi_2013*100-100}%')\n",
        "print(f'Variação taxa abandono PI entre 2016 e 2019: {sum_pi_2019/sum_pi_2016*100-100}%')"
      ],
      "metadata": {
        "colab": {
          "base_uri": "https://localhost:8080/"
        },
        "id": "BpZEQ5yHLfIM",
        "outputId": "28654e50-fd7a-4bba-f601-7b858b02ae8f"
      },
      "execution_count": 37,
      "outputs": [
        {
          "output_type": "stream",
          "name": "stdout",
          "text": [
            "--- Geral ---\n",
            "174.10000000000002\n",
            "139.6\n",
            "91.69999999999999\n",
            "Variação taxa abandono entre 2013 e 2016: -19.81619758759335%\n",
            "Variação taxa abandono entre 2016 e 2019: -34.31232091690545%\n",
            "--- SP ---\n",
            "5.6000000000000005\n",
            "4.4\n",
            "2.4\n",
            "Variação taxa abandono SP entre 2013 e 2016: -21.42857142857143%\n",
            "Variação taxa abandono SP entre 2016 e 2019: -45.45454545454546%\n",
            "--- PI ---\n",
            "16.2\n",
            "12.799999999999999\n",
            "8.5\n",
            "Variação taxa abandono PI entre 2013 e 2016: -20.98765432098766%\n",
            "Variação taxa abandono PI entre 2016 e 2019: -33.59375%\n"
          ]
        }
      ]
    },
    {
      "cell_type": "markdown",
      "source": [
        "###Análise das duas maiores e menores taxas de abandono"
      ],
      "metadata": {
        "id": "cMCM2bpDz1c-"
      }
    },
    {
      "cell_type": "code",
      "source": [
        "cols1 = ['ano', 'taxa_abandono_ef', 'taxa_abandono_em']\n",
        "cols2 = ['taxa_abandono_ef', 'taxa_abandono_em']\n",
        "plot_educacao_anos('SP', cols1, cols2, 'Taxa de abandono', 'Taxa de abandono SP por ano')"
      ],
      "metadata": {
        "colab": {
          "base_uri": "https://localhost:8080/",
          "height": 0
        },
        "id": "vuV6j0xEz1FG",
        "outputId": "5f8dc1e0-0bfe-4c3c-dbc3-892f3be29e76"
      },
      "execution_count": 38,
      "outputs": [
        {
          "output_type": "display_data",
          "data": {
            "text/plain": [
              "<Figure size 720x432 with 1 Axes>"
            ],
            "image/png": "[encoded data removed]"
          },
          "metadata": {
            "needs_background": "light"
          }
        }
      ]
    },
    {
      "cell_type": "code",
      "source": [
        "plot_educacao_anos('RJ', cols1, cols2, 'Taxa de abandono', 'Taxa de abandono RJ por ano')"
      ],
      "metadata": {
        "colab": {
          "base_uri": "https://localhost:8080/",
          "height": 0
        },
        "id": "xOkL1GSx3ea9",
        "outputId": "faef6751-f009-4563-fee7-d3b4dfb6f635"
      },
      "execution_count": 39,
      "outputs": [
        {
          "output_type": "display_data",
          "data": {
            "text/plain": [
              "<Figure size 720x432 with 1 Axes>"
            ],
            "image/png": "[encoded data removed]"
          },
          "metadata": {
            "needs_background": "light"
          }
        }
      ]
    },
    {
      "cell_type": "code",
      "source": [
        "plot_educacao_anos('PI', cols1, cols2, 'Taxa de abandono', 'Taxa de abandono PI por ano')"
      ],
      "metadata": {
        "colab": {
          "base_uri": "https://localhost:8080/",
          "height": 0
        },
        "id": "e-4sfDLW4aDN",
        "outputId": "83666661-619d-4bdc-c198-4eabef0362df"
      },
      "execution_count": 40,
      "outputs": [
        {
          "output_type": "display_data",
          "data": {
            "text/plain": [
              "<Figure size 720x432 with 1 Axes>"
            ],
            "image/png": "[encoded data removed]"
          },
          "metadata": {
            "needs_background": "light"
          }
        }
      ]
    },
    {
      "cell_type": "code",
      "source": [
        "plot_educacao_anos('AL', cols1, cols2, 'Taxa de abandono', 'Taxa de abandono AL por ano')"
      ],
      "metadata": {
        "colab": {
          "base_uri": "https://localhost:8080/",
          "height": 0
        },
        "id": "eIpBzoU0OHhR",
        "outputId": "dd83f6b9-ee52-46a6-84af-41c5162b62d5"
      },
      "execution_count": 41,
      "outputs": [
        {
          "output_type": "display_data",
          "data": {
            "text/plain": [
              "<Figure size 720x432 with 1 Axes>"
            ],
            "image/png": "[encoded data removed]"
          },
          "metadata": {
            "needs_background": "light"
          }
        }
      ]
    },
    {
      "cell_type": "markdown",
      "source": [
        "###Taxa de Não (nível de ensino) por UF"
      ],
      "metadata": {
        "id": "4f_snxKXOswk"
      }
    },
    {
      "cell_type": "code",
      "source": [
        "cols = ['sigla_uf', 'tnr_ef', 'tnr_em']\n",
        "plotar_barras_grupos_generico(educacao_ufs_validos_2013[cols], 'sigla_uf', ['tnr_ef', 'tnr_em'], 'Taxa de não', 'Taxa de não por UF - 2013')"
      ],
      "metadata": {
        "colab": {
          "base_uri": "https://localhost:8080/",
          "height": 411
        },
        "id": "I97tl4IIOu9m",
        "outputId": "a760d21f-d779-4773-b9ea-b5b74b2b02c1"
      },
      "execution_count": 42,
      "outputs": [
        {
          "output_type": "display_data",
          "data": {
            "text/plain": [
              "<Figure size 720x432 with 1 Axes>"
            ],
            "image/png": "[encoded data removed]"
          },
          "metadata": {
            "needs_background": "light"
          }
        }
      ]
    },
    {
      "cell_type": "code",
      "source": [
        "cols = ['sigla_uf', 'tnr_ef', 'tnr_em']\n",
        "plotar_barras_grupos_generico(educacao_ufs_validos_2016[cols], 'sigla_uf', ['tnr_ef', 'tnr_em'], 'Taxa de não', 'Taxa de não por UF - 2016')"
      ],
      "metadata": {
        "colab": {
          "base_uri": "https://localhost:8080/",
          "height": 411
        },
        "id": "pIVCplP_RRrS",
        "outputId": "d6475a06-5e1b-443a-86b1-a5444c6f70a5"
      },
      "execution_count": 43,
      "outputs": [
        {
          "output_type": "display_data",
          "data": {
            "text/plain": [
              "<Figure size 720x432 with 1 Axes>"
            ],
            "image/png": "[encoded data removed]"
          },
          "metadata": {
            "needs_background": "light"
          }
        }
      ]
    },
    {
      "cell_type": "code",
      "source": [
        "cols = ['sigla_uf', 'tnr_ef', 'tnr_em']\n",
        "plotar_barras_grupos_generico(educacao_ufs_validos_2019[cols], 'sigla_uf', ['tnr_ef', 'tnr_em'], 'Taxa de não', 'Taxa de não por UF - 2019')"
      ],
      "metadata": {
        "colab": {
          "base_uri": "https://localhost:8080/",
          "height": 411
        },
        "id": "vq8XeZH7RUg9",
        "outputId": "c46e96fe-b0b9-42f7-f554-8af807346cbe"
      },
      "execution_count": 44,
      "outputs": [
        {
          "output_type": "display_data",
          "data": {
            "text/plain": [
              "<Figure size 720x432 with 1 Axes>"
            ],
            "image/png": "[encoded data removed]"
          },
          "metadata": {
            "needs_background": "light"
          }
        }
      ]
    },
    {
      "cell_type": "code",
      "source": [
        "# Variação entre os anos geral\n",
        "colunas = ['tnr_ef', 'tnr_em']\n",
        "\n",
        "print('--- Geral ---')\n",
        "sum_2013 = educacao_ufs_validos_2013[colunas].sum().sum()\n",
        "sum_2016 = educacao_ufs_validos_2016[colunas].sum().sum()\n",
        "sum_2019 = educacao_ufs_validos_2019[colunas].sum().sum()\n",
        "\n",
        "print(sum_2013)\n",
        "print(sum_2016)\n",
        "print(sum_2019)\n",
        "\n",
        "print(f'Variação taxa de não entre 2013 e 2016: {sum_2016/sum_2013*100-100}%')\n",
        "print(f'Variação taxa de não entre 2016 e 2019: {sum_2019/sum_2016*100-100}%')\n",
        "\n",
        "# Variação entre os anos SP (maior)\n",
        "print('--- SP ---')\n",
        "sum_sp_2013 = float(educacao_ufs_validos_2013.loc[educacao_ufs_validos_2013['sigla_uf'] == 'SP'][colunas].sum().sum())\n",
        "sum_sp_2016 = float(educacao_ufs_validos_2016.loc[educacao_ufs_validos_2016['sigla_uf'] == 'SP'][colunas].sum().sum())\n",
        "sum_sp_2019 = float(educacao_ufs_validos_2019.loc[educacao_ufs_validos_2019['sigla_uf'] == 'SP'][colunas].sum().sum())\n",
        "\n",
        "print(sum_sp_2013)\n",
        "print(sum_sp_2016)\n",
        "print(sum_sp_2019)\n",
        "\n",
        "print(f'Variação taxa de não SP entre 2013 e 2016: {sum_sp_2016/sum_sp_2013*100-100}%')\n",
        "print(f'Variação taxa de não SP entre 2016 e 2019: {sum_sp_2019/sum_sp_2016*100-100}%')\n",
        "\n",
        "# Variação entre os anos PI (menor)\n",
        "print('--- PI ---')\n",
        "sum_pi_2013 = float(educacao_ufs_validos_2013.loc[educacao_ufs_validos_2013['sigla_uf'] == 'PI'][colunas].sum().sum())\n",
        "sum_pi_2016 = float(educacao_ufs_validos_2016.loc[educacao_ufs_validos_2016['sigla_uf'] == 'PI'][colunas].sum().sum())\n",
        "sum_pi_2019 = float(educacao_ufs_validos_2019.loc[educacao_ufs_validos_2019['sigla_uf'] == 'PI'][colunas].sum().sum())\n",
        "\n",
        "print(sum_pi_2013)\n",
        "print(sum_pi_2016)\n",
        "print(sum_pi_2019)\n",
        "\n",
        "print(f'Variação taxa de não PI entre 2013 e 2016: {sum_pi_2016/sum_pi_2013*100-100}%')\n",
        "print(f'Variação taxa de não PI entre 2016 e 2019: {sum_pi_2019/sum_pi_2016*100-100}%')"
      ],
      "metadata": {
        "colab": {
          "base_uri": "https://localhost:8080/"
        },
        "id": "Fd0lqqV90RPp",
        "outputId": "c7762cc7-5cde-4796-a6fb-9b137898721c"
      },
      "execution_count": 45,
      "outputs": [
        {
          "output_type": "stream",
          "name": "stdout",
          "text": [
            "--- Geral ---\n",
            "83.8\n",
            "94.4\n",
            "87.8\n",
            "Variação taxa de não entre 2013 e 2016: 12.649164677804308%\n",
            "Variação taxa de não entre 2016 e 2019: -6.991525423728817%\n",
            "--- SP ---\n",
            "3.5999999999999996\n",
            "3.3\n",
            "6.2\n",
            "Variação taxa de não SP entre 2013 e 2016: -8.333333333333329%\n",
            "Variação taxa de não SP entre 2016 e 2019: 87.87878787878788%\n",
            "--- PI ---\n",
            "6.9\n",
            "8.1\n",
            "6.4\n",
            "Variação taxa de não PI entre 2013 e 2016: 17.39130434782608%\n",
            "Variação taxa de não PI entre 2016 e 2019: -20.987654320987644%\n"
          ]
        }
      ]
    },
    {
      "cell_type": "markdown",
      "source": [
        "###Análise das dua maiores e menores taxas de não - EM"
      ],
      "metadata": {
        "id": "3TbqdY6xRidx"
      }
    },
    {
      "cell_type": "code",
      "source": [
        "cols1 = ['ano', 'tnr_ef', 'tnr_em']\n",
        "cols2 = ['tnr_ef', 'tnr_em']"
      ],
      "metadata": {
        "id": "DEhAnMKK8rit"
      },
      "execution_count": 46,
      "outputs": []
    },
    {
      "cell_type": "code",
      "source": [
        "plot_educacao_anos('RS', cols1, cols2, 'Taxa de não', 'Taxa de não RS por ano')"
      ],
      "metadata": {
        "colab": {
          "base_uri": "https://localhost:8080/",
          "height": 0
        },
        "id": "IKM14-AGRfK2",
        "outputId": "d1b8dc4f-03b7-4035-9127-ade938108805"
      },
      "execution_count": 47,
      "outputs": [
        {
          "output_type": "display_data",
          "data": {
            "text/plain": [
              "<Figure size 720x432 with 1 Axes>"
            ],
            "image/png": "[encoded data removed]"
          },
          "metadata": {
            "needs_background": "light"
          }
        }
      ]
    },
    {
      "cell_type": "code",
      "source": [
        "plot_educacao_anos('PR', cols1, cols2, 'Taxa de não', 'Taxa de não PR por ano')"
      ],
      "metadata": {
        "colab": {
          "base_uri": "https://localhost:8080/",
          "height": 0
        },
        "id": "1UGa64nUTQXo",
        "outputId": "41888587-2428-428c-91a5-22b9b3c35bd7"
      },
      "execution_count": 48,
      "outputs": [
        {
          "output_type": "display_data",
          "data": {
            "text/plain": [
              "<Figure size 720x432 with 1 Axes>"
            ],
            "image/png": "[encoded data removed]"
          },
          "metadata": {
            "needs_background": "light"
          }
        }
      ]
    },
    {
      "cell_type": "code",
      "source": [
        "plot_educacao_anos('MS', cols1, cols2, 'Taxa de não', 'Taxa de não MS por ano')"
      ],
      "metadata": {
        "colab": {
          "base_uri": "https://localhost:8080/",
          "height": 0
        },
        "id": "olGGdKXhTo-f",
        "outputId": "9459b31b-e0ac-4cb6-809b-a7d409aa7b8a"
      },
      "execution_count": 49,
      "outputs": [
        {
          "output_type": "display_data",
          "data": {
            "text/plain": [
              "<Figure size 720x432 with 1 Axes>"
            ],
            "image/png": "[encoded data removed]"
          },
          "metadata": {
            "needs_background": "light"
          }
        }
      ]
    },
    {
      "cell_type": "code",
      "source": [
        "plot_educacao_anos('ES', cols1, cols2, 'Taxa de não', 'Taxa de não ES por ano')"
      ],
      "metadata": {
        "colab": {
          "base_uri": "https://localhost:8080/",
          "height": 0
        },
        "id": "VS-U-Jw6Ts9b",
        "outputId": "1620a674-41ab-4a86-f130-e20ad9edc0a4"
      },
      "execution_count": 50,
      "outputs": [
        {
          "output_type": "display_data",
          "data": {
            "text/plain": [
              "<Figure size 720x432 with 1 Axes>"
            ],
            "image/png": "[encoded data removed]"
          },
          "metadata": {
            "needs_background": "light"
          }
        }
      ]
    },
    {
      "cell_type": "markdown",
      "source": [
        "###Taxa de aprovação por UF"
      ],
      "metadata": {
        "id": "Z3CvmhHHUFjs"
      }
    },
    {
      "cell_type": "code",
      "source": [
        "cols = ['sigla_uf', 'taxa_aprovacao_ef', 'taxa_aprovacao_em']\n",
        "plotar_barras_grupos_generico(educacao_ufs_validos_2013[cols], 'sigla_uf', ['taxa_aprovacao_ef', 'taxa_aprovacao_em'], 'Taxa de aprovação', 'Taxa de aprovação por UF - 2013')"
      ],
      "metadata": {
        "id": "d4qNHtBoUIJo",
        "colab": {
          "base_uri": "https://localhost:8080/",
          "height": 411
        },
        "outputId": "5c7eae77-f9f2-4a61-9dab-5ed6521f927f"
      },
      "execution_count": 51,
      "outputs": [
        {
          "output_type": "display_data",
          "data": {
            "text/plain": [
              "<Figure size 720x432 with 1 Axes>"
            ],
            "image/png": "[encoded data removed]"
          },
          "metadata": {
            "needs_background": "light"
          }
        }
      ]
    },
    {
      "cell_type": "code",
      "source": [
        "cols = ['sigla_uf', 'taxa_aprovacao_ef', 'taxa_aprovacao_em']\n",
        "plotar_barras_grupos_generico(educacao_ufs_validos_2016[cols], 'sigla_uf', ['taxa_aprovacao_ef', 'taxa_aprovacao_em'], 'Taxa de aprovação', 'Taxa de aprovação por UF - 2016')"
      ],
      "metadata": {
        "colab": {
          "base_uri": "https://localhost:8080/",
          "height": 411
        },
        "id": "X4-NZhvU8WFR",
        "outputId": "5bd0e250-271c-49cc-f6b9-2bc993d43921"
      },
      "execution_count": 52,
      "outputs": [
        {
          "output_type": "display_data",
          "data": {
            "text/plain": [
              "<Figure size 720x432 with 1 Axes>"
            ],
            "image/png": "[encoded data removed]"
          },
          "metadata": {
            "needs_background": "light"
          }
        }
      ]
    },
    {
      "cell_type": "code",
      "source": [
        "cols = ['sigla_uf', 'taxa_aprovacao_ef', 'taxa_aprovacao_em']\n",
        "plotar_barras_grupos_generico(educacao_ufs_validos_2019[cols], 'sigla_uf', ['taxa_aprovacao_ef', 'taxa_aprovacao_em'], 'Taxa de aprovação', 'Taxa de aprovação por UF - 2019')"
      ],
      "metadata": {
        "colab": {
          "base_uri": "https://localhost:8080/",
          "height": 411
        },
        "id": "Xnd0zXFz8Wgq",
        "outputId": "302ea09b-47f2-4e78-f6e2-61f0e47b0cd5"
      },
      "execution_count": 53,
      "outputs": [
        {
          "output_type": "display_data",
          "data": {
            "text/plain": [
              "<Figure size 720x432 with 1 Axes>"
            ],
            "image/png": "[encoded data removed]"
          },
          "metadata": {
            "needs_background": "light"
          }
        }
      ]
    },
    {
      "cell_type": "code",
      "source": [
        "# Variação entre os anos geral\n",
        "colunas = ['taxa_aprovacao_ef', 'taxa_aprovacao_em']\n",
        "\n",
        "print('--- Geral ---')\n",
        "sum_2013 = educacao_ufs_validos_2013[colunas].sum().sum()\n",
        "sum_2016 = educacao_ufs_validos_2016[colunas].sum().sum()\n",
        "sum_2019 = educacao_ufs_validos_2019[colunas].sum().sum()\n",
        "\n",
        "print(sum_2013)\n",
        "print(sum_2016)\n",
        "print(sum_2019)\n",
        "\n",
        "print(f'Variação taxa de aprovação entre 2013 e 2016: {sum_2016/sum_2013*100-100}%')\n",
        "print(f'Variação taxa de aprovação entre 2016 e 2019: {sum_2019/sum_2016*100-100}%')\n",
        "\n",
        "# Variação entre os anos SP (maior)\n",
        "print('--- SP ---')\n",
        "sum_sp_2013 = float(educacao_ufs_validos_2013.loc[educacao_ufs_validos_2013['sigla_uf'] == 'SP'][colunas].sum().sum())\n",
        "sum_sp_2016 = float(educacao_ufs_validos_2016.loc[educacao_ufs_validos_2016['sigla_uf'] == 'SP'][colunas].sum().sum())\n",
        "sum_sp_2019 = float(educacao_ufs_validos_2019.loc[educacao_ufs_validos_2019['sigla_uf'] == 'SP'][colunas].sum().sum())\n",
        "\n",
        "print(sum_sp_2013)\n",
        "print(sum_sp_2016)\n",
        "print(sum_sp_2019)\n",
        "\n",
        "print(f'Variação taxa de aprovação SP entre 2013 e 2016: {sum_sp_2016/sum_sp_2013*100-100}%')\n",
        "print(f'Variação taxa de aprovação SP entre 2016 e 2019: {sum_sp_2019/sum_sp_2016*100-100}%')\n",
        "\n",
        "# Variação entre os anos PI (menor)\n",
        "print('--- PI ---')\n",
        "sum_pi_2013 = float(educacao_ufs_validos_2013.loc[educacao_ufs_validos_2013['sigla_uf'] == 'PI'][colunas].sum().sum())\n",
        "sum_pi_2016 = float(educacao_ufs_validos_2016.loc[educacao_ufs_validos_2016['sigla_uf'] == 'PI'][colunas].sum().sum())\n",
        "sum_pi_2019 = float(educacao_ufs_validos_2019.loc[educacao_ufs_validos_2019['sigla_uf'] == 'PI'][colunas].sum().sum())\n",
        "\n",
        "print(sum_pi_2013)\n",
        "print(sum_pi_2016)\n",
        "print(sum_pi_2019)\n",
        "\n",
        "print(f'Variação taxa de aprovação PI entre 2013 e 2016: {sum_pi_2016/sum_pi_2013*100-100}%')\n",
        "print(f'Variação taxa de aprovação PI entre 2016 e 2019: {sum_pi_2019/sum_pi_2016*100-100}%')"
      ],
      "metadata": {
        "colab": {
          "base_uri": "https://localhost:8080/"
        },
        "id": "OUN8farXV0Oh",
        "outputId": "2fadd8a6-22c7-42ef-b20a-79f5e44a61a5"
      },
      "execution_count": 54,
      "outputs": [
        {
          "output_type": "stream",
          "name": "stdout",
          "text": [
            "--- Geral ---\n",
            "2500.8\n",
            "2542.8999999999996\n",
            "2673.0\n",
            "Variação taxa de aprovação entre 2013 e 2016: 1.6834612923864114%\n",
            "Variação taxa de aprovação entre 2016 e 2019: 5.116205906642037%\n",
            "--- SP ---\n",
            "178.9\n",
            "182.1\n",
            "189.8\n",
            "Variação taxa de aprovação SP entre 2013 e 2016: 1.7887087758524274%\n",
            "Variação taxa de aprovação SP entre 2016 e 2019: 4.228445908841309%\n",
            "--- PI ---\n",
            "162.5\n",
            "166.9\n",
            "176.5\n",
            "Variação taxa de aprovação PI entre 2013 e 2016: 2.7076923076923265%\n",
            "Variação taxa de aprovação PI entre 2016 e 2019: 5.751947273816654%\n"
          ]
        }
      ]
    },
    {
      "cell_type": "markdown",
      "source": [
        "###Análise das duas maiores e menores taxas de aprovação"
      ],
      "metadata": {
        "id": "tHSinVpWUMAa"
      }
    },
    {
      "cell_type": "code",
      "source": [
        "cols1 = ['ano', 'taxa_aprovacao_ef', 'taxa_aprovacao_em']\n",
        "cols2 = ['taxa_aprovacao_ef', 'taxa_aprovacao_em']"
      ],
      "metadata": {
        "id": "-Hute5YJUUfk"
      },
      "execution_count": 55,
      "outputs": []
    },
    {
      "cell_type": "code",
      "source": [
        "plot_educacao_anos('SP', cols1, cols2, 'Taxa de aprovação', 'Taxa de aprovação SP por ano')"
      ],
      "metadata": {
        "colab": {
          "base_uri": "https://localhost:8080/",
          "height": 419
        },
        "id": "WB0oNJYB-lzt",
        "outputId": "418f0565-ff9c-48ef-efa2-6fdcdb05398f"
      },
      "execution_count": 56,
      "outputs": [
        {
          "output_type": "display_data",
          "data": {
            "text/plain": [
              "<Figure size 720x432 with 1 Axes>"
            ],
            "image/png": "[encoded data removed]"
          },
          "metadata": {
            "needs_background": "light"
          }
        }
      ]
    },
    {
      "cell_type": "code",
      "source": [
        "plot_educacao_anos('PE', cols1, cols2, 'Taxa de aprovação', 'Taxa de aprovação PE por ano')"
      ],
      "metadata": {
        "colab": {
          "base_uri": "https://localhost:8080/",
          "height": 419
        },
        "id": "OTy9-Tnz-1EK",
        "outputId": "fbf9e5ea-3e40-4265-f3a3-a0a3d89ed739"
      },
      "execution_count": 57,
      "outputs": [
        {
          "output_type": "display_data",
          "data": {
            "text/plain": [
              "<Figure size 720x432 with 1 Axes>"
            ],
            "image/png": "[encoded data removed]"
          },
          "metadata": {
            "needs_background": "light"
          }
        }
      ]
    },
    {
      "cell_type": "code",
      "source": [
        "plot_educacao_anos('MT', cols1, cols2, 'Taxa de aprovação', 'Taxa de aprovação MT por ano')"
      ],
      "metadata": {
        "colab": {
          "base_uri": "https://localhost:8080/",
          "height": 419
        },
        "id": "lctasCyd-6tb",
        "outputId": "6c1f363c-9e5e-4b14-e7d3-7848e7b4b4fe"
      },
      "execution_count": 58,
      "outputs": [
        {
          "output_type": "display_data",
          "data": {
            "text/plain": [
              "<Figure size 720x432 with 1 Axes>"
            ],
            "image/png": "[encoded data removed]"
          },
          "metadata": {
            "needs_background": "light"
          }
        }
      ]
    },
    {
      "cell_type": "code",
      "source": [
        "plot_educacao_anos('PA', cols1, cols2, 'Taxa de aprovação', 'Taxa de aprovação PA por ano')"
      ],
      "metadata": {
        "colab": {
          "base_uri": "https://localhost:8080/",
          "height": 419
        },
        "id": "xKbk8FLe_C5p",
        "outputId": "1fa45426-b931-437c-f66d-00f78e249a42"
      },
      "execution_count": 59,
      "outputs": [
        {
          "output_type": "display_data",
          "data": {
            "text/plain": [
              "<Figure size 720x432 with 1 Axes>"
            ],
            "image/png": "[encoded data removed]"
          },
          "metadata": {
            "needs_background": "light"
          }
        }
      ]
    },
    {
      "cell_type": "markdown",
      "source": [
        "###Taxa de reprovação por UF"
      ],
      "metadata": {
        "id": "cPhaGe16UIu5"
      }
    },
    {
      "cell_type": "code",
      "source": [
        "cols = ['sigla_uf', 'taxa_reprovacao_ef', 'taxa_reprovacao_em']\n",
        "plotar_barras_grupos_generico(educacao_ufs_validos_2013[cols], 'sigla_uf', ['taxa_reprovacao_ef', 'taxa_reprovacao_em'], 'Taxa de reprovação', 'Taxa de reprovação por UF - 2013')"
      ],
      "metadata": {
        "id": "XuG3Gc0rULR8",
        "colab": {
          "base_uri": "https://localhost:8080/",
          "height": 411
        },
        "outputId": "af311f6a-a56f-4fe9-885b-b9d36b801a2c"
      },
      "execution_count": 60,
      "outputs": [
        {
          "output_type": "display_data",
          "data": {
            "text/plain": [
              "<Figure size 720x432 with 1 Axes>"
            ],
            "image/png": "[encoded data removed]"
          },
          "metadata": {
            "needs_background": "light"
          }
        }
      ]
    },
    {
      "cell_type": "code",
      "source": [
        "cols = ['sigla_uf', 'taxa_reprovacao_ef', 'taxa_reprovacao_em']\n",
        "plotar_barras_grupos_generico(educacao_ufs_validos_2016[cols], 'sigla_uf', ['taxa_reprovacao_ef', 'taxa_reprovacao_em'], 'Taxa de reprovação', 'Taxa de reprovação por UF - 2016')"
      ],
      "metadata": {
        "colab": {
          "base_uri": "https://localhost:8080/",
          "height": 411
        },
        "id": "7h9nJEIh_aHN",
        "outputId": "33615ad4-5a2f-451d-fcf9-a68ba9866c0a"
      },
      "execution_count": 61,
      "outputs": [
        {
          "output_type": "display_data",
          "data": {
            "text/plain": [
              "<Figure size 720x432 with 1 Axes>"
            ],
            "image/png": "[encoded data removed]"
          },
          "metadata": {
            "needs_background": "light"
          }
        }
      ]
    },
    {
      "cell_type": "code",
      "source": [
        "cols = ['sigla_uf', 'taxa_reprovacao_ef', 'taxa_reprovacao_em']\n",
        "plotar_barras_grupos_generico(educacao_ufs_validos_2019[cols], 'sigla_uf', ['taxa_reprovacao_ef', 'taxa_reprovacao_em'], 'Taxa de reprovação', 'Taxa de reprovação por UF - 2019')"
      ],
      "metadata": {
        "colab": {
          "base_uri": "https://localhost:8080/",
          "height": 411
        },
        "id": "WqRbfo0A_eNC",
        "outputId": "f1fb1eba-257c-46fc-8888-1797a13162a4"
      },
      "execution_count": 62,
      "outputs": [
        {
          "output_type": "display_data",
          "data": {
            "text/plain": [
              "<Figure size 720x432 with 1 Axes>"
            ],
            "image/png": "[encoded data removed]"
          },
          "metadata": {
            "needs_background": "light"
          }
        }
      ]
    },
    {
      "cell_type": "code",
      "source": [
        "# Variação entre os anos geral\n",
        "colunas = ['taxa_reprovacao_ef', 'taxa_reprovacao_em']\n",
        "\n",
        "print('--- Geral ---')\n",
        "sum_2013 = educacao_ufs_validos_2013[colunas].sum().sum()\n",
        "sum_2016 = educacao_ufs_validos_2016[colunas].sum().sum()\n",
        "sum_2019 = educacao_ufs_validos_2019[colunas].sum().sum()\n",
        "\n",
        "print(sum_2013)\n",
        "print(sum_2016)\n",
        "print(sum_2019)\n",
        "\n",
        "print(f'Variação taxa de reprovação entre 2013 e 2016: {sum_2016/sum_2013*100-100}%')\n",
        "print(f'Variação taxa de reprovação entre 2016 e 2019: {sum_2019/sum_2016*100-100}%')\n",
        "\n",
        "# Variação entre os anos SP (maior)\n",
        "print('--- SP ---')\n",
        "sum_sp_2013 = float(educacao_ufs_validos_2013.loc[educacao_ufs_validos_2013['sigla_uf'] == 'SP'][colunas].sum().sum())\n",
        "sum_sp_2016 = float(educacao_ufs_validos_2016.loc[educacao_ufs_validos_2016['sigla_uf'] == 'SP'][colunas].sum().sum())\n",
        "sum_sp_2019 = float(educacao_ufs_validos_2019.loc[educacao_ufs_validos_2019['sigla_uf'] == 'SP'][colunas].sum().sum())\n",
        "\n",
        "print(sum_sp_2013)\n",
        "print(sum_sp_2016)\n",
        "print(sum_sp_2019)\n",
        "\n",
        "print(f'Variação taxa de reprovação SP entre 2013 e 2016: {sum_sp_2016/sum_sp_2013*100-100}%')\n",
        "print(f'Variação taxa de reprovação SP entre 2016 e 2019: {sum_sp_2019/sum_sp_2016*100-100}%')\n",
        "\n",
        "# Variação entre os anos PI (menor)\n",
        "print('--- PI ---')\n",
        "sum_pi_2013 = float(educacao_ufs_validos_2013.loc[educacao_ufs_validos_2013['sigla_uf'] == 'PI'][colunas].sum().sum())\n",
        "sum_pi_2016 = float(educacao_ufs_validos_2016.loc[educacao_ufs_validos_2016['sigla_uf'] == 'PI'][colunas].sum().sum())\n",
        "sum_pi_2019 = float(educacao_ufs_validos_2019.loc[educacao_ufs_validos_2019['sigla_uf'] == 'PI'][colunas].sum().sum())\n",
        "\n",
        "print(sum_pi_2013)\n",
        "print(sum_pi_2016)\n",
        "print(sum_pi_2019)\n",
        "\n",
        "print(f'Variação taxa de reprovação PI entre 2013 e 2016: {sum_pi_2016/sum_pi_2013*100-100}%')\n",
        "print(f'Variação taxa de reprovação PI entre 2016 e 2019: {sum_pi_2019/sum_pi_2016*100-100}%')"
      ],
      "metadata": {
        "colab": {
          "base_uri": "https://localhost:8080/"
        },
        "id": "aOZjuoQVWF1K",
        "outputId": "19d23a7f-53a3-4efb-cd03-c120fac100df"
      },
      "execution_count": 63,
      "outputs": [
        {
          "output_type": "stream",
          "name": "stdout",
          "text": [
            "--- Geral ---\n",
            "325.1\n",
            "317.5\n",
            "235.29999999999998\n",
            "Variação taxa de reprovação entre 2013 e 2016: -2.337742233159034%\n",
            "Variação taxa de reprovação entre 2016 e 2019: -25.88976377952757%\n",
            "--- SP ---\n",
            "15.5\n",
            "13.5\n",
            "7.800000000000001\n",
            "Variação taxa de reprovação SP entre 2013 e 2016: -12.903225806451616%\n",
            "Variação taxa de reprovação SP entre 2016 e 2019: -42.222222222222214%\n",
            "--- PI ---\n",
            "21.3\n",
            "20.3\n",
            "15.0\n",
            "Variação taxa de reprovação PI entre 2013 e 2016: -4.694835680751169%\n",
            "Variação taxa de reprovação PI entre 2016 e 2019: -26.108374384236456%\n"
          ]
        }
      ]
    },
    {
      "cell_type": "markdown",
      "source": [
        "###Análise das duas maiores e menores taxas de reprovação"
      ],
      "metadata": {
        "id": "lf_-LAObUVXd"
      }
    },
    {
      "cell_type": "code",
      "source": [
        "cols1 = ['ano', 'taxa_reprovacao_ef', 'taxa_reprovacao_em']\n",
        "cols2 = ['taxa_reprovacao_ef', 'taxa_reprovacao_em']"
      ],
      "metadata": {
        "id": "2DxAnS9FUrmQ"
      },
      "execution_count": 64,
      "outputs": []
    },
    {
      "cell_type": "code",
      "source": [
        "plot_educacao_anos('MT', cols1, cols2, 'Taxa de reprovação', 'Taxa de reprovação MT por ano')"
      ],
      "metadata": {
        "colab": {
          "base_uri": "https://localhost:8080/",
          "height": 0
        },
        "id": "I_VVnO4f_4js",
        "outputId": "3204dafd-c259-44d2-eeb5-be9daf6a6a2d"
      },
      "execution_count": 65,
      "outputs": [
        {
          "output_type": "display_data",
          "data": {
            "text/plain": [
              "<Figure size 720x432 with 1 Axes>"
            ],
            "image/png": "[encoded data removed]"
          },
          "metadata": {
            "needs_background": "light"
          }
        }
      ]
    },
    {
      "cell_type": "code",
      "source": [
        "plot_educacao_anos('RS', cols1, cols2, 'Taxa de reprovação', 'Taxa de reprovação RS por ano')"
      ],
      "metadata": {
        "colab": {
          "base_uri": "https://localhost:8080/",
          "height": 0
        },
        "id": "WTbr_VRiACT0",
        "outputId": "d89caf0a-abc0-4c5f-a9f7-9fcb2ce72f4f"
      },
      "execution_count": 66,
      "outputs": [
        {
          "output_type": "display_data",
          "data": {
            "text/plain": [
              "<Figure size 720x432 with 1 Axes>"
            ],
            "image/png": "[encoded data removed]"
          },
          "metadata": {
            "needs_background": "light"
          }
        }
      ]
    },
    {
      "cell_type": "code",
      "source": [
        "plot_educacao_anos('CE', cols1, cols2, 'Taxa de reprovação', 'Taxa de reprovação CE por ano')"
      ],
      "metadata": {
        "colab": {
          "base_uri": "https://localhost:8080/",
          "height": 0
        },
        "id": "DClu6s2KAI_C",
        "outputId": "54550fe7-bda9-4976-e3f0-d074de735f41"
      },
      "execution_count": 67,
      "outputs": [
        {
          "output_type": "display_data",
          "data": {
            "text/plain": [
              "<Figure size 720x432 with 1 Axes>"
            ],
            "image/png": "[encoded data removed]"
          },
          "metadata": {
            "needs_background": "light"
          }
        }
      ]
    },
    {
      "cell_type": "code",
      "source": [
        "plot_educacao_anos('MA', cols1, cols2, 'Taxa de reprovação', 'Taxa de reprovação MA por ano')"
      ],
      "metadata": {
        "colab": {
          "base_uri": "https://localhost:8080/",
          "height": 0
        },
        "id": "JZgy_Io0AJgw",
        "outputId": "9ec5b9f5-4936-4d05-90da-9b7c5eea62a6"
      },
      "execution_count": 68,
      "outputs": [
        {
          "output_type": "display_data",
          "data": {
            "text/plain": [
              "<Figure size 720x432 with 1 Axes>"
            ],
            "image/png": "[encoded data removed]"
          },
          "metadata": {
            "needs_background": "light"
          }
        }
      ]
    },
    {
      "cell_type": "markdown",
      "source": [
        "###Análise PIB X População (PIB per capita)"
      ],
      "metadata": {
        "id": "XRpc7NKfPcwY"
      }
    },
    {
      "cell_type": "code",
      "source": [
        "cols = ['ano', 'sigla_uf', 'pib', 'populacao', 'pea', 'pib_per_capita']\n",
        "pib_per_capita_2013 = pd.DataFrame(columns=cols)\n",
        "\n",
        "for uf in pibs_ufs_validos_2013['sigla_uf']:\n",
        "  pib_uf = pibs_ufs_validos_2013.loc[pibs_ufs_validos_2013['sigla_uf'] == str(uf)]\n",
        "  pop_uf = populacao_ufs_validos_2013.loc[populacao_ufs_validos_2013['sigla_uf'] == str(uf)]\n",
        "  ppc = pib_uf['pib'].values[0]/pop_uf['populacao'].values[0]\n",
        "  pib_per_capita_2013 = pib_per_capita_2013.append({'ano': 2013, 'sigla_uf': uf, 'pib': pib_uf['pib'].values[0], 'populacao': pop_uf['populacao'].values[0], 'pea': pop_uf['populacao_economicamente_ativa'].values[0], 'pib_per_capita': ppc}, ignore_index=True)\n",
        "\n",
        "# display(pib_per_capita_2013)\n",
        "plot_grafico_barras_normal(pib_per_capita_2013['sigla_uf'], pib_per_capita_2013['pib_per_capita'], 'UFs', 'PIB per capita', 'PIB per capita por UF - 2013')"
      ],
      "metadata": {
        "colab": {
          "base_uri": "https://localhost:8080/",
          "height": 295
        },
        "id": "gfQ78bY4P5Eq",
        "outputId": "06bdd920-a8ce-4af1-f887-3b3f933ead33"
      },
      "execution_count": 69,
      "outputs": [
        {
          "output_type": "display_data",
          "data": {
            "text/plain": [
              "<Figure size 432x288 with 1 Axes>"
            ],
            "image/png": "[encoded data removed]"
          },
          "metadata": {
            "needs_background": "light"
          }
        }
      ]
    },
    {
      "cell_type": "code",
      "source": [
        "cols = ['ano', 'sigla_uf', 'pib', 'populacao', 'pea' 'pib_per_capita']\n",
        "pib_per_capita_2016 = pd.DataFrame(columns=cols)\n",
        "\n",
        "for uf in pibs_ufs_validos_2016['sigla_uf']:\n",
        "  pib_uf = pibs_ufs_validos_2016.loc[pibs_ufs_validos_2016['sigla_uf'] == str(uf)]\n",
        "  pop_uf = populacao_ufs_validos_2016.loc[populacao_ufs_validos_2016['sigla_uf'] == str(uf)]\n",
        "  ppc = pib_uf['pib'].values[0]/pop_uf['populacao'].values[0]\n",
        "  pib_per_capita_2016 = pib_per_capita_2016.append({'ano': 2016, 'sigla_uf': uf, 'pib': pib_uf['pib'].values[0], 'populacao': pop_uf['populacao'].values[0], 'pea': pop_uf['populacao_economicamente_ativa'].values[0], 'pib_per_capita': ppc}, ignore_index=True)\n",
        "\n",
        "# display(pib_per_capita_2016)\n",
        "plot_grafico_barras_normal(pib_per_capita_2016['sigla_uf'], pib_per_capita_2016['pib_per_capita'], 'UFs', 'PIB per capita', 'PIB per capita por UF - 2016')"
      ],
      "metadata": {
        "colab": {
          "base_uri": "https://localhost:8080/",
          "height": 295
        },
        "id": "MOY1Z4D2Z16o",
        "outputId": "1a32276c-d61e-4f9f-f027-881699b08614"
      },
      "execution_count": 70,
      "outputs": [
        {
          "output_type": "display_data",
          "data": {
            "text/plain": [
              "<Figure size 432x288 with 1 Axes>"
            ],
            "image/png": "[encoded data removed]"
          },
          "metadata": {
            "needs_background": "light"
          }
        }
      ]
    },
    {
      "cell_type": "code",
      "source": [
        "cols = ['ano', 'sigla_uf', 'pib', 'populacao', 'pea', 'pib_per_capita']\n",
        "pib_per_capita_2019 = pd.DataFrame(columns=cols)\n",
        "\n",
        "for uf in pibs_ufs_validos_2019['sigla_uf']:\n",
        "  pib_uf = pibs_ufs_validos_2019.loc[pibs_ufs_validos_2019['sigla_uf'] == str(uf)]\n",
        "  pop_uf = populacao_ufs_validos_2019.loc[populacao_ufs_validos_2019['sigla_uf'] == str(uf)]\n",
        "  ppc = pib_uf['pib'].values[0]/pop_uf['populacao'].values[0]\n",
        "  pib_per_capita_2019 = pib_per_capita_2019.append({'ano': 2019, 'sigla_uf': uf, 'pib': pib_uf['pib'].values[0], 'populacao': pop_uf['populacao'].values[0], 'pea': pop_uf['populacao_economicamente_ativa'].values[0], 'pib_per_capita': ppc}, ignore_index=True)\n",
        "\n",
        "display(pib_per_capita_2019)\n",
        "plot_grafico_barras_normal(pib_per_capita_2019['sigla_uf'], pib_per_capita_2019['pib_per_capita'], 'UFs', 'PIB per capita', 'PIB per capita por UF - 2019')"
      ],
      "metadata": {
        "colab": {
          "base_uri": "https://localhost:8080/",
          "height": 798
        },
        "id": "y66iSmEqZ2ke",
        "outputId": "214fa453-b3ee-4b54-bf97-0840b02af3c5"
      },
      "execution_count": 71,
      "outputs": [
        {
          "output_type": "display_data",
          "data": {
            "text/plain": [
              "     ano sigla_uf            pib populacao      pea  pib_per_capita\n",
              "0   2019       PA   178376983522   8602865   6546.0    20734.602196\n",
              "1   2019       MA    97339938019   7075181   5347.0    13757.943156\n",
              "2   2019       PI    52780784685   3273227   2591.0    16124.999789\n",
              "3   2019       CE   163575327180   9132078   7297.0    17912.169298\n",
              "4   2019       PE   197853378471   9557071   7624.0    20702.302878\n",
              "5   2019       AL    58963728728   3337357   2601.0    17667.791827\n",
              "6   2019       MG   651872684368  21168791  17383.0    30794.044136\n",
              "7   2019       ES   137345595431   4018650   3233.0    34177.048370\n",
              "8   2019       RJ   779927917084  17264943  14530.0    45174.080047\n",
              "9   2019       SP  2348338000290  45919049  37580.0    51140.823938\n",
              "10  2019       PR   466377036431  11433957   9217.0    40788.769490\n",
              "11  2019       SC   323263857398   7164788   5899.0    45118.412073\n",
              "12  2019       RS   482464177479  11377239   9396.0    42406.086176\n",
              "13  2019       MS   106943246416   2778986   2140.0    38482.830218\n",
              "14  2019       MT   142122027969   3484466   2667.0    40787.319483"
            ],
            "text/html": [
              "\n",
              "  <div id=\"df-a56037ad-9471-4dd6-a3f3-6b555ada1212\">\n",
              "    <div class=\"colab-df-container\">\n",
              "      <div>\n",
              "<style scoped>\n",
              "    .dataframe tbody tr th:only-of-type {\n",
              "        vertical-align: middle;\n",
              "    }\n",
              "\n",
              "    .dataframe tbody tr th {\n",
              "        vertical-align: top;\n",
              "    }\n",
              "\n",
              "    .dataframe thead th {\n",
              "        text-align: right;\n",
              "    }\n",
              "</style>\n",
              "<table border=\"1\" class=\"dataframe\">\n",
              "  <thead>\n",
              "    <tr style=\"text-align: right;\">\n",
              "      <th></th>\n",
              "      <th>ano</th>\n",
              "      <th>sigla_uf</th>\n",
              "      <th>pib</th>\n",
              "      <th>populacao</th>\n",
              "      <th>pea</th>\n",
              "      <th>pib_per_capita</th>\n",
              "    </tr>\n",
              "  </thead>\n",
              "  <tbody>\n",
              "    <tr>\n",
              "      <th>0</th>\n",
              "      <td>2019</td>\n",
              "      <td>PA</td>\n",
              "      <td>178376983522</td>\n",
              "      <td>8602865</td>\n",
              "      <td>6546.0</td>\n",
              "      <td>20734.602196</td>\n",
              "    </tr>\n",
              "    <tr>\n",
              "      <th>1</th>\n",
              "      <td>2019</td>\n",
              "      <td>MA</td>\n",
              "      <td>97339938019</td>\n",
              "      <td>7075181</td>\n",
              "      <td>5347.0</td>\n",
              "      <td>13757.943156</td>\n",
              "    </tr>\n",
              "    <tr>\n",
              "      <th>2</th>\n",
              "      <td>2019</td>\n",
              "      <td>PI</td>\n",
              "      <td>52780784685</td>\n",
              "      <td>3273227</td>\n",
              "      <td>2591.0</td>\n",
              "      <td>16124.999789</td>\n",
              "    </tr>\n",
              "    <tr>\n",
              "      <th>3</th>\n",
              "      <td>2019</td>\n",
              "      <td>CE</td>\n",
              "      <td>163575327180</td>\n",
              "      <td>9132078</td>\n",
              "      <td>7297.0</td>\n",
              "      <td>17912.169298</td>\n",
              "    </tr>\n",
              "    <tr>\n",
              "      <th>4</th>\n",
              "      <td>2019</td>\n",
              "      <td>PE</td>\n",
              "      <td>197853378471</td>\n",
              "      <td>9557071</td>\n",
              "      <td>7624.0</td>\n",
              "      <td>20702.302878</td>\n",
              "    </tr>\n",
              "    <tr>\n",
              "      <th>5</th>\n",
              "      <td>2019</td>\n",
              "      <td>AL</td>\n",
              "      <td>58963728728</td>\n",
              "      <td>3337357</td>\n",
              "      <td>2601.0</td>\n",
              "      <td>17667.791827</td>\n",
              "    </tr>\n",
              "    <tr>\n",
              "      <th>6</th>\n",
              "      <td>2019</td>\n",
              "      <td>MG</td>\n",
              "      <td>651872684368</td>\n",
              "      <td>21168791</td>\n",
              "      <td>17383.0</td>\n",
              "      <td>30794.044136</td>\n",
              "    </tr>\n",
              "    <tr>\n",
              "      <th>7</th>\n",
              "      <td>2019</td>\n",
              "      <td>ES</td>\n",
              "      <td>137345595431</td>\n",
              "      <td>4018650</td>\n",
              "      <td>3233.0</td>\n",
              "      <td>34177.048370</td>\n",
              "    </tr>\n",
              "    <tr>\n",
              "      <th>8</th>\n",
              "      <td>2019</td>\n",
              "      <td>RJ</td>\n",
              "      <td>779927917084</td>\n",
              "      <td>17264943</td>\n",
              "      <td>14530.0</td>\n",
              "      <td>45174.080047</td>\n",
              "    </tr>\n",
              "    <tr>\n",
              "      <th>9</th>\n",
              "      <td>2019</td>\n",
              "      <td>SP</td>\n",
              "      <td>2348338000290</td>\n",
              "      <td>45919049</td>\n",
              "      <td>37580.0</td>\n",
              "      <td>51140.823938</td>\n",
              "    </tr>\n",
              "    <tr>\n",
              "      <th>10</th>\n",
              "      <td>2019</td>\n",
              "      <td>PR</td>\n",
              "      <td>466377036431</td>\n",
              "      <td>11433957</td>\n",
              "      <td>9217.0</td>\n",
              "      <td>40788.769490</td>\n",
              "    </tr>\n",
              "    <tr>\n",
              "      <th>11</th>\n",
              "      <td>2019</td>\n",
              "      <td>SC</td>\n",
              "      <td>323263857398</td>\n",
              "      <td>7164788</td>\n",
              "      <td>5899.0</td>\n",
              "      <td>45118.412073</td>\n",
              "    </tr>\n",
              "    <tr>\n",
              "      <th>12</th>\n",
              "      <td>2019</td>\n",
              "      <td>RS</td>\n",
              "      <td>482464177479</td>\n",
              "      <td>11377239</td>\n",
              "      <td>9396.0</td>\n",
              "      <td>42406.086176</td>\n",
              "    </tr>\n",
              "    <tr>\n",
              "      <th>13</th>\n",
              "      <td>2019</td>\n",
              "      <td>MS</td>\n",
              "      <td>106943246416</td>\n",
              "      <td>2778986</td>\n",
              "      <td>2140.0</td>\n",
              "      <td>38482.830218</td>\n",
              "    </tr>\n",
              "    <tr>\n",
              "      <th>14</th>\n",
              "      <td>2019</td>\n",
              "      <td>MT</td>\n",
              "      <td>142122027969</td>\n",
              "      <td>3484466</td>\n",
              "      <td>2667.0</td>\n",
              "      <td>40787.319483</td>\n",
              "    </tr>\n",
              "  </tbody>\n",
              "</table>\n",
              "</div>\n",
              "      <button class=\"colab-df-convert\" onclick=\"convertToInteractive('df-a56037ad-9471-4dd6-a3f3-6b555ada1212')\"\n",
              "              title=\"Convert this dataframe to an interactive table.\"\n",
              "              style=\"display:none;\">\n",
              "        \n",
              "  <svg xmlns=\"http://www.w3.org/2000/svg\" height=\"24px\"viewBox=\"0 0 24 24\"\n",
              "       width=\"24px\">\n",
              "    <path d=\"M0 0h24v24H0V0z\" fill=\"none\"/>\n",
              "    <path d=\"M18.56 5.44l.94 2.06.94-2.06 2.06-.94-2.06-.94-.94-2.06-.94 2.06-2.06.94zm-11 1L8.5 8.5l.94-2.06 2.06-.94-2.06-.94L8.5 2.5l-.94 2.06-2.06.94zm10 10l.94 2.06.94-2.06 2.06-.94-2.06-.94-.94-2.06-.94 2.06-2.06.94z\"/><path d=\"M17.41 7.96l-1.37-1.37c-.4-.4-.92-.59-1.43-.59-.52 0-1.04.2-1.43.59L10.3 9.45l-7.72 7.72c-.78.78-.78 2.05 0 2.83L4 21.41c.39.39.9.59 1.41.59.51 0 1.02-.2 1.41-.59l7.78-7.78 2.81-2.81c.8-.78.8-2.07 0-2.86zM5.41 20L4 18.59l7.72-7.72 1.47 1.35L5.41 20z\"/>\n",
              "  </svg>\n",
              "      </button>\n",
              "      \n",
              "  <style>\n",
              "    .colab-df-container {\n",
              "      display:flex;\n",
              "      flex-wrap:wrap;\n",
              "      gap: 12px;\n",
              "    }\n",
              "\n",
              "    .colab-df-convert {\n",
              "      background-color: #E8F0FE;\n",
              "      border: none;\n",
              "      border-radius: 50%;\n",
              "      cursor: pointer;\n",
              "      display: none;\n",
              "      fill: #1967D2;\n",
              "      height: 32px;\n",
              "      padding: 0 0 0 0;\n",
              "      width: 32px;\n",
              "    }\n",
              "\n",
              "    .colab-df-convert:hover {\n",
              "      background-color: #E2EBFA;\n",
              "      box-shadow: 0px 1px 2px rgba(60, 64, 67, 0.3), 0px 1px 3px 1px rgba(60, 64, 67, 0.15);\n",
              "      fill: #174EA6;\n",
              "    }\n",
              "\n",
              "    [theme=dark] .colab-df-convert {\n",
              "      background-color: #3B4455;\n",
              "      fill: #D2E3FC;\n",
              "    }\n",
              "\n",
              "    [theme=dark] .colab-df-convert:hover {\n",
              "      background-color: #434B5C;\n",
              "      box-shadow: 0px 1px 3px 1px rgba(0, 0, 0, 0.15);\n",
              "      filter: drop-shadow(0px 1px 2px rgba(0, 0, 0, 0.3));\n",
              "      fill: #FFFFFF;\n",
              "    }\n",
              "  </style>\n",
              "\n",
              "      <script>\n",
              "        const buttonEl =\n",
              "          document.querySelector('#df-a56037ad-9471-4dd6-a3f3-6b555ada1212 button.colab-df-convert');\n",
              "        buttonEl.style.display =\n",
              "          google.colab.kernel.accessAllowed ? 'block' : 'none';\n",
              "\n",
              "        async function convertToInteractive(key) {\n",
              "          const element = document.querySelector('#df-a56037ad-9471-4dd6-a3f3-6b555ada1212');\n",
              "          const dataTable =\n",
              "            await google.colab.kernel.invokeFunction('convertToInteractive',\n",
              "                                                     [key], {});\n",
              "          if (!dataTable) return;\n",
              "\n",
              "          const docLinkHtml = 'Like what you see? Visit the ' +\n",
              "            '<a target=\"_blank\" href=https://colab.research.google.com/notebooks/data_table.ipynb>data table notebook</a>'\n",
              "            + ' to learn more about interactive tables.';\n",
              "          element.innerHTML = '';\n",
              "          dataTable['output_type'] = 'display_data';\n",
              "          await google.colab.output.renderOutput(dataTable, element);\n",
              "          const docLink = document.createElement('div');\n",
              "          docLink.innerHTML = docLinkHtml;\n",
              "          element.appendChild(docLink);\n",
              "        }\n",
              "      </script>\n",
              "    </div>\n",
              "  </div>\n",
              "  "
            ]
          },
          "metadata": {}
        },
        {
          "output_type": "display_data",
          "data": {
            "text/plain": [
              "<Figure size 432x288 with 1 Axes>"
            ],
            "image/png": "[encoded data removed]"
          },
          "metadata": {
            "needs_background": "light"
          }
        }
      ]
    },
    {
      "cell_type": "code",
      "source": [
        "# \n",
        "sum_ppc_2013 = pib_per_capita_2013[['sigla_uf', 'pib_per_capita']]\n",
        "sum_ppc_2016 = pib_per_capita_2016[['sigla_uf', 'pib_per_capita']]\n",
        "sum_ppc_2019 = pib_per_capita_2019[['sigla_uf', 'pib_per_capita']]\n",
        "\n",
        "siglas = [x for x in sum_ppc_2013['sigla_uf']]\n",
        "\n",
        "# 2013\n",
        "media_2013 = sum_ppc_2013['pib_per_capita'].describe()['mean']\n",
        "abaixo_media_2013 = {}\n",
        "acima_media_2013 = {}\n",
        "i = 0\n",
        "for p in sum_ppc_2013['pib_per_capita']:\n",
        "  if p < media_2013:\n",
        "    abaixo_media_2013[siglas[i]] = p\n",
        "  else:\n",
        "    acima_media_2013[siglas[i]] = p\n",
        "  i+=1\n",
        "\n",
        "keys_abam_2013 = abaixo_media_2013.keys()\n",
        "keys_acim_2013 = acima_media_2013.keys()\n",
        "\n",
        "print('Média do PIB per capita 2013:', media_2013)\n",
        "print('Abaixo da média 2013:', keys_abam_2013)\n",
        "print('Acima da média 2013:', keys_acim_2013)\n",
        "\n",
        "# 2016\n",
        "media_2016 = sum_ppc_2016['pib_per_capita'].describe()['mean']\n",
        "abaixo_media_2016 = {}\n",
        "acima_media_2016 = {}\n",
        "i = 0\n",
        "for p in sum_ppc_2016['pib_per_capita']:\n",
        "  if p < media_2016:\n",
        "    abaixo_media_2016[siglas[i]] = p\n",
        "  else:\n",
        "    acima_media_2016[siglas[i]] = p\n",
        "  i+=1\n",
        "\n",
        "keys_abam_2016 = abaixo_media_2016.keys()\n",
        "keys_acim_2016 = acima_media_2016.keys()\n",
        "\n",
        "print('Média do PIB per capita 2016:', media_2016)\n",
        "print('Abaixo da média 2016:', keys_abam_2016)\n",
        "print('Acima da média 2016:', keys_acim_2016)\n",
        "\n",
        "# 2019\n",
        "media_2019 = sum_ppc_2019['pib_per_capita'].describe()['mean']\n",
        "abaixo_media_2019 = {}\n",
        "acima_media_2019 = {}\n",
        "i = 0\n",
        "for p in sum_ppc_2019['pib_per_capita']:\n",
        "  if p < media_2019:\n",
        "    abaixo_media_2019[siglas[i]] = p\n",
        "  else:\n",
        "    acima_media_2019[siglas[i]] = p\n",
        "  i+=1\n",
        "\n",
        "keys_abam_2019 = abaixo_media_2019.keys()\n",
        "keys_acim_2019 = acima_media_2019.keys()\n",
        "\n",
        "print('Média do PIB per capita 2019:', media_2019)\n",
        "print('Abaixo da média 2019:', keys_abam_2019)\n",
        "print('Acima da média 2019:', keys_acim_2019)"
      ],
      "metadata": {
        "colab": {
          "base_uri": "https://localhost:8080/"
        },
        "id": "fyvPlPcegR5C",
        "outputId": "16ad60fc-4d42-49d0-89c7-9a28074533cd"
      },
      "execution_count": 72,
      "outputs": [
        {
          "output_type": "stream",
          "name": "stdout",
          "text": [
            "Média do PIB per capita 2013: 23543.457548983763\n",
            "Abaixo da média 2013: dict_keys(['PA', 'MA', 'PI', 'CE', 'PE', 'AL'])\n",
            "Acima da média 2013: dict_keys(['MG', 'ES', 'RJ', 'SP', 'PR', 'SC', 'RS', 'MS', 'MT'])\n",
            "Média do PIB per capita 2016: 27210.253712379006\n",
            "Abaixo da média 2016: dict_keys(['PA', 'MA', 'PI', 'CE', 'PE', 'AL', 'MG'])\n",
            "Acima da média 2016: dict_keys(['ES', 'RJ', 'SP', 'PR', 'SC', 'RS', 'MS', 'MT'])\n",
            "Média do PIB per capita 2019: 31717.948204991062\n",
            "Abaixo da média 2019: dict_keys(['PA', 'MA', 'PI', 'CE', 'PE', 'AL', 'MG'])\n",
            "Acima da média 2019: dict_keys(['ES', 'RJ', 'SP', 'PR', 'SC', 'RS', 'MS', 'MT'])\n"
          ]
        }
      ]
    },
    {
      "cell_type": "code",
      "source": [
        "abaixo_media_2013 = abaixo_media_2013.keys()\n",
        "acima_media_2013 = acima_media_2013.keys()\n",
        "\n",
        "# atribuindo valores 0 para estados abaixo da média e 1 para estados acima da média\n",
        "abaixo_media_2013_values = [0]*len(abaixo_media_2013)\n",
        "acima_media_2013_values = [1]*len(acima_media_2013)\n",
        "\n",
        "plt.scatter(abaixo_media_2013, abaixo_media_2013_values, c='red', label='Abaixo da média 2013')\n",
        "plt.scatter(acima_media_2013, acima_media_2013_values, c='blue', label='Acima da média 2013')\n",
        "\n",
        "# configuração do título e dos eixos\n",
        "plt.title('Dispersão de PIBs per capita')\n",
        "plt.xlabel('Siglas dos estados')\n",
        "plt.ylabel('Valores (0 ou 1)')\n",
        "\n",
        "# adicionando legendas\n",
        "plt.legend()\n",
        "\n",
        "# exibição do gráfico\n",
        "plt.show()"
      ],
      "metadata": {
        "colab": {
          "base_uri": "https://localhost:8080/",
          "height": 295
        },
        "id": "_I8gdC7Iz1Ch",
        "outputId": "fb5be1f1-2230-4cea-abc5-20d67f862180"
      },
      "execution_count": 73,
      "outputs": [
        {
          "output_type": "display_data",
          "data": {
            "text/plain": [
              "<Figure size 432x288 with 1 Axes>"
            ],
            "image/png": "[encoded data removed]"
          },
          "metadata": {
            "needs_background": "light"
          }
        }
      ]
    },
    {
      "cell_type": "code",
      "source": [
        "abaixo_media_2016 = abaixo_media_2016.keys()\n",
        "acima_media_2016 = acima_media_2016.keys()\n",
        "\n",
        "# atribuindo valores 0 para estados abaixo da média e 1 para estados acima da média\n",
        "abaixo_media_2016_values = [0]*len(abaixo_media_2016)\n",
        "acima_media_2016_values = [1]*len(acima_media_2016)\n",
        "\n",
        "plt.scatter(abaixo_media_2016, abaixo_media_2016_values, c='red', label='Abaixo da média 2016')\n",
        "plt.scatter(acima_media_2016, acima_media_2016_values, c='blue', label='Acima da média 2016')\n",
        "\n",
        "# configuração do título e dos eixos\n",
        "plt.title('Dispersão de PIBs per capita')\n",
        "plt.xlabel('Siglas dos estados')\n",
        "plt.ylabel('Valores (0 ou 1)')\n",
        "\n",
        "# adicionando legendas\n",
        "plt.legend()\n",
        "\n",
        "# exibição do gráfico\n",
        "plt.show()"
      ],
      "metadata": {
        "colab": {
          "base_uri": "https://localhost:8080/",
          "height": 295
        },
        "id": "5yBisnsQYqBJ",
        "outputId": "107507b9-8cba-428c-8557-205bc90fe6a6"
      },
      "execution_count": 74,
      "outputs": [
        {
          "output_type": "display_data",
          "data": {
            "text/plain": [
              "<Figure size 432x288 with 1 Axes>"
            ],
            "image/png": "[encoded data removed]"
          },
          "metadata": {
            "needs_background": "light"
          }
        }
      ]
    },
    {
      "cell_type": "code",
      "source": [
        "pib_per_capita_2013"
      ],
      "metadata": {
        "colab": {
          "base_uri": "https://localhost:8080/",
          "height": 520
        },
        "id": "6NW7oIrrcP5I",
        "outputId": "8fac7eee-2038-4f71-9c1d-9b3399466b66"
      },
      "execution_count": 75,
      "outputs": [
        {
          "output_type": "execute_result",
          "data": {
            "text/plain": [
              "     ano sigla_uf            pib populacao      pea  pib_per_capita\n",
              "0   2013       PA   121224846594   7969654   5844.0    15210.804207\n",
              "1   2013       MA    67694844541   6794301   4922.0     9963.474468\n",
              "2   2013       PI    31283593019   3184166   2483.0     9824.736844\n",
              "3   2013       CE   109036556353   8778576   6833.0    12420.756664\n",
              "4   2013       PE   141150251796   9208550   7120.0    15328.173469\n",
              "5   2013       AL    37282529122   3300935   2426.0    11294.535979\n",
              "6   2013       MG   488004903011  20593356  16399.0    23697.201321\n",
              "7   2013       ES   117274346943   3839366   2996.0    30545.237662\n",
              "8   2013       RJ   628226069362  16369179  13572.0    38378.593658\n",
              "9   2013       SP  1715238416566  43663669  35373.0    39282.965812\n",
              "10  2013       PR   333481152162  10997465   8694.0    30323.456557\n",
              "11  2013       SC   214512241571   6634254   5371.0    32334.041110\n",
              "12  2013       RS   332292726085  11164043   9075.0    29764.550897\n",
              "13  2013       MS    69203201262   2587269   1935.0    26747.586456\n",
              "14  2013       MT    89212918588   3182113   2490.0    28035.748130"
            ],
            "text/html": [
              "\n",
              "  <div id=\"df-273155ce-322d-443b-8459-20d4aa594f8d\">\n",
              "    <div class=\"colab-df-container\">\n",
              "      <div>\n",
              "<style scoped>\n",
              "    .dataframe tbody tr th:only-of-type {\n",
              "        vertical-align: middle;\n",
              "    }\n",
              "\n",
              "    .dataframe tbody tr th {\n",
              "        vertical-align: top;\n",
              "    }\n",
              "\n",
              "    .dataframe thead th {\n",
              "        text-align: right;\n",
              "    }\n",
              "</style>\n",
              "<table border=\"1\" class=\"dataframe\">\n",
              "  <thead>\n",
              "    <tr style=\"text-align: right;\">\n",
              "      <th></th>\n",
              "      <th>ano</th>\n",
              "      <th>sigla_uf</th>\n",
              "      <th>pib</th>\n",
              "      <th>populacao</th>\n",
              "      <th>pea</th>\n",
              "      <th>pib_per_capita</th>\n",
              "    </tr>\n",
              "  </thead>\n",
              "  <tbody>\n",
              "    <tr>\n",
              "      <th>0</th>\n",
              "      <td>2013</td>\n",
              "      <td>PA</td>\n",
              "      <td>121224846594</td>\n",
              "      <td>7969654</td>\n",
              "      <td>5844.0</td>\n",
              "      <td>15210.804207</td>\n",
              "    </tr>\n",
              "    <tr>\n",
              "      <th>1</th>\n",
              "      <td>2013</td>\n",
              "      <td>MA</td>\n",
              "      <td>67694844541</td>\n",
              "      <td>6794301</td>\n",
              "      <td>4922.0</td>\n",
              "      <td>9963.474468</td>\n",
              "    </tr>\n",
              "    <tr>\n",
              "      <th>2</th>\n",
              "      <td>2013</td>\n",
              "      <td>PI</td>\n",
              "      <td>31283593019</td>\n",
              "      <td>3184166</td>\n",
              "      <td>2483.0</td>\n",
              "      <td>9824.736844</td>\n",
              "    </tr>\n",
              "    <tr>\n",
              "      <th>3</th>\n",
              "      <td>2013</td>\n",
              "      <td>CE</td>\n",
              "      <td>109036556353</td>\n",
              "      <td>8778576</td>\n",
              "      <td>6833.0</td>\n",
              "      <td>12420.756664</td>\n",
              "    </tr>\n",
              "    <tr>\n",
              "      <th>4</th>\n",
              "      <td>2013</td>\n",
              "      <td>PE</td>\n",
              "      <td>141150251796</td>\n",
              "      <td>9208550</td>\n",
              "      <td>7120.0</td>\n",
              "      <td>15328.173469</td>\n",
              "    </tr>\n",
              "    <tr>\n",
              "      <th>5</th>\n",
              "      <td>2013</td>\n",
              "      <td>AL</td>\n",
              "      <td>37282529122</td>\n",
              "      <td>3300935</td>\n",
              "      <td>2426.0</td>\n",
              "      <td>11294.535979</td>\n",
              "    </tr>\n",
              "    <tr>\n",
              "      <th>6</th>\n",
              "      <td>2013</td>\n",
              "      <td>MG</td>\n",
              "      <td>488004903011</td>\n",
              "      <td>20593356</td>\n",
              "      <td>16399.0</td>\n",
              "      <td>23697.201321</td>\n",
              "    </tr>\n",
              "    <tr>\n",
              "      <th>7</th>\n",
              "      <td>2013</td>\n",
              "      <td>ES</td>\n",
              "      <td>117274346943</td>\n",
              "      <td>3839366</td>\n",
              "      <td>2996.0</td>\n",
              "      <td>30545.237662</td>\n",
              "    </tr>\n",
              "    <tr>\n",
              "      <th>8</th>\n",
              "      <td>2013</td>\n",
              "      <td>RJ</td>\n",
              "      <td>628226069362</td>\n",
              "      <td>16369179</td>\n",
              "      <td>13572.0</td>\n",
              "      <td>38378.593658</td>\n",
              "    </tr>\n",
              "    <tr>\n",
              "      <th>9</th>\n",
              "      <td>2013</td>\n",
              "      <td>SP</td>\n",
              "      <td>1715238416566</td>\n",
              "      <td>43663669</td>\n",
              "      <td>35373.0</td>\n",
              "      <td>39282.965812</td>\n",
              "    </tr>\n",
              "    <tr>\n",
              "      <th>10</th>\n",
              "      <td>2013</td>\n",
              "      <td>PR</td>\n",
              "      <td>333481152162</td>\n",
              "      <td>10997465</td>\n",
              "      <td>8694.0</td>\n",
              "      <td>30323.456557</td>\n",
              "    </tr>\n",
              "    <tr>\n",
              "      <th>11</th>\n",
              "      <td>2013</td>\n",
              "      <td>SC</td>\n",
              "      <td>214512241571</td>\n",
              "      <td>6634254</td>\n",
              "      <td>5371.0</td>\n",
              "      <td>32334.041110</td>\n",
              "    </tr>\n",
              "    <tr>\n",
              "      <th>12</th>\n",
              "      <td>2013</td>\n",
              "      <td>RS</td>\n",
              "      <td>332292726085</td>\n",
              "      <td>11164043</td>\n",
              "      <td>9075.0</td>\n",
              "      <td>29764.550897</td>\n",
              "    </tr>\n",
              "    <tr>\n",
              "      <th>13</th>\n",
              "      <td>2013</td>\n",
              "      <td>MS</td>\n",
              "      <td>69203201262</td>\n",
              "      <td>2587269</td>\n",
              "      <td>1935.0</td>\n",
              "      <td>26747.586456</td>\n",
              "    </tr>\n",
              "    <tr>\n",
              "      <th>14</th>\n",
              "      <td>2013</td>\n",
              "      <td>MT</td>\n",
              "      <td>89212918588</td>\n",
              "      <td>3182113</td>\n",
              "      <td>2490.0</td>\n",
              "      <td>28035.748130</td>\n",
              "    </tr>\n",
              "  </tbody>\n",
              "</table>\n",
              "</div>\n",
              "      <button class=\"colab-df-convert\" onclick=\"convertToInteractive('df-273155ce-322d-443b-8459-20d4aa594f8d')\"\n",
              "              title=\"Convert this dataframe to an interactive table.\"\n",
              "              style=\"display:none;\">\n",
              "        \n",
              "  <svg xmlns=\"http://www.w3.org/2000/svg\" height=\"24px\"viewBox=\"0 0 24 24\"\n",
              "       width=\"24px\">\n",
              "    <path d=\"M0 0h24v24H0V0z\" fill=\"none\"/>\n",
              "    <path d=\"M18.56 5.44l.94 2.06.94-2.06 2.06-.94-2.06-.94-.94-2.06-.94 2.06-2.06.94zm-11 1L8.5 8.5l.94-2.06 2.06-.94-2.06-.94L8.5 2.5l-.94 2.06-2.06.94zm10 10l.94 2.06.94-2.06 2.06-.94-2.06-.94-.94-2.06-.94 2.06-2.06.94z\"/><path d=\"M17.41 7.96l-1.37-1.37c-.4-.4-.92-.59-1.43-.59-.52 0-1.04.2-1.43.59L10.3 9.45l-7.72 7.72c-.78.78-.78 2.05 0 2.83L4 21.41c.39.39.9.59 1.41.59.51 0 1.02-.2 1.41-.59l7.78-7.78 2.81-2.81c.8-.78.8-2.07 0-2.86zM5.41 20L4 18.59l7.72-7.72 1.47 1.35L5.41 20z\"/>\n",
              "  </svg>\n",
              "      </button>\n",
              "      \n",
              "  <style>\n",
              "    .colab-df-container {\n",
              "      display:flex;\n",
              "      flex-wrap:wrap;\n",
              "      gap: 12px;\n",
              "    }\n",
              "\n",
              "    .colab-df-convert {\n",
              "      background-color: #E8F0FE;\n",
              "      border: none;\n",
              "      border-radius: 50%;\n",
              "      cursor: pointer;\n",
              "      display: none;\n",
              "      fill: #1967D2;\n",
              "      height: 32px;\n",
              "      padding: 0 0 0 0;\n",
              "      width: 32px;\n",
              "    }\n",
              "\n",
              "    .colab-df-convert:hover {\n",
              "      background-color: #E2EBFA;\n",
              "      box-shadow: 0px 1px 2px rgba(60, 64, 67, 0.3), 0px 1px 3px 1px rgba(60, 64, 67, 0.15);\n",
              "      fill: #174EA6;\n",
              "    }\n",
              "\n",
              "    [theme=dark] .colab-df-convert {\n",
              "      background-color: #3B4455;\n",
              "      fill: #D2E3FC;\n",
              "    }\n",
              "\n",
              "    [theme=dark] .colab-df-convert:hover {\n",
              "      background-color: #434B5C;\n",
              "      box-shadow: 0px 1px 3px 1px rgba(0, 0, 0, 0.15);\n",
              "      filter: drop-shadow(0px 1px 2px rgba(0, 0, 0, 0.3));\n",
              "      fill: #FFFFFF;\n",
              "    }\n",
              "  </style>\n",
              "\n",
              "      <script>\n",
              "        const buttonEl =\n",
              "          document.querySelector('#df-273155ce-322d-443b-8459-20d4aa594f8d button.colab-df-convert');\n",
              "        buttonEl.style.display =\n",
              "          google.colab.kernel.accessAllowed ? 'block' : 'none';\n",
              "\n",
              "        async function convertToInteractive(key) {\n",
              "          const element = document.querySelector('#df-273155ce-322d-443b-8459-20d4aa594f8d');\n",
              "          const dataTable =\n",
              "            await google.colab.kernel.invokeFunction('convertToInteractive',\n",
              "                                                     [key], {});\n",
              "          if (!dataTable) return;\n",
              "\n",
              "          const docLinkHtml = 'Like what you see? Visit the ' +\n",
              "            '<a target=\"_blank\" href=https://colab.research.google.com/notebooks/data_table.ipynb>data table notebook</a>'\n",
              "            + ' to learn more about interactive tables.';\n",
              "          element.innerHTML = '';\n",
              "          dataTable['output_type'] = 'display_data';\n",
              "          await google.colab.output.renderOutput(dataTable, element);\n",
              "          const docLink = document.createElement('div');\n",
              "          docLink.innerHTML = docLinkHtml;\n",
              "          element.appendChild(docLink);\n",
              "        }\n",
              "      </script>\n",
              "    </div>\n",
              "  </div>\n",
              "  "
            ]
          },
          "metadata": {},
          "execution_count": 75
        }
      ]
    },
    {
      "cell_type": "markdown",
      "source": [
        "###Análise de população e PEA dos dois maiores e menores PIBs per capita"
      ],
      "metadata": {
        "id": "pdOkaP4BeW2L"
      }
    },
    {
      "cell_type": "code",
      "source": [
        "cols1 = ['ano', 'populacao', 'populacao_economicamente_ativa']\n",
        "cols2 = ['populacao', 'populacao_economicamente_ativa']"
      ],
      "metadata": {
        "id": "X3ean5FIeWLw"
      },
      "execution_count": 76,
      "outputs": []
    },
    {
      "cell_type": "code",
      "source": [
        "plot_populacao_anos('SP', cols1, cols2, 'População', 'População e PEA de SP por ano')"
      ],
      "metadata": {
        "colab": {
          "base_uri": "https://localhost:8080/",
          "height": 419
        },
        "id": "SekXbw6qf2jy",
        "outputId": "0768da49-435b-419a-85e1-e02f5a11e623"
      },
      "execution_count": 77,
      "outputs": [
        {
          "output_type": "display_data",
          "data": {
            "text/plain": [
              "<Figure size 720x432 with 1 Axes>"
            ],
            "image/png": "[encoded data removed]"
          },
          "metadata": {
            "needs_background": "light"
          }
        }
      ]
    },
    {
      "cell_type": "code",
      "source": [
        "plot_populacao_anos('RJ', cols1, cols2, 'População', 'População e PEA de RJ por ano')"
      ],
      "metadata": {
        "colab": {
          "base_uri": "https://localhost:8080/",
          "height": 419
        },
        "id": "FP1ByDHRgYEK",
        "outputId": "195f5a3e-2c6d-44e3-df1e-40c164956c82"
      },
      "execution_count": 78,
      "outputs": [
        {
          "output_type": "display_data",
          "data": {
            "text/plain": [
              "<Figure size 720x432 with 1 Axes>"
            ],
            "image/png": "[encoded data removed]"
          },
          "metadata": {
            "needs_background": "light"
          }
        }
      ]
    },
    {
      "cell_type": "code",
      "source": [
        "plot_populacao_anos('MA', cols1, cols2, 'População', 'População e PEA de MA por ano')"
      ],
      "metadata": {
        "colab": {
          "base_uri": "https://localhost:8080/",
          "height": 419
        },
        "id": "DtnYKsh8g9En",
        "outputId": "8e90d4e5-a63c-4726-fa3c-5c6b9617d37b"
      },
      "execution_count": 79,
      "outputs": [
        {
          "output_type": "display_data",
          "data": {
            "text/plain": [
              "<Figure size 720x432 with 1 Axes>"
            ],
            "image/png": "[encoded data removed]"
          },
          "metadata": {
            "needs_background": "light"
          }
        }
      ]
    },
    {
      "cell_type": "code",
      "source": [
        "plot_populacao_anos('PI', cols1, cols2, 'População', 'População e PEA de PI por ano')"
      ],
      "metadata": {
        "colab": {
          "base_uri": "https://localhost:8080/",
          "height": 419
        },
        "id": "8L7KhrVshUDw",
        "outputId": "6342940e-3f9f-437f-c51d-746ec678b450"
      },
      "execution_count": 80,
      "outputs": [
        {
          "output_type": "display_data",
          "data": {
            "text/plain": [
              "<Figure size 720x432 with 1 Axes>"
            ],
            "image/png": "[encoded data removed]"
          },
          "metadata": {
            "needs_background": "light"
          }
        }
      ]
    }
  ]
}